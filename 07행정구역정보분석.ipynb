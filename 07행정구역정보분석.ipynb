{
 "cells": [
  {
   "cell_type": "markdown",
   "source": [
    "### 행정구역 정보를 읽고 분석하기\n",
    "* read_csv() 함수로 csv file 읽어오기\n",
    "* 특정행과 열을 선택하기\n",
    "* 컬럼명 변경\n",
    "* 상관관계 분석(인구수와 면적간의 상관관계)\n",
    "* 시각화"
   ],
   "metadata": {
    "collapsed": false
   }
  },
  {
   "cell_type": "code",
   "execution_count": 2,
   "metadata": {
    "collapsed": true
   },
   "outputs": [
    {
     "name": "stdout",
     "output_type": "stream",
     "text": [
      "<class 'pandas.core.frame.DataFrame'>\n"
     ]
    },
    {
     "data": {
      "text/plain": "   Unnamed: 0     인구수 shortName   x  y       면적 광역시도 행정구역\n0           0  202520        강릉  11  4  1040.07  강원도  강릉시\n1           1   25589    고성(강원)   9  0   664.19  강원도  고성군\n2           2   86747        동해  11  5   180.01  강원도  동해시\n3           3   63986        삼척  11  8  1185.80  강원도  삼척시\n4           4   76733        속초   9  1   105.25  강원도  속초시",
      "text/html": "<div>\n<style scoped>\n    .dataframe tbody tr th:only-of-type {\n        vertical-align: middle;\n    }\n\n    .dataframe tbody tr th {\n        vertical-align: top;\n    }\n\n    .dataframe thead th {\n        text-align: right;\n    }\n</style>\n<table border=\"1\" class=\"dataframe\">\n  <thead>\n    <tr style=\"text-align: right;\">\n      <th></th>\n      <th>Unnamed: 0</th>\n      <th>인구수</th>\n      <th>shortName</th>\n      <th>x</th>\n      <th>y</th>\n      <th>면적</th>\n      <th>광역시도</th>\n      <th>행정구역</th>\n    </tr>\n  </thead>\n  <tbody>\n    <tr>\n      <th>0</th>\n      <td>0</td>\n      <td>202520</td>\n      <td>강릉</td>\n      <td>11</td>\n      <td>4</td>\n      <td>1040.07</td>\n      <td>강원도</td>\n      <td>강릉시</td>\n    </tr>\n    <tr>\n      <th>1</th>\n      <td>1</td>\n      <td>25589</td>\n      <td>고성(강원)</td>\n      <td>9</td>\n      <td>0</td>\n      <td>664.19</td>\n      <td>강원도</td>\n      <td>고성군</td>\n    </tr>\n    <tr>\n      <th>2</th>\n      <td>2</td>\n      <td>86747</td>\n      <td>동해</td>\n      <td>11</td>\n      <td>5</td>\n      <td>180.01</td>\n      <td>강원도</td>\n      <td>동해시</td>\n    </tr>\n    <tr>\n      <th>3</th>\n      <td>3</td>\n      <td>63986</td>\n      <td>삼척</td>\n      <td>11</td>\n      <td>8</td>\n      <td>1185.80</td>\n      <td>강원도</td>\n      <td>삼척시</td>\n    </tr>\n    <tr>\n      <th>4</th>\n      <td>4</td>\n      <td>76733</td>\n      <td>속초</td>\n      <td>9</td>\n      <td>1</td>\n      <td>105.25</td>\n      <td>강원도</td>\n      <td>속초시</td>\n    </tr>\n  </tbody>\n</table>\n</div>"
     },
     "execution_count": 2,
     "metadata": {},
     "output_type": "execute_result"
    }
   ],
   "source": [
    "import pandas as pd\n",
    "\n",
    "data = pd.read_csv('data/data_draw_korea.csv')\n",
    "print(type(data))\n",
    "data.head()"
   ]
  },
  {
   "cell_type": "code",
   "execution_count": 3,
   "outputs": [
    {
     "data": {
      "text/plain": "     Unnamed: 0    인구수 shortName   x   y      면적  광역시도 행정구역\n18           18  53497        가평   9   3  843.04   경기도  가평군\n79           79  16009        영양  11  10  815.11  경상북도  영양군\n217         217  87904        홍성   2  10  443.90  충청남도  홍성군",
      "text/html": "<div>\n<style scoped>\n    .dataframe tbody tr th:only-of-type {\n        vertical-align: middle;\n    }\n\n    .dataframe tbody tr th {\n        vertical-align: top;\n    }\n\n    .dataframe thead th {\n        text-align: right;\n    }\n</style>\n<table border=\"1\" class=\"dataframe\">\n  <thead>\n    <tr style=\"text-align: right;\">\n      <th></th>\n      <th>Unnamed: 0</th>\n      <th>인구수</th>\n      <th>shortName</th>\n      <th>x</th>\n      <th>y</th>\n      <th>면적</th>\n      <th>광역시도</th>\n      <th>행정구역</th>\n    </tr>\n  </thead>\n  <tbody>\n    <tr>\n      <th>18</th>\n      <td>18</td>\n      <td>53497</td>\n      <td>가평</td>\n      <td>9</td>\n      <td>3</td>\n      <td>843.04</td>\n      <td>경기도</td>\n      <td>가평군</td>\n    </tr>\n    <tr>\n      <th>79</th>\n      <td>79</td>\n      <td>16009</td>\n      <td>영양</td>\n      <td>11</td>\n      <td>10</td>\n      <td>815.11</td>\n      <td>경상북도</td>\n      <td>영양군</td>\n    </tr>\n    <tr>\n      <th>217</th>\n      <td>217</td>\n      <td>87904</td>\n      <td>홍성</td>\n      <td>2</td>\n      <td>10</td>\n      <td>443.90</td>\n      <td>충청남도</td>\n      <td>홍성군</td>\n    </tr>\n  </tbody>\n</table>\n</div>"
     },
     "execution_count": 3,
     "metadata": {},
     "output_type": "execute_result"
    }
   ],
   "source": [
    "data.sample(3)"
   ],
   "metadata": {
    "collapsed": false,
    "pycharm": {
     "name": "#%%\n"
    }
   }
  },
  {
   "cell_type": "code",
   "execution_count": 4,
   "outputs": [
    {
     "name": "stdout",
     "output_type": "stream",
     "text": [
      "(229, 8)\n",
      "Index(['Unnamed: 0', '인구수', 'shortName', 'x', 'y', '면적', '광역시도', '행정구역'], dtype='object')\n",
      "RangeIndex(start=0, stop=229, step=1)\n"
     ]
    }
   ],
   "source": [
    "print(data.shape)\n",
    "print(data.columns)\n",
    "print(data.index)"
   ],
   "metadata": {
    "collapsed": false,
    "pycharm": {
     "name": "#%%\n"
    }
   }
  },
  {
   "cell_type": "code",
   "execution_count": 5,
   "outputs": [
    {
     "name": "stdout",
     "output_type": "stream",
     "text": [
      "<class 'pandas.core.frame.DataFrame'>\n",
      "RangeIndex: 229 entries, 0 to 228\n",
      "Data columns (total 8 columns):\n",
      " #   Column      Non-Null Count  Dtype  \n",
      "---  ------      --------------  -----  \n",
      " 0   Unnamed: 0  229 non-null    int64  \n",
      " 1   인구수         229 non-null    int64  \n",
      " 2   shortName   229 non-null    object \n",
      " 3   x           229 non-null    int64  \n",
      " 4   y           229 non-null    int64  \n",
      " 5   면적          229 non-null    float64\n",
      " 6   광역시도        229 non-null    object \n",
      " 7   행정구역        229 non-null    object \n",
      "dtypes: float64(1), int64(4), object(3)\n",
      "memory usage: 14.4+ KB\n"
     ]
    }
   ],
   "source": [
    "data.info()"
   ],
   "metadata": {
    "collapsed": false,
    "pycharm": {
     "name": "#%%\n"
    }
   }
  },
  {
   "cell_type": "code",
   "execution_count": 6,
   "outputs": [
    {
     "data": {
      "text/plain": "       Unnamed: 0           인구수           x           y           면적\ncount  229.000000  2.290000e+02  229.000000  229.000000   229.000000\nmean   114.000000  2.110898e+05    6.117904   11.262009   435.419795\nstd     66.250786  2.074378e+05    3.320469    6.040898   381.612549\nmin      0.000000  8.392000e+03    0.000000    0.000000     2.800000\n25%     57.000000  4.955900e+04    3.000000    6.000000    54.000000\n50%    114.000000  1.401590e+05    6.000000   11.000000   436.400000\n75%    171.000000  3.216180e+05    9.000000   16.000000   692.800000\nmax    228.000000  1.125461e+06   13.000000   25.000000  1817.940000",
      "text/html": "<div>\n<style scoped>\n    .dataframe tbody tr th:only-of-type {\n        vertical-align: middle;\n    }\n\n    .dataframe tbody tr th {\n        vertical-align: top;\n    }\n\n    .dataframe thead th {\n        text-align: right;\n    }\n</style>\n<table border=\"1\" class=\"dataframe\">\n  <thead>\n    <tr style=\"text-align: right;\">\n      <th></th>\n      <th>Unnamed: 0</th>\n      <th>인구수</th>\n      <th>x</th>\n      <th>y</th>\n      <th>면적</th>\n    </tr>\n  </thead>\n  <tbody>\n    <tr>\n      <th>count</th>\n      <td>229.000000</td>\n      <td>2.290000e+02</td>\n      <td>229.000000</td>\n      <td>229.000000</td>\n      <td>229.000000</td>\n    </tr>\n    <tr>\n      <th>mean</th>\n      <td>114.000000</td>\n      <td>2.110898e+05</td>\n      <td>6.117904</td>\n      <td>11.262009</td>\n      <td>435.419795</td>\n    </tr>\n    <tr>\n      <th>std</th>\n      <td>66.250786</td>\n      <td>2.074378e+05</td>\n      <td>3.320469</td>\n      <td>6.040898</td>\n      <td>381.612549</td>\n    </tr>\n    <tr>\n      <th>min</th>\n      <td>0.000000</td>\n      <td>8.392000e+03</td>\n      <td>0.000000</td>\n      <td>0.000000</td>\n      <td>2.800000</td>\n    </tr>\n    <tr>\n      <th>25%</th>\n      <td>57.000000</td>\n      <td>4.955900e+04</td>\n      <td>3.000000</td>\n      <td>6.000000</td>\n      <td>54.000000</td>\n    </tr>\n    <tr>\n      <th>50%</th>\n      <td>114.000000</td>\n      <td>1.401590e+05</td>\n      <td>6.000000</td>\n      <td>11.000000</td>\n      <td>436.400000</td>\n    </tr>\n    <tr>\n      <th>75%</th>\n      <td>171.000000</td>\n      <td>3.216180e+05</td>\n      <td>9.000000</td>\n      <td>16.000000</td>\n      <td>692.800000</td>\n    </tr>\n    <tr>\n      <th>max</th>\n      <td>228.000000</td>\n      <td>1.125461e+06</td>\n      <td>13.000000</td>\n      <td>25.000000</td>\n      <td>1817.940000</td>\n    </tr>\n  </tbody>\n</table>\n</div>"
     },
     "execution_count": 6,
     "metadata": {},
     "output_type": "execute_result"
    }
   ],
   "source": [
    "data.describe()"
   ],
   "metadata": {
    "collapsed": false,
    "pycharm": {
     "name": "#%%\n"
    }
   }
  },
  {
   "cell_type": "code",
   "execution_count": 7,
   "outputs": [
    {
     "name": "stdout",
     "output_type": "stream",
     "text": [
      "인구수최대 1125461\n",
      "인구수최소 8392\n",
      "인구수평균 211089.77729257641\n",
      "인구수표준편차 207437.8370475227\n"
     ]
    }
   ],
   "source": [
    "print('인구수최대',data['인구수'].max())\n",
    "print('인구수최소',data['인구수'].min())\n",
    "print('인구수평균',data['인구수'].mean())\n",
    "print('인구수표준편차',data['인구수'].std())\n",
    "\n",
    "\n"
   ],
   "metadata": {
    "collapsed": false,
    "pycharm": {
     "name": "#%%\n"
    }
   }
  },
  {
   "cell_type": "code",
   "execution_count": 8,
   "outputs": [
    {
     "data": {
      "text/plain": "array(['강원도', '경기도', '경상남도', '경상북도', '광주광역시', '대구광역시', '대전광역시', '부산광역시',\n       '서울특별시', '세종특별자치시', '울산광역시', '인천광역시', '전라남도', '전라북도', '제주특별자치도',\n       '충청남도', '충청북도'], dtype=object)"
     },
     "execution_count": 8,
     "metadata": {},
     "output_type": "execute_result"
    }
   ],
   "source": [
    "#unique한 광역시도명\n",
    "\n",
    "data['광역시도'].unique()"
   ],
   "metadata": {
    "collapsed": false,
    "pycharm": {
     "name": "#%%\n"
    }
   }
  },
  {
   "cell_type": "code",
   "execution_count": 9,
   "outputs": [
    {
     "data": {
      "text/plain": "경기도        31\n서울특별시      25\n경상북도       23\n전라남도       22\n강원도        18\n경상남도       18\n부산광역시      16\n충청남도       15\n전라북도       14\n충청북도       11\n인천광역시      10\n대구광역시       8\n대전광역시       5\n광주광역시       5\n울산광역시       5\n제주특별자치도     2\n세종특별자치시     1\nName: 광역시도, dtype: int64"
     },
     "execution_count": 9,
     "metadata": {},
     "output_type": "execute_result"
    }
   ],
   "source": [
    "#광역시도 값 row counting\n",
    "data['광역시도'].value_counts()"
   ],
   "metadata": {
    "collapsed": false,
    "pycharm": {
     "name": "#%%\n"
    }
   }
  },
  {
   "cell_type": "code",
   "execution_count": 10,
   "outputs": [
    {
     "data": {
      "text/plain": "     Unnamed: 0     인구수 shortName  x  y     면적   광역시도  행정구역\n124         124  526157      서울강남  6  7  39.50  서울특별시   강남구\n125         125  432028      서울강동  8  5  24.60  서울특별시   강동구\n126         126  310292      서울강북  5  2  23.60  서울특별시   강북구\n127         127  554709      서울강서  4  4  41.40  서울특별시   강서구\n128         128  484478      서울관악  5  6  29.60  서울특별시   관악구\n129         129  342909      서울광진  7  6  17.05  서울특별시   광진구\n130         130  401233      서울구로  4  7  20.11  서울특별시   구로구\n131         131  222566      서울금천  5  7  13.01  서울특별시   금천구\n132         132  547202      서울노원  6  1  35.44  서울특별시   노원구\n133         133  331682      서울도봉  5  1  20.80  서울특별시   도봉구\n134         134  342429     서울동대문  7  4  14.20  서울특별시  동대문구\n135         135  383917      서울동작  5  5  16.36  서울특별시   동작구\n136         136  364232      서울마포  5  4  23.87  서울특별시   마포구\n137         137  288543     서울서대문  5  3  17.60  서울특별시  서대문구\n138         138  407416      서울서초  6  6  47.04  서울특별시   서초구\n139         139  279939      서울성동  7  5  16.85  서울특별시   성동구\n140         140  434061      서울성북  6  2  24.57  서울특별시   성북구\n141         141  615487      서울송파  8  6  33.90  서울특별시   송파구\n142         142  453634      서울양천  4  5  17.40  서울특별시   양천구\n143         143  351837     서울영등포  4  6  24.56  서울특별시  영등포구\n144         144  208603      서울용산  6  5  21.87  서울특별시   용산구\n145         145  464236      서울은평  4  3  29.70  서울특별시   은평구\n146         146  140595      서울종로  6  3  23.90  서울특별시   종로구\n147         147  114967      서울중구  6  4   9.96  서울특별시    중구\n148         148  391655      서울중랑  8  4  18.50  서울특별시   중랑구",
      "text/html": "<div>\n<style scoped>\n    .dataframe tbody tr th:only-of-type {\n        vertical-align: middle;\n    }\n\n    .dataframe tbody tr th {\n        vertical-align: top;\n    }\n\n    .dataframe thead th {\n        text-align: right;\n    }\n</style>\n<table border=\"1\" class=\"dataframe\">\n  <thead>\n    <tr style=\"text-align: right;\">\n      <th></th>\n      <th>Unnamed: 0</th>\n      <th>인구수</th>\n      <th>shortName</th>\n      <th>x</th>\n      <th>y</th>\n      <th>면적</th>\n      <th>광역시도</th>\n      <th>행정구역</th>\n    </tr>\n  </thead>\n  <tbody>\n    <tr>\n      <th>124</th>\n      <td>124</td>\n      <td>526157</td>\n      <td>서울강남</td>\n      <td>6</td>\n      <td>7</td>\n      <td>39.50</td>\n      <td>서울특별시</td>\n      <td>강남구</td>\n    </tr>\n    <tr>\n      <th>125</th>\n      <td>125</td>\n      <td>432028</td>\n      <td>서울강동</td>\n      <td>8</td>\n      <td>5</td>\n      <td>24.60</td>\n      <td>서울특별시</td>\n      <td>강동구</td>\n    </tr>\n    <tr>\n      <th>126</th>\n      <td>126</td>\n      <td>310292</td>\n      <td>서울강북</td>\n      <td>5</td>\n      <td>2</td>\n      <td>23.60</td>\n      <td>서울특별시</td>\n      <td>강북구</td>\n    </tr>\n    <tr>\n      <th>127</th>\n      <td>127</td>\n      <td>554709</td>\n      <td>서울강서</td>\n      <td>4</td>\n      <td>4</td>\n      <td>41.40</td>\n      <td>서울특별시</td>\n      <td>강서구</td>\n    </tr>\n    <tr>\n      <th>128</th>\n      <td>128</td>\n      <td>484478</td>\n      <td>서울관악</td>\n      <td>5</td>\n      <td>6</td>\n      <td>29.60</td>\n      <td>서울특별시</td>\n      <td>관악구</td>\n    </tr>\n    <tr>\n      <th>129</th>\n      <td>129</td>\n      <td>342909</td>\n      <td>서울광진</td>\n      <td>7</td>\n      <td>6</td>\n      <td>17.05</td>\n      <td>서울특별시</td>\n      <td>광진구</td>\n    </tr>\n    <tr>\n      <th>130</th>\n      <td>130</td>\n      <td>401233</td>\n      <td>서울구로</td>\n      <td>4</td>\n      <td>7</td>\n      <td>20.11</td>\n      <td>서울특별시</td>\n      <td>구로구</td>\n    </tr>\n    <tr>\n      <th>131</th>\n      <td>131</td>\n      <td>222566</td>\n      <td>서울금천</td>\n      <td>5</td>\n      <td>7</td>\n      <td>13.01</td>\n      <td>서울특별시</td>\n      <td>금천구</td>\n    </tr>\n    <tr>\n      <th>132</th>\n      <td>132</td>\n      <td>547202</td>\n      <td>서울노원</td>\n      <td>6</td>\n      <td>1</td>\n      <td>35.44</td>\n      <td>서울특별시</td>\n      <td>노원구</td>\n    </tr>\n    <tr>\n      <th>133</th>\n      <td>133</td>\n      <td>331682</td>\n      <td>서울도봉</td>\n      <td>5</td>\n      <td>1</td>\n      <td>20.80</td>\n      <td>서울특별시</td>\n      <td>도봉구</td>\n    </tr>\n    <tr>\n      <th>134</th>\n      <td>134</td>\n      <td>342429</td>\n      <td>서울동대문</td>\n      <td>7</td>\n      <td>4</td>\n      <td>14.20</td>\n      <td>서울특별시</td>\n      <td>동대문구</td>\n    </tr>\n    <tr>\n      <th>135</th>\n      <td>135</td>\n      <td>383917</td>\n      <td>서울동작</td>\n      <td>5</td>\n      <td>5</td>\n      <td>16.36</td>\n      <td>서울특별시</td>\n      <td>동작구</td>\n    </tr>\n    <tr>\n      <th>136</th>\n      <td>136</td>\n      <td>364232</td>\n      <td>서울마포</td>\n      <td>5</td>\n      <td>4</td>\n      <td>23.87</td>\n      <td>서울특별시</td>\n      <td>마포구</td>\n    </tr>\n    <tr>\n      <th>137</th>\n      <td>137</td>\n      <td>288543</td>\n      <td>서울서대문</td>\n      <td>5</td>\n      <td>3</td>\n      <td>17.60</td>\n      <td>서울특별시</td>\n      <td>서대문구</td>\n    </tr>\n    <tr>\n      <th>138</th>\n      <td>138</td>\n      <td>407416</td>\n      <td>서울서초</td>\n      <td>6</td>\n      <td>6</td>\n      <td>47.04</td>\n      <td>서울특별시</td>\n      <td>서초구</td>\n    </tr>\n    <tr>\n      <th>139</th>\n      <td>139</td>\n      <td>279939</td>\n      <td>서울성동</td>\n      <td>7</td>\n      <td>5</td>\n      <td>16.85</td>\n      <td>서울특별시</td>\n      <td>성동구</td>\n    </tr>\n    <tr>\n      <th>140</th>\n      <td>140</td>\n      <td>434061</td>\n      <td>서울성북</td>\n      <td>6</td>\n      <td>2</td>\n      <td>24.57</td>\n      <td>서울특별시</td>\n      <td>성북구</td>\n    </tr>\n    <tr>\n      <th>141</th>\n      <td>141</td>\n      <td>615487</td>\n      <td>서울송파</td>\n      <td>8</td>\n      <td>6</td>\n      <td>33.90</td>\n      <td>서울특별시</td>\n      <td>송파구</td>\n    </tr>\n    <tr>\n      <th>142</th>\n      <td>142</td>\n      <td>453634</td>\n      <td>서울양천</td>\n      <td>4</td>\n      <td>5</td>\n      <td>17.40</td>\n      <td>서울특별시</td>\n      <td>양천구</td>\n    </tr>\n    <tr>\n      <th>143</th>\n      <td>143</td>\n      <td>351837</td>\n      <td>서울영등포</td>\n      <td>4</td>\n      <td>6</td>\n      <td>24.56</td>\n      <td>서울특별시</td>\n      <td>영등포구</td>\n    </tr>\n    <tr>\n      <th>144</th>\n      <td>144</td>\n      <td>208603</td>\n      <td>서울용산</td>\n      <td>6</td>\n      <td>5</td>\n      <td>21.87</td>\n      <td>서울특별시</td>\n      <td>용산구</td>\n    </tr>\n    <tr>\n      <th>145</th>\n      <td>145</td>\n      <td>464236</td>\n      <td>서울은평</td>\n      <td>4</td>\n      <td>3</td>\n      <td>29.70</td>\n      <td>서울특별시</td>\n      <td>은평구</td>\n    </tr>\n    <tr>\n      <th>146</th>\n      <td>146</td>\n      <td>140595</td>\n      <td>서울종로</td>\n      <td>6</td>\n      <td>3</td>\n      <td>23.90</td>\n      <td>서울특별시</td>\n      <td>종로구</td>\n    </tr>\n    <tr>\n      <th>147</th>\n      <td>147</td>\n      <td>114967</td>\n      <td>서울중구</td>\n      <td>6</td>\n      <td>4</td>\n      <td>9.96</td>\n      <td>서울특별시</td>\n      <td>중구</td>\n    </tr>\n    <tr>\n      <th>148</th>\n      <td>148</td>\n      <td>391655</td>\n      <td>서울중랑</td>\n      <td>8</td>\n      <td>4</td>\n      <td>18.50</td>\n      <td>서울특별시</td>\n      <td>중랑구</td>\n    </tr>\n  </tbody>\n</table>\n</div>"
     },
     "execution_count": 10,
     "metadata": {},
     "output_type": "execute_result"
    }
   ],
   "source": [
    "##서울특별시\n",
    "data.loc[data['광역시도'] == '서울특별시']"
   ],
   "metadata": {
    "collapsed": false,
    "pycharm": {
     "name": "#%%\n"
    }
   }
  },
  {
   "cell_type": "code",
   "execution_count": 11,
   "outputs": [
    {
     "name": "stdout",
     "output_type": "stream",
     "text": [
      "    Unnamed: 0     인구수 shortName  x  y     면적   광역시도  행정구역\n",
      "0          141  615487      서울송파  8  6  33.90  서울특별시   송파구\n",
      "1          127  554709      서울강서  4  4  41.40  서울특별시   강서구\n",
      "2          132  547202      서울노원  6  1  35.44  서울특별시   노원구\n",
      "3          124  526157      서울강남  6  7  39.50  서울특별시   강남구\n",
      "4          128  484478      서울관악  5  6  29.60  서울특별시   관악구\n",
      "5          145  464236      서울은평  4  3  29.70  서울특별시   은평구\n",
      "6          142  453634      서울양천  4  5  17.40  서울특별시   양천구\n",
      "7          140  434061      서울성북  6  2  24.57  서울특별시   성북구\n",
      "8          125  432028      서울강동  8  5  24.60  서울특별시   강동구\n",
      "9          138  407416      서울서초  6  6  47.04  서울특별시   서초구\n",
      "10         130  401233      서울구로  4  7  20.11  서울특별시   구로구\n",
      "11         148  391655      서울중랑  8  4  18.50  서울특별시   중랑구\n",
      "12         135  383917      서울동작  5  5  16.36  서울특별시   동작구\n",
      "13         136  364232      서울마포  5  4  23.87  서울특별시   마포구\n",
      "14         143  351837     서울영등포  4  6  24.56  서울특별시  영등포구\n",
      "15         129  342909      서울광진  7  6  17.05  서울특별시   광진구\n",
      "16         134  342429     서울동대문  7  4  14.20  서울특별시  동대문구\n",
      "17         133  331682      서울도봉  5  1  20.80  서울특별시   도봉구\n",
      "18         126  310292      서울강북  5  2  23.60  서울특별시   강북구\n",
      "19         137  288543     서울서대문  5  3  17.60  서울특별시  서대문구\n",
      "20         139  279939      서울성동  7  5  16.85  서울특별시   성동구\n",
      "21         131  222566      서울금천  5  7  13.01  서울특별시   금천구\n",
      "22         144  208603      서울용산  6  5  21.87  서울특별시   용산구\n",
      "23         146  140595      서울종로  6  3  23.90  서울특별시   종로구\n",
      "24         147  114967      서울중구  6  4   9.96  서울특별시    중구\n",
      "서울특별시의 인구평균 =  375792.28\n",
      "서울특별시의 표준편차 =  125231.24797500289\n"
     ]
    }
   ],
   "source": [
    "seoul_data = data.loc[data['광역시도'] == '서울특별시']\n",
    "print(seoul_data.sort_values(by='인구수',ascending=False).reset_index(drop=True))\n",
    "\n",
    "print('서울특별시의 인구평균 = ',seoul_data['인구수'].mean())\n",
    "print('서울특별시의 표준편차 = ',seoul_data['인구수'].std())"
   ],
   "metadata": {
    "collapsed": false,
    "pycharm": {
     "name": "#%%\n"
    }
   }
  },
  {
   "cell_type": "code",
   "execution_count": 12,
   "outputs": [
    {
     "name": "stdout",
     "output_type": "stream",
     "text": [
      "경기도의 평균 인구수 = 인구수    378845.483871\n",
      "dtype: float64 명\n",
      "경기도의 인구 표준편차 = 인구수    304548.395142\n",
      "dtype: float64\n"
     ]
    }
   ],
   "source": [
    "kk_data = data.loc[data['광역시도'] == '경기도',['인구수']]\n",
    "print(f'경기도의 평균 인구수 = {kk_data.mean()} 명')\n",
    "print(f'경기도의 인구 표준편차 = {kk_data.std()}')"
   ],
   "metadata": {
    "collapsed": false,
    "pycharm": {
     "name": "#%%\n"
    }
   }
  },
  {
   "cell_type": "code",
   "execution_count": 20,
   "outputs": [
    {
     "data": {
      "text/plain": "       인구수       면적 행정구역\n0   488395  1127.00  포항시\n1   396685   616.10  구미시\n2   251220   411.58  경산시\n3   242618  1323.85  경주시\n4   157317  1519.00  안동시\n5   127941  1009.56  김천시\n6   112446   451.00  칠곡군\n7   101612   668.45  영주시\n8    93305  1254.82  상주시\n9    91214   919.76  영천시\n10   67919   912.00  문경시\n11   48776  1175.89  의성군\n12   46748   989.06  울진군\n13   40779   660.70  예천군\n14   38571   696.52  청도군\n15   38277   616.28  성주군\n16   34864   741.05  영덕군\n17   31189   383.70  고령군\n18   30287  1201.00  봉화군\n19   23804   842.45  청송군\n20   20596   614.15  군위군\n21   16009   815.11  영양군\n22    8392    72.82  울릉군",
      "text/html": "<div>\n<style scoped>\n    .dataframe tbody tr th:only-of-type {\n        vertical-align: middle;\n    }\n\n    .dataframe tbody tr th {\n        vertical-align: top;\n    }\n\n    .dataframe thead th {\n        text-align: right;\n    }\n</style>\n<table border=\"1\" class=\"dataframe\">\n  <thead>\n    <tr style=\"text-align: right;\">\n      <th></th>\n      <th>인구수</th>\n      <th>면적</th>\n      <th>행정구역</th>\n    </tr>\n  </thead>\n  <tbody>\n    <tr>\n      <th>0</th>\n      <td>488395</td>\n      <td>1127.00</td>\n      <td>포항시</td>\n    </tr>\n    <tr>\n      <th>1</th>\n      <td>396685</td>\n      <td>616.10</td>\n      <td>구미시</td>\n    </tr>\n    <tr>\n      <th>2</th>\n      <td>251220</td>\n      <td>411.58</td>\n      <td>경산시</td>\n    </tr>\n    <tr>\n      <th>3</th>\n      <td>242618</td>\n      <td>1323.85</td>\n      <td>경주시</td>\n    </tr>\n    <tr>\n      <th>4</th>\n      <td>157317</td>\n      <td>1519.00</td>\n      <td>안동시</td>\n    </tr>\n    <tr>\n      <th>5</th>\n      <td>127941</td>\n      <td>1009.56</td>\n      <td>김천시</td>\n    </tr>\n    <tr>\n      <th>6</th>\n      <td>112446</td>\n      <td>451.00</td>\n      <td>칠곡군</td>\n    </tr>\n    <tr>\n      <th>7</th>\n      <td>101612</td>\n      <td>668.45</td>\n      <td>영주시</td>\n    </tr>\n    <tr>\n      <th>8</th>\n      <td>93305</td>\n      <td>1254.82</td>\n      <td>상주시</td>\n    </tr>\n    <tr>\n      <th>9</th>\n      <td>91214</td>\n      <td>919.76</td>\n      <td>영천시</td>\n    </tr>\n    <tr>\n      <th>10</th>\n      <td>67919</td>\n      <td>912.00</td>\n      <td>문경시</td>\n    </tr>\n    <tr>\n      <th>11</th>\n      <td>48776</td>\n      <td>1175.89</td>\n      <td>의성군</td>\n    </tr>\n    <tr>\n      <th>12</th>\n      <td>46748</td>\n      <td>989.06</td>\n      <td>울진군</td>\n    </tr>\n    <tr>\n      <th>13</th>\n      <td>40779</td>\n      <td>660.70</td>\n      <td>예천군</td>\n    </tr>\n    <tr>\n      <th>14</th>\n      <td>38571</td>\n      <td>696.52</td>\n      <td>청도군</td>\n    </tr>\n    <tr>\n      <th>15</th>\n      <td>38277</td>\n      <td>616.28</td>\n      <td>성주군</td>\n    </tr>\n    <tr>\n      <th>16</th>\n      <td>34864</td>\n      <td>741.05</td>\n      <td>영덕군</td>\n    </tr>\n    <tr>\n      <th>17</th>\n      <td>31189</td>\n      <td>383.70</td>\n      <td>고령군</td>\n    </tr>\n    <tr>\n      <th>18</th>\n      <td>30287</td>\n      <td>1201.00</td>\n      <td>봉화군</td>\n    </tr>\n    <tr>\n      <th>19</th>\n      <td>23804</td>\n      <td>842.45</td>\n      <td>청송군</td>\n    </tr>\n    <tr>\n      <th>20</th>\n      <td>20596</td>\n      <td>614.15</td>\n      <td>군위군</td>\n    </tr>\n    <tr>\n      <th>21</th>\n      <td>16009</td>\n      <td>815.11</td>\n      <td>영양군</td>\n    </tr>\n    <tr>\n      <th>22</th>\n      <td>8392</td>\n      <td>72.82</td>\n      <td>울릉군</td>\n    </tr>\n  </tbody>\n</table>\n</div>"
     },
     "execution_count": 20,
     "metadata": {},
     "output_type": "execute_result"
    }
   ],
   "source": [
    "data.loc[data['광역시도'] == '경상북도',['인구수','면적','행정구역']].sort_values(by='인구수',ascending=False).reset_index(drop=True)"
   ],
   "metadata": {
    "collapsed": false,
    "pycharm": {
     "name": "#%%\n"
    }
   }
  },
  {
   "cell_type": "code",
   "execution_count": 30,
   "outputs": [
    {
     "name": "stdout",
     "output_type": "stream",
     "text": [
      "211089.77729257641\n"
     ]
    },
    {
     "data": {
      "text/plain": "   seq     인구수 shortName   x  y       면적 광역시도 행정구역\n0    0  202520        강릉  11  4  1040.07  강원도  강릉시\n1    1   25589    고성(강원)   9  0   664.19  강원도  고성군\n2    2   86747        동해  11  5   180.01  강원도  동해시\n3    3   63986        삼척  11  8  1185.80  강원도  삼척시\n4    4   76733        속초   9  1   105.25  강원도  속초시",
      "text/html": "<div>\n<style scoped>\n    .dataframe tbody tr th:only-of-type {\n        vertical-align: middle;\n    }\n\n    .dataframe tbody tr th {\n        vertical-align: top;\n    }\n\n    .dataframe thead th {\n        text-align: right;\n    }\n</style>\n<table border=\"1\" class=\"dataframe\">\n  <thead>\n    <tr style=\"text-align: right;\">\n      <th></th>\n      <th>seq</th>\n      <th>인구수</th>\n      <th>shortName</th>\n      <th>x</th>\n      <th>y</th>\n      <th>면적</th>\n      <th>광역시도</th>\n      <th>행정구역</th>\n    </tr>\n  </thead>\n  <tbody>\n    <tr>\n      <th>0</th>\n      <td>0</td>\n      <td>202520</td>\n      <td>강릉</td>\n      <td>11</td>\n      <td>4</td>\n      <td>1040.07</td>\n      <td>강원도</td>\n      <td>강릉시</td>\n    </tr>\n    <tr>\n      <th>1</th>\n      <td>1</td>\n      <td>25589</td>\n      <td>고성(강원)</td>\n      <td>9</td>\n      <td>0</td>\n      <td>664.19</td>\n      <td>강원도</td>\n      <td>고성군</td>\n    </tr>\n    <tr>\n      <th>2</th>\n      <td>2</td>\n      <td>86747</td>\n      <td>동해</td>\n      <td>11</td>\n      <td>5</td>\n      <td>180.01</td>\n      <td>강원도</td>\n      <td>동해시</td>\n    </tr>\n    <tr>\n      <th>3</th>\n      <td>3</td>\n      <td>63986</td>\n      <td>삼척</td>\n      <td>11</td>\n      <td>8</td>\n      <td>1185.80</td>\n      <td>강원도</td>\n      <td>삼척시</td>\n    </tr>\n    <tr>\n      <th>4</th>\n      <td>4</td>\n      <td>76733</td>\n      <td>속초</td>\n      <td>9</td>\n      <td>1</td>\n      <td>105.25</td>\n      <td>강원도</td>\n      <td>속초시</td>\n    </tr>\n  </tbody>\n</table>\n</div>"
     },
     "execution_count": 30,
     "metadata": {},
     "output_type": "execute_result"
    }
   ],
   "source": [
    "print(data['인구수'].mean())\n",
    "\n",
    "data.loc[data['인구수'].mean()> data['인구수']].head()"
   ],
   "metadata": {
    "collapsed": false,
    "pycharm": {
     "name": "#%%\n"
    }
   }
  },
  {
   "cell_type": "code",
   "execution_count": 24,
   "outputs": [
    {
     "data": {
      "text/plain": "       인구수 shortName  x  y\n20   63227        과천  7  7\n21  327111        광명  3  3\n22  290210        광주  8  7\n23  175676        구리  9  4\n24  273302        군포  5  8\n25  326523        김포  2  3",
      "text/html": "<div>\n<style scoped>\n    .dataframe tbody tr th:only-of-type {\n        vertical-align: middle;\n    }\n\n    .dataframe tbody tr th {\n        vertical-align: top;\n    }\n\n    .dataframe thead th {\n        text-align: right;\n    }\n</style>\n<table border=\"1\" class=\"dataframe\">\n  <thead>\n    <tr style=\"text-align: right;\">\n      <th></th>\n      <th>인구수</th>\n      <th>shortName</th>\n      <th>x</th>\n      <th>y</th>\n    </tr>\n  </thead>\n  <tbody>\n    <tr>\n      <th>20</th>\n      <td>63227</td>\n      <td>과천</td>\n      <td>7</td>\n      <td>7</td>\n    </tr>\n    <tr>\n      <th>21</th>\n      <td>327111</td>\n      <td>광명</td>\n      <td>3</td>\n      <td>3</td>\n    </tr>\n    <tr>\n      <th>22</th>\n      <td>290210</td>\n      <td>광주</td>\n      <td>8</td>\n      <td>7</td>\n    </tr>\n    <tr>\n      <th>23</th>\n      <td>175676</td>\n      <td>구리</td>\n      <td>9</td>\n      <td>4</td>\n    </tr>\n    <tr>\n      <th>24</th>\n      <td>273302</td>\n      <td>군포</td>\n      <td>5</td>\n      <td>8</td>\n    </tr>\n    <tr>\n      <th>25</th>\n      <td>326523</td>\n      <td>김포</td>\n      <td>2</td>\n      <td>3</td>\n    </tr>\n  </tbody>\n</table>\n</div>"
     },
     "execution_count": 24,
     "metadata": {},
     "output_type": "execute_result"
    }
   ],
   "source": [
    "#iloc 사용하기\n",
    "data.loc[20:25,'인구수':'광역시도']\n",
    "data.iloc[20:26,1:5]"
   ],
   "metadata": {
    "collapsed": false,
    "pycharm": {
     "name": "#%%\n"
    }
   }
  },
  {
   "cell_type": "code",
   "execution_count": 40,
   "outputs": [
    {
     "data": {
      "text/plain": "   seq     인구수 shortName   x  y       면적 광역시도 행정구역\n0    0  202520        강릉  11  4  1040.07  강원도  강릉시\n1    1   25589    고성(강원)   9  0   664.19  강원도  고성군\n2    2   86747        동해  11  5   180.01  강원도  동해시\n3    3   63986        삼척  11  8  1185.80  강원도  삼척시\n4    4   76733        속초   9  1   105.25  강원도  속초시",
      "text/html": "<div>\n<style scoped>\n    .dataframe tbody tr th:only-of-type {\n        vertical-align: middle;\n    }\n\n    .dataframe tbody tr th {\n        vertical-align: top;\n    }\n\n    .dataframe thead th {\n        text-align: right;\n    }\n</style>\n<table border=\"1\" class=\"dataframe\">\n  <thead>\n    <tr style=\"text-align: right;\">\n      <th></th>\n      <th>seq</th>\n      <th>인구수</th>\n      <th>shortName</th>\n      <th>x</th>\n      <th>y</th>\n      <th>면적</th>\n      <th>광역시도</th>\n      <th>행정구역</th>\n    </tr>\n  </thead>\n  <tbody>\n    <tr>\n      <th>0</th>\n      <td>0</td>\n      <td>202520</td>\n      <td>강릉</td>\n      <td>11</td>\n      <td>4</td>\n      <td>1040.07</td>\n      <td>강원도</td>\n      <td>강릉시</td>\n    </tr>\n    <tr>\n      <th>1</th>\n      <td>1</td>\n      <td>25589</td>\n      <td>고성(강원)</td>\n      <td>9</td>\n      <td>0</td>\n      <td>664.19</td>\n      <td>강원도</td>\n      <td>고성군</td>\n    </tr>\n    <tr>\n      <th>2</th>\n      <td>2</td>\n      <td>86747</td>\n      <td>동해</td>\n      <td>11</td>\n      <td>5</td>\n      <td>180.01</td>\n      <td>강원도</td>\n      <td>동해시</td>\n    </tr>\n    <tr>\n      <th>3</th>\n      <td>3</td>\n      <td>63986</td>\n      <td>삼척</td>\n      <td>11</td>\n      <td>8</td>\n      <td>1185.80</td>\n      <td>강원도</td>\n      <td>삼척시</td>\n    </tr>\n    <tr>\n      <th>4</th>\n      <td>4</td>\n      <td>76733</td>\n      <td>속초</td>\n      <td>9</td>\n      <td>1</td>\n      <td>105.25</td>\n      <td>강원도</td>\n      <td>속초시</td>\n    </tr>\n  </tbody>\n</table>\n</div>"
     },
     "execution_count": 40,
     "metadata": {},
     "output_type": "execute_result"
    }
   ],
   "source": [
    "#칼럼명 변경\n",
    "data = data.rename(columns={'Unnamed: 0':'seq'})\n",
    "data"
   ],
   "metadata": {
    "collapsed": false,
    "pycharm": {
     "name": "#%%\n"
    }
   }
  },
  {
   "cell_type": "code",
   "execution_count": 33,
   "outputs": [
    {
     "data": {
      "text/plain": "        인구수 shortName   x  y       면적 광역시도 행정구역\nseq                                            \n0    202520        강릉  11  4  1040.07  강원도  강릉시\n1     25589    고성(강원)   9  0   664.19  강원도  고성군\n2     86747        동해  11  5   180.01  강원도  동해시\n3     63986        삼척  11  8  1185.80  강원도  삼척시\n4     76733        속초   9  1   105.25  강원도  속초시",
      "text/html": "<div>\n<style scoped>\n    .dataframe tbody tr th:only-of-type {\n        vertical-align: middle;\n    }\n\n    .dataframe tbody tr th {\n        vertical-align: top;\n    }\n\n    .dataframe thead th {\n        text-align: right;\n    }\n</style>\n<table border=\"1\" class=\"dataframe\">\n  <thead>\n    <tr style=\"text-align: right;\">\n      <th></th>\n      <th>인구수</th>\n      <th>shortName</th>\n      <th>x</th>\n      <th>y</th>\n      <th>면적</th>\n      <th>광역시도</th>\n      <th>행정구역</th>\n    </tr>\n    <tr>\n      <th>seq</th>\n      <th></th>\n      <th></th>\n      <th></th>\n      <th></th>\n      <th></th>\n      <th></th>\n      <th></th>\n    </tr>\n  </thead>\n  <tbody>\n    <tr>\n      <th>0</th>\n      <td>202520</td>\n      <td>강릉</td>\n      <td>11</td>\n      <td>4</td>\n      <td>1040.07</td>\n      <td>강원도</td>\n      <td>강릉시</td>\n    </tr>\n    <tr>\n      <th>1</th>\n      <td>25589</td>\n      <td>고성(강원)</td>\n      <td>9</td>\n      <td>0</td>\n      <td>664.19</td>\n      <td>강원도</td>\n      <td>고성군</td>\n    </tr>\n    <tr>\n      <th>2</th>\n      <td>86747</td>\n      <td>동해</td>\n      <td>11</td>\n      <td>5</td>\n      <td>180.01</td>\n      <td>강원도</td>\n      <td>동해시</td>\n    </tr>\n    <tr>\n      <th>3</th>\n      <td>63986</td>\n      <td>삼척</td>\n      <td>11</td>\n      <td>8</td>\n      <td>1185.80</td>\n      <td>강원도</td>\n      <td>삼척시</td>\n    </tr>\n    <tr>\n      <th>4</th>\n      <td>76733</td>\n      <td>속초</td>\n      <td>9</td>\n      <td>1</td>\n      <td>105.25</td>\n      <td>강원도</td>\n      <td>속초시</td>\n    </tr>\n  </tbody>\n</table>\n</div>"
     },
     "execution_count": 33,
     "metadata": {},
     "output_type": "execute_result"
    }
   ],
   "source": [
    "#seq 컬럼을 index로 변경하기\n",
    "data.set_index('seq')"
   ],
   "metadata": {
    "collapsed": false,
    "pycharm": {
     "name": "#%%\n"
    }
   }
  },
  {
   "cell_type": "markdown",
   "source": [
    "# 광역시도별로 인구수가 가장 많은 행정구역은?\n",
    "- unique(),value_counts(),max() 함수사용\n",
    "- 사용자 정의 함수 선언하기"
   ],
   "metadata": {
    "collapsed": false,
    "pycharm": {
     "name": "#%% md\n"
    }
   }
  },
  {
   "cell_type": "code",
   "execution_count": 225,
   "outputs": [],
   "source": [
    "#경기도에서 인구수가 가장 많은 행정구역은?\n",
    "pop_max_value = data.loc[data['광역시도'] == '경기도','인구수'].max()\n",
    "\n",
    "\n",
    "\n",
    "\n",
    "\n",
    "\n"
   ],
   "metadata": {
    "collapsed": false,
    "pycharm": {
     "name": "#%%\n"
    }
   }
  },
  {
   "cell_type": "code",
   "execution_count": 226,
   "outputs": [
    {
     "data": {
      "text/plain": "    Unnamed: 0      인구수 shortName  x  y      면적 광역시도 행정구역\n30          30  1125461        수원  6  9  121.09  경기도  수원시",
      "text/html": "<div>\n<style scoped>\n    .dataframe tbody tr th:only-of-type {\n        vertical-align: middle;\n    }\n\n    .dataframe tbody tr th {\n        vertical-align: top;\n    }\n\n    .dataframe thead th {\n        text-align: right;\n    }\n</style>\n<table border=\"1\" class=\"dataframe\">\n  <thead>\n    <tr style=\"text-align: right;\">\n      <th></th>\n      <th>Unnamed: 0</th>\n      <th>인구수</th>\n      <th>shortName</th>\n      <th>x</th>\n      <th>y</th>\n      <th>면적</th>\n      <th>광역시도</th>\n      <th>행정구역</th>\n    </tr>\n  </thead>\n  <tbody>\n    <tr>\n      <th>30</th>\n      <td>30</td>\n      <td>1125461</td>\n      <td>수원</td>\n      <td>6</td>\n      <td>9</td>\n      <td>121.09</td>\n      <td>경기도</td>\n      <td>수원시</td>\n    </tr>\n  </tbody>\n</table>\n</div>"
     },
     "execution_count": 226,
     "metadata": {},
     "output_type": "execute_result"
    }
   ],
   "source": [
    "#광역시도가 경기도인 조건1, 인구수가 pop_max_value와 같은 조건2\n",
    "\n",
    "data.loc[(data['광역시도'] == '경기도')&(data['인구수'] == pop_max_value)]"
   ],
   "metadata": {
    "collapsed": false,
    "pycharm": {
     "name": "#%%\n"
    }
   }
  },
  {
   "cell_type": "code",
   "execution_count": 227,
   "outputs": [],
   "source": [
    "#sido_name (광역시도)을 argument로 받아서, 특정 광역시도중에서 가장 인구가 많은 행정구역을 반환하는 함수 정의하기\n",
    "def get_pop_max_city(sido_name):\n",
    "    pop_max_value = data.loc[data['광역시도'] == sido_name,'인구수'].max()\n",
    "    return data.loc[(data['광역시도'] == sido_name)&(data['인구수'] == pop_max_value),['광역시도','행정구역','인구수','면적']]\n"
   ],
   "metadata": {
    "collapsed": false,
    "pycharm": {
     "name": "#%%\n"
    }
   }
  },
  {
   "cell_type": "code",
   "execution_count": 228,
   "outputs": [
    {
     "data": {
      "text/plain": "      광역시도 행정구역     인구수    면적\n141  서울특별시  송파구  615487  33.9",
      "text/html": "<div>\n<style scoped>\n    .dataframe tbody tr th:only-of-type {\n        vertical-align: middle;\n    }\n\n    .dataframe tbody tr th {\n        vertical-align: top;\n    }\n\n    .dataframe thead th {\n        text-align: right;\n    }\n</style>\n<table border=\"1\" class=\"dataframe\">\n  <thead>\n    <tr style=\"text-align: right;\">\n      <th></th>\n      <th>광역시도</th>\n      <th>행정구역</th>\n      <th>인구수</th>\n      <th>면적</th>\n    </tr>\n  </thead>\n  <tbody>\n    <tr>\n      <th>141</th>\n      <td>서울특별시</td>\n      <td>송파구</td>\n      <td>615487</td>\n      <td>33.9</td>\n    </tr>\n  </tbody>\n</table>\n</div>"
     },
     "execution_count": 228,
     "metadata": {},
     "output_type": "execute_result"
    }
   ],
   "source": [
    "get_pop_max_city('서울특별시')"
   ],
   "metadata": {
    "collapsed": false,
    "pycharm": {
     "name": "#%%\n"
    }
   }
  },
  {
   "cell_type": "code",
   "execution_count": 205,
   "outputs": [
    {
     "name": "stdout",
     "output_type": "stream",
     "text": [
      "강원도\n",
      "경기도\n",
      "경상남도\n",
      "경상북도\n",
      "광주광역시\n",
      "대구광역시\n",
      "대전광역시\n",
      "부산광역시\n",
      "서울특별시\n",
      "세종특별자치시\n",
      "울산광역시\n",
      "인천광역시\n",
      "전라남도\n",
      "전라북도\n",
      "제주특별자치도\n",
      "충청남도\n",
      "충청북도\n"
     ]
    },
    {
     "data": {
      "text/plain": "Empty DataFrame\nColumns: [광역시도, 행정구역, 인구수, 면적]\nIndex: []",
      "text/html": "<div>\n<style scoped>\n    .dataframe tbody tr th:only-of-type {\n        vertical-align: middle;\n    }\n\n    .dataframe tbody tr th {\n        vertical-align: top;\n    }\n\n    .dataframe thead th {\n        text-align: right;\n    }\n</style>\n<table border=\"1\" class=\"dataframe\">\n  <thead>\n    <tr style=\"text-align: right;\">\n      <th></th>\n      <th>광역시도</th>\n      <th>행정구역</th>\n      <th>인구수</th>\n      <th>면적</th>\n    </tr>\n  </thead>\n  <tbody>\n  </tbody>\n</table>\n</div>"
     },
     "execution_count": 205,
     "metadata": {},
     "output_type": "execute_result"
    }
   ],
   "source": [
    "pop_max_city_df = pd.DataFrame(columns=['광역시도','행정구역','인구수','면적'])\n",
    "for sido_name in data['광역시도'].unique():\n",
    "\n",
    "\n",
    "\n",
    "pop_max_city_df\n"
   ],
   "metadata": {
    "collapsed": false,
    "pycharm": {
     "name": "#%%\n"
    }
   }
  },
  {
   "cell_type": "markdown",
   "source": [
    "# 광역시도별로 인구수가 가장 많고, 면적이 가장 넓은 행정구역은?\n",
    "- 1단계 : 광역시도별 면적이 가장 넓은 행정구역은?\n",
    "- 2단계 : 광역시도별 인구수가 가장 많고, 면적이 가장 넓은 행정구역은?\n",
    "- unique(),value(),counts(),max() 함수사용\n",
    "\n",
    "# misson2 광역시도별로 인구수와 면적간의 상관계수 구하기\n",
    "- 광역시도 | 상관계쑤"
   ],
   "metadata": {
    "collapsed": false,
    "pycharm": {
     "name": "#%% md\n"
    }
   }
  },
  {
   "cell_type": "code",
   "execution_count": 12,
   "outputs": [
    {
     "name": "stdout",
     "output_type": "stream",
     "text": [
      "        광역시도  행정구역      인구수   면젹  Unnamed: 0 shortName     x     y       면적\n",
      "8        강원도   원주시   313851  NaN         8.0        원주  10.0   7.0   867.30\n",
      "15       강원도   홍천군    62957  NaN        15.0        홍천  10.0   4.0  1817.94\n",
      "30       경기도   수원시  1125461  NaN        30.0        수원   6.0   9.0   121.09\n",
      "36       경기도   양평군    95614  NaN        36.0        양평   9.0   6.0   877.08\n",
      "61      경상남도   창원시  1010040  NaN        61.0        창원   7.0  18.0   734.87\n",
      "66      경상남도   합천군    42515  NaN        66.0        합천   7.0  14.0   983.42\n",
      "77      경상북도   안동시   157317  NaN        77.0        안동  10.0  10.0  1519.00\n",
      "89      경상북도   포항시   488395  NaN        89.0        포항  12.0  11.0  1127.00\n",
      "90     광주광역시   광산구   389386  NaN        90.0      광주광산   2.0  19.0   222.88\n",
      "93     광주광역시    북구   439683  NaN        93.0      광주북구   3.0  19.0   121.74\n",
      "96     대구광역시   달서구   584517  NaN        96.0      대구달서   8.0  15.0    62.30\n",
      "97     대구광역시   달성군   178203  NaN        97.0      대구달성   9.0  15.0   427.03\n",
      "105    대전광역시    서구   475094  NaN       105.0      대전서구   4.0  14.0    95.25\n",
      "106    대전광역시   유성구   321618  NaN       106.0      대전유성   4.0  13.0   177.16\n",
      "110    부산광역시   기장군   142223  NaN       110.0      부산기장  12.0  16.0   217.90\n",
      "123    부산광역시  해운대구   397134  NaN       123.0     부산해운대  12.0  17.0    51.44\n",
      "138    서울특별시   서초구   407416  NaN       138.0      서울서초   6.0   6.0    47.04\n",
      "141    서울특별시   송파구   615487  NaN       141.0      서울송파   8.0   6.0    33.90\n",
      "149  세종특별자치시   세종시   191233  NaN       149.0        세종   4.0  11.0   465.23\n",
      "150    울산광역시    남구   327270  NaN       150.0      울산남구  12.0  15.0    72.11\n",
      "153    울산광역시   울주군   203232  NaN       153.0      울산울주  11.0  15.0   754.93\n",
      "155    인천광역시   강화군    58296  NaN       155.0      인천강화   1.0   3.0   411.20\n",
      "160    인천광역시   부평구   527153  NaN       160.0      인천부평   2.0   6.0    32.00\n",
      "175     전라남도   순천시   254751  NaN       175.0        순천   4.0  20.0   907.35\n",
      "177     전라남도   여수시   263166  NaN       177.0        여수   4.0  21.0   501.30\n",
      "194     전라북도   완주군    87465  NaN       194.0        완주   4.0  15.0   821.00\n",
      "198     전라북도   전주시   630708  NaN       198.0        전주   3.0  16.0   206.45\n",
      "202  제주특별자치도   제주시   430504  NaN       202.0        제주   4.0  24.0   977.80\n",
      "204     충청남도   공주시   102371  NaN       204.0        공주   4.0  10.0   940.71\n",
      "214     충청남도   천안시   584912  NaN       214.0        천안   4.0   9.0   636.50\n",
      "227     충청북도   청주시   790216  NaN       227.0        청주   6.0  12.0   932.51\n",
      "228     충청북도   충주시   198077  NaN       228.0        충주   6.0  10.0   983.70\n"
     ]
    }
   ],
   "source": [
    "import numpy as np\n",
    "import pandas as pd\n",
    "pop_max_place = pd.DataFrame(columns=['광역시도','행정구역','인구수','면젹'])\n",
    "\n",
    "def max_calc(city_name):\n",
    "    city = data.loc[data['광역시도'] == city_name]\n",
    "    max_people = city['인구수'].max()\n",
    "    max_area = city['면적'].max()\n",
    "\n",
    "    result = city.loc[(city['인구수'] == max_people) | (city['면적'] == max_area)]\n",
    "    return result\n",
    "\n",
    "for location in data['광역시도'].unique():\n",
    "    pop_max_place = pop_max_place.append(max_calc(location))\n",
    "\n",
    "print(pop_max_place)\n",
    "\n"
   ],
   "metadata": {
    "collapsed": false,
    "pycharm": {
     "name": "#%%\n"
    }
   }
  },
  {
   "cell_type": "code",
   "execution_count": 194,
   "outputs": [
    {
     "data": {
      "text/plain": "   Unnamed: 0     인구수 shortName   x  y       면적 광역시도 행정구역\n0           0  202520        강릉  11  4  1040.07  강원도  강릉시\n1           1   25589    고성(강원)   9  0   664.19  강원도  고성군\n2           2   86747        동해  11  5   180.01  강원도  동해시\n3           3   63986        삼척  11  8  1185.80  강원도  삼척시\n4           4   76733        속초   9  1   105.25  강원도  속초시",
      "text/html": "<div>\n<style scoped>\n    .dataframe tbody tr th:only-of-type {\n        vertical-align: middle;\n    }\n\n    .dataframe tbody tr th {\n        vertical-align: top;\n    }\n\n    .dataframe thead th {\n        text-align: right;\n    }\n</style>\n<table border=\"1\" class=\"dataframe\">\n  <thead>\n    <tr style=\"text-align: right;\">\n      <th></th>\n      <th>Unnamed: 0</th>\n      <th>인구수</th>\n      <th>shortName</th>\n      <th>x</th>\n      <th>y</th>\n      <th>면적</th>\n      <th>광역시도</th>\n      <th>행정구역</th>\n    </tr>\n  </thead>\n  <tbody>\n    <tr>\n      <th>0</th>\n      <td>0</td>\n      <td>202520</td>\n      <td>강릉</td>\n      <td>11</td>\n      <td>4</td>\n      <td>1040.07</td>\n      <td>강원도</td>\n      <td>강릉시</td>\n    </tr>\n    <tr>\n      <th>1</th>\n      <td>1</td>\n      <td>25589</td>\n      <td>고성(강원)</td>\n      <td>9</td>\n      <td>0</td>\n      <td>664.19</td>\n      <td>강원도</td>\n      <td>고성군</td>\n    </tr>\n    <tr>\n      <th>2</th>\n      <td>2</td>\n      <td>86747</td>\n      <td>동해</td>\n      <td>11</td>\n      <td>5</td>\n      <td>180.01</td>\n      <td>강원도</td>\n      <td>동해시</td>\n    </tr>\n    <tr>\n      <th>3</th>\n      <td>3</td>\n      <td>63986</td>\n      <td>삼척</td>\n      <td>11</td>\n      <td>8</td>\n      <td>1185.80</td>\n      <td>강원도</td>\n      <td>삼척시</td>\n    </tr>\n    <tr>\n      <th>4</th>\n      <td>4</td>\n      <td>76733</td>\n      <td>속초</td>\n      <td>9</td>\n      <td>1</td>\n      <td>105.25</td>\n      <td>강원도</td>\n      <td>속초시</td>\n    </tr>\n  </tbody>\n</table>\n</div>"
     },
     "execution_count": 194,
     "metadata": {},
     "output_type": "execute_result"
    }
   ],
   "source": [
    "data.head()"
   ],
   "metadata": {
    "collapsed": false,
    "pycharm": {
     "name": "#%%\n"
    }
   }
  },
  {
   "cell_type": "code",
   "execution_count": 63,
   "outputs": [
    {
     "name": "stdout",
     "output_type": "stream",
     "text": [
      "17\n"
     ]
    },
    {
     "data": {
      "text/plain": "RangeIndex(start=0, stop=17, step=1)"
     },
     "execution_count": 63,
     "metadata": {},
     "output_type": "execute_result"
    }
   ],
   "source": [
    "## 데이터 프레임의 인덱스를 1부터 시작하는 방법\n",
    "print(len(pop_max_city_df))\n",
    "pop_max_city_df.index"
   ],
   "metadata": {
    "collapsed": false,
    "pycharm": {
     "name": "#%%\n"
    }
   }
  },
  {
   "cell_type": "code",
   "execution_count": 65,
   "outputs": [
    {
     "data": {
      "text/plain": "array([ 1,  2,  3,  4,  5,  6,  7,  8,  9, 10, 11, 12, 13, 14, 15, 16, 17])"
     },
     "execution_count": 65,
     "metadata": {},
     "output_type": "execute_result"
    }
   ],
   "source": [
    "import numpy as np\n",
    "np.arange(1,len(pop_max_city_df)+1)"
   ],
   "metadata": {
    "collapsed": false,
    "pycharm": {
     "name": "#%%\n"
    }
   }
  },
  {
   "cell_type": "code",
   "execution_count": 66,
   "outputs": [
    {
     "data": {
      "text/plain": "       광역시도  행정구역      인구수\n1       강원도   원주시   313851\n2       경기도   수원시  1125461\n3      경상남도   창원시  1010040\n4      경상북도   포항시   488395\n5     광주광역시    북구   439683\n6     대구광역시   달서구   584517\n7     대전광역시    서구   475094\n8     부산광역시  해운대구   397134\n9     서울특별시   송파구   615487\n10  세종특별자치시   세종시   191233\n11    울산광역시    남구   327270\n12    인천광역시   부평구   527153\n13     전라남도   여수시   263166\n14     전라북도   전주시   630708\n15  제주특별자치도   제주시   430504\n16     충청남도   천안시   584912\n17     충청북도   청주시   790216",
      "text/html": "<div>\n<style scoped>\n    .dataframe tbody tr th:only-of-type {\n        vertical-align: middle;\n    }\n\n    .dataframe tbody tr th {\n        vertical-align: top;\n    }\n\n    .dataframe thead th {\n        text-align: right;\n    }\n</style>\n<table border=\"1\" class=\"dataframe\">\n  <thead>\n    <tr style=\"text-align: right;\">\n      <th></th>\n      <th>광역시도</th>\n      <th>행정구역</th>\n      <th>인구수</th>\n    </tr>\n  </thead>\n  <tbody>\n    <tr>\n      <th>1</th>\n      <td>강원도</td>\n      <td>원주시</td>\n      <td>313851</td>\n    </tr>\n    <tr>\n      <th>2</th>\n      <td>경기도</td>\n      <td>수원시</td>\n      <td>1125461</td>\n    </tr>\n    <tr>\n      <th>3</th>\n      <td>경상남도</td>\n      <td>창원시</td>\n      <td>1010040</td>\n    </tr>\n    <tr>\n      <th>4</th>\n      <td>경상북도</td>\n      <td>포항시</td>\n      <td>488395</td>\n    </tr>\n    <tr>\n      <th>5</th>\n      <td>광주광역시</td>\n      <td>북구</td>\n      <td>439683</td>\n    </tr>\n    <tr>\n      <th>6</th>\n      <td>대구광역시</td>\n      <td>달서구</td>\n      <td>584517</td>\n    </tr>\n    <tr>\n      <th>7</th>\n      <td>대전광역시</td>\n      <td>서구</td>\n      <td>475094</td>\n    </tr>\n    <tr>\n      <th>8</th>\n      <td>부산광역시</td>\n      <td>해운대구</td>\n      <td>397134</td>\n    </tr>\n    <tr>\n      <th>9</th>\n      <td>서울특별시</td>\n      <td>송파구</td>\n      <td>615487</td>\n    </tr>\n    <tr>\n      <th>10</th>\n      <td>세종특별자치시</td>\n      <td>세종시</td>\n      <td>191233</td>\n    </tr>\n    <tr>\n      <th>11</th>\n      <td>울산광역시</td>\n      <td>남구</td>\n      <td>327270</td>\n    </tr>\n    <tr>\n      <th>12</th>\n      <td>인천광역시</td>\n      <td>부평구</td>\n      <td>527153</td>\n    </tr>\n    <tr>\n      <th>13</th>\n      <td>전라남도</td>\n      <td>여수시</td>\n      <td>263166</td>\n    </tr>\n    <tr>\n      <th>14</th>\n      <td>전라북도</td>\n      <td>전주시</td>\n      <td>630708</td>\n    </tr>\n    <tr>\n      <th>15</th>\n      <td>제주특별자치도</td>\n      <td>제주시</td>\n      <td>430504</td>\n    </tr>\n    <tr>\n      <th>16</th>\n      <td>충청남도</td>\n      <td>천안시</td>\n      <td>584912</td>\n    </tr>\n    <tr>\n      <th>17</th>\n      <td>충청북도</td>\n      <td>청주시</td>\n      <td>790216</td>\n    </tr>\n  </tbody>\n</table>\n</div>"
     },
     "execution_count": 66,
     "metadata": {},
     "output_type": "execute_result"
    }
   ],
   "source": [
    "pop_max_city_df.index = np.arange(1,len(pop_max_city_df)+1)\n",
    "\n",
    "pop_max_city_df"
   ],
   "metadata": {
    "collapsed": false,
    "pycharm": {
     "name": "#%%\n"
    }
   }
  },
  {
   "cell_type": "markdown",
   "source": [
    "# 상관계수(correlation)\n",
    "- 인구수와 면적간에 관련성이 있는지 살펴보기위해"
   ],
   "metadata": {
    "collapsed": false,
    "pycharm": {
     "name": "#%% md\n"
    }
   }
  },
  {
   "cell_type": "code",
   "source": [
    "# 전체행정구역의 면적과 인구수의 상관계수 구하기\n",
    "data['면적'].corr(data['인구수'])"
   ],
   "metadata": {
    "collapsed": false,
    "pycharm": {
     "name": "#%%\n"
    }
   },
   "execution_count": null,
   "outputs": []
  },
  {
   "cell_type": "code",
   "execution_count": 70,
   "outputs": [
    {
     "data": {
      "text/plain": "0.664426818890978"
     },
     "execution_count": 70,
     "metadata": {},
     "output_type": "execute_result"
    }
   ],
   "source": [
    "# 전체행정구역의 면적과 인구수의 상관계수 구하기\n",
    "seoul_df = data.loc[data['광역시도'] == '서울특별시']\n",
    "seoul_df['면적'].corr(seoul_df['인구수'])"
   ],
   "metadata": {
    "collapsed": false,
    "pycharm": {
     "name": "#%%\n"
    }
   }
  },
  {
   "cell_type": "markdown",
   "source": [
    "## Group By 기능\n",
    "- 광역시도별 인구수의 합\n",
    "- ~별에 해당하는 칼럼명이나 컬럼값을 groupby() 함수의 인자로 전달한다.\n",
    "- Series 객체 groupby() 함수는 컬럼의 값을 인자로 전달한다.\n",
    "- DataFrame 객체의 groupby() 함수는 칼럼명을 인자로 전달한다"
   ],
   "metadata": {
    "collapsed": false,
    "pycharm": {
     "name": "#%% md\n"
    }
   }
  },
  {
   "cell_type": "code",
   "execution_count": 71,
   "outputs": [
    {
     "name": "stdout",
     "output_type": "stream",
     "text": [
      "<class 'pandas.core.series.Series'>\n"
     ]
    }
   ],
   "source": [
    "print(type(data['광역시도']))"
   ],
   "metadata": {
    "collapsed": false,
    "pycharm": {
     "name": "#%%\n"
    }
   }
  },
  {
   "cell_type": "code",
   "execution_count": 77,
   "outputs": [
    {
     "name": "stdout",
     "output_type": "stream",
     "text": [
      "<class 'pandas.core.frame.DataFrame'>\n"
     ]
    }
   ],
   "source": [
    "print(type(data.loc[0:1]))"
   ],
   "metadata": {
    "collapsed": false,
    "pycharm": {
     "name": "#%%\n"
    }
   }
  },
  {
   "cell_type": "code",
   "execution_count": 88,
   "outputs": [
    {
     "data": {
      "text/plain": "광역시도\n경기도        11744210\n서울특별시       9394807\n부산광역시       3323591\n경상남도        3144487\n인천광역시       2766575\n경상북도        2508964\n대구광역시       2378450\n충청남도        1946129\n전라북도        1739048\n전라남도        1700563\n충청북도        1484720\n대전광역시       1467677\n광주광역시       1438209\n강원도         1429438\n울산광역시       1105585\n제주특별자치도      575873\n세종특별자치시      191233\nName: 인구수, dtype: int64"
     },
     "execution_count": 88,
     "metadata": {},
     "output_type": "execute_result"
    }
   ],
   "source": [
    "# series 객체 사용 - 광역시도별 인구수의 합계\n",
    "# Series 객체 groupby() 함수는 컬럼의 값을 인자로 전달한다.\n",
    "data['인구수'].groupby(data['광역시도']).sum().sort_values(ascending=False)\n"
   ],
   "metadata": {
    "collapsed": false,
    "pycharm": {
     "name": "#%%\n"
    }
   }
  },
  {
   "cell_type": "code",
   "execution_count": 90,
   "outputs": [
    {
     "data": {
      "text/plain": "         Unnamed: 0       인구수    x    y         면적\n광역시도                                              \n강원도             153   1429438  173   68  16874.810\n경기도            1023  11744210  182  162  10179.743\n경상남도           1035   3144487  123  313  10437.460\n경상북도           1794   2508964  229  240  19021.850\n광주광역시           460   1438209   12   99    501.280\n대구광역시           788   2378450   74  111    885.690\n대전광역시           525   1467677   23   66    539.640\n부산광역시          1848   3323591  162  276    763.240\n서울특별시          3400   9394807  142  111    605.390\n세종특별자치시         149    191233    4   11    465.230\n울산광역시           760   1105585   58   71    980.220\n인천광역시          1595   2766575   13   61   1022.910\n전라남도           3861   1700563   44  438  12008.390\n전라북도           2709   1739048   46  219   7907.220\n제주특별자치도         403    575873    8   49   1848.480\n충청남도           3150   1946129   39  160   8272.270\n충청북도           2453   1484720   69  124   7397.310",
      "text/html": "<div>\n<style scoped>\n    .dataframe tbody tr th:only-of-type {\n        vertical-align: middle;\n    }\n\n    .dataframe tbody tr th {\n        vertical-align: top;\n    }\n\n    .dataframe thead th {\n        text-align: right;\n    }\n</style>\n<table border=\"1\" class=\"dataframe\">\n  <thead>\n    <tr style=\"text-align: right;\">\n      <th></th>\n      <th>Unnamed: 0</th>\n      <th>인구수</th>\n      <th>x</th>\n      <th>y</th>\n      <th>면적</th>\n    </tr>\n    <tr>\n      <th>광역시도</th>\n      <th></th>\n      <th></th>\n      <th></th>\n      <th></th>\n      <th></th>\n    </tr>\n  </thead>\n  <tbody>\n    <tr>\n      <th>강원도</th>\n      <td>153</td>\n      <td>1429438</td>\n      <td>173</td>\n      <td>68</td>\n      <td>16874.810</td>\n    </tr>\n    <tr>\n      <th>경기도</th>\n      <td>1023</td>\n      <td>11744210</td>\n      <td>182</td>\n      <td>162</td>\n      <td>10179.743</td>\n    </tr>\n    <tr>\n      <th>경상남도</th>\n      <td>1035</td>\n      <td>3144487</td>\n      <td>123</td>\n      <td>313</td>\n      <td>10437.460</td>\n    </tr>\n    <tr>\n      <th>경상북도</th>\n      <td>1794</td>\n      <td>2508964</td>\n      <td>229</td>\n      <td>240</td>\n      <td>19021.850</td>\n    </tr>\n    <tr>\n      <th>광주광역시</th>\n      <td>460</td>\n      <td>1438209</td>\n      <td>12</td>\n      <td>99</td>\n      <td>501.280</td>\n    </tr>\n    <tr>\n      <th>대구광역시</th>\n      <td>788</td>\n      <td>2378450</td>\n      <td>74</td>\n      <td>111</td>\n      <td>885.690</td>\n    </tr>\n    <tr>\n      <th>대전광역시</th>\n      <td>525</td>\n      <td>1467677</td>\n      <td>23</td>\n      <td>66</td>\n      <td>539.640</td>\n    </tr>\n    <tr>\n      <th>부산광역시</th>\n      <td>1848</td>\n      <td>3323591</td>\n      <td>162</td>\n      <td>276</td>\n      <td>763.240</td>\n    </tr>\n    <tr>\n      <th>서울특별시</th>\n      <td>3400</td>\n      <td>9394807</td>\n      <td>142</td>\n      <td>111</td>\n      <td>605.390</td>\n    </tr>\n    <tr>\n      <th>세종특별자치시</th>\n      <td>149</td>\n      <td>191233</td>\n      <td>4</td>\n      <td>11</td>\n      <td>465.230</td>\n    </tr>\n    <tr>\n      <th>울산광역시</th>\n      <td>760</td>\n      <td>1105585</td>\n      <td>58</td>\n      <td>71</td>\n      <td>980.220</td>\n    </tr>\n    <tr>\n      <th>인천광역시</th>\n      <td>1595</td>\n      <td>2766575</td>\n      <td>13</td>\n      <td>61</td>\n      <td>1022.910</td>\n    </tr>\n    <tr>\n      <th>전라남도</th>\n      <td>3861</td>\n      <td>1700563</td>\n      <td>44</td>\n      <td>438</td>\n      <td>12008.390</td>\n    </tr>\n    <tr>\n      <th>전라북도</th>\n      <td>2709</td>\n      <td>1739048</td>\n      <td>46</td>\n      <td>219</td>\n      <td>7907.220</td>\n    </tr>\n    <tr>\n      <th>제주특별자치도</th>\n      <td>403</td>\n      <td>575873</td>\n      <td>8</td>\n      <td>49</td>\n      <td>1848.480</td>\n    </tr>\n    <tr>\n      <th>충청남도</th>\n      <td>3150</td>\n      <td>1946129</td>\n      <td>39</td>\n      <td>160</td>\n      <td>8272.270</td>\n    </tr>\n    <tr>\n      <th>충청북도</th>\n      <td>2453</td>\n      <td>1484720</td>\n      <td>69</td>\n      <td>124</td>\n      <td>7397.310</td>\n    </tr>\n  </tbody>\n</table>\n</div>"
     },
     "execution_count": 90,
     "metadata": {},
     "output_type": "execute_result"
    }
   ],
   "source": [
    "# DataFrame 객체 사용 - 광역시도별 인구수의 합계\n",
    "# DataFrame 객체의 groupby() 함수는 칼럼명을 인자로 전달한다\n",
    "data.groupby('광역시도').sum()\n"
   ],
   "metadata": {
    "collapsed": false,
    "pycharm": {
     "name": "#%%\n"
    }
   }
  },
  {
   "cell_type": "code",
   "execution_count": 91,
   "outputs": [
    {
     "data": {
      "text/plain": "광역시도\n강원도         1429438\n경기도        11744210\n경상남도        3144487\n경상북도        2508964\n광주광역시       1438209\n대구광역시       2378450\n대전광역시       1467677\n부산광역시       3323591\n서울특별시       9394807\n세종특별자치시      191233\n울산광역시       1105585\n인천광역시       2766575\n전라남도        1700563\n전라북도        1739048\n제주특별자치도      575873\n충청남도        1946129\n충청북도        1484720\nName: 인구수, dtype: int64"
     },
     "execution_count": 91,
     "metadata": {},
     "output_type": "execute_result"
    }
   ],
   "source": [
    "data.groupby('광역시도')['인구수'].sum()"
   ],
   "metadata": {
    "collapsed": false,
    "pycharm": {
     "name": "#%%\n"
    }
   }
  },
  {
   "cell_type": "code",
   "execution_count": 98,
   "outputs": [],
   "source": [
    "#광역시도별, 행정구역별 인구수의 합계\n",
    "import openpyxl\n",
    "groupby_df = data.groupby(['광역시도','행정구역'])['인구수'].sum()\n",
    "groupby_df.to_excel('data/광역시도별행정구역별인구수의합계.xlsx')"
   ],
   "metadata": {
    "collapsed": false,
    "pycharm": {
     "name": "#%%\n"
    }
   }
  },
  {
   "cell_type": "markdown",
   "source": [
    "## 엑셀 수치 데이터에 콤파(,) 찍기"
   ],
   "metadata": {
    "collapsed": false,
    "pycharm": {
     "name": "#%% md\n"
    }
   }
  },
  {
   "cell_type": "code",
   "execution_count": 100,
   "outputs": [],
   "source": [
    "# Create a Pandas Excel writer using XlsxWriter as the engine.\n",
    "writer = pd.ExcelWriter('data/광역시도별인구수의합계1.xlsx', engine='xlsxwriter')\n",
    "\n",
    "# Convert the dataframe to an XlsxWriter Excel object.\n",
    "groupby_df.to_excel(writer, sheet_name='인구수합계')\n",
    "\n",
    "# Get the xlsxwriter workbook and worksheet objects.\n",
    "workbook  = writer.book\n",
    "worksheet = writer.sheets['인구수합계']\n",
    "\n",
    "# Set a currency number format for a column.\n",
    "num_format = workbook.add_format({'num_format': '#,###'})\n",
    "worksheet.set_column('C:C', None, num_format)\n",
    "\n",
    "# Close the Pandas Excel writer and output the Excel file.\n",
    "writer.save()"
   ],
   "metadata": {
    "collapsed": false,
    "pycharm": {
     "name": "#%%\n"
    }
   }
  },
  {
   "cell_type": "markdown",
   "source": [
    "## 광역시도별 인구수의 max,mean,std 집계함수를 한꺼번에 조회하기\n",
    "- DataFrame의 agg()함수 사용하기\n"
   ],
   "metadata": {
    "collapsed": false,
    "pycharm": {
     "name": "#%% md\n"
    }
   }
  },
  {
   "cell_type": "code",
   "execution_count": 104,
   "outputs": [
    {
     "data": {
      "text/plain": "     Unnamed: 0     인구수 shortName  x   y      면적     광역시도 행정구역\n149         149  191233        세종  4  11  465.23  세종특별자치시  세종시",
      "text/html": "<div>\n<style scoped>\n    .dataframe tbody tr th:only-of-type {\n        vertical-align: middle;\n    }\n\n    .dataframe tbody tr th {\n        vertical-align: top;\n    }\n\n    .dataframe thead th {\n        text-align: right;\n    }\n</style>\n<table border=\"1\" class=\"dataframe\">\n  <thead>\n    <tr style=\"text-align: right;\">\n      <th></th>\n      <th>Unnamed: 0</th>\n      <th>인구수</th>\n      <th>shortName</th>\n      <th>x</th>\n      <th>y</th>\n      <th>면적</th>\n      <th>광역시도</th>\n      <th>행정구역</th>\n    </tr>\n  </thead>\n  <tbody>\n    <tr>\n      <th>149</th>\n      <td>149</td>\n      <td>191233</td>\n      <td>세종</td>\n      <td>4</td>\n      <td>11</td>\n      <td>465.23</td>\n      <td>세종특별자치시</td>\n      <td>세종시</td>\n    </tr>\n  </tbody>\n</table>\n</div>"
     },
     "execution_count": 104,
     "metadata": {},
     "output_type": "execute_result"
    }
   ],
   "source": [
    "data.loc[data['광역시도'] == '세종특별자치시']"
   ],
   "metadata": {
    "collapsed": false,
    "pycharm": {
     "name": "#%%\n"
    }
   }
  },
  {
   "cell_type": "code",
   "execution_count": 139,
   "outputs": [
    {
     "data": {
      "text/plain": "          max       mean        std\n광역시도                               \n경기도   1125461  378845.48  304548.40\n경상남도  1010040  174693.72  245796.47\n충청북도   790216  134974.55  223460.36",
      "text/html": "<div>\n<style scoped>\n    .dataframe tbody tr th:only-of-type {\n        vertical-align: middle;\n    }\n\n    .dataframe tbody tr th {\n        vertical-align: top;\n    }\n\n    .dataframe thead th {\n        text-align: right;\n    }\n</style>\n<table border=\"1\" class=\"dataframe\">\n  <thead>\n    <tr style=\"text-align: right;\">\n      <th></th>\n      <th>max</th>\n      <th>mean</th>\n      <th>std</th>\n    </tr>\n    <tr>\n      <th>광역시도</th>\n      <th></th>\n      <th></th>\n      <th></th>\n    </tr>\n  </thead>\n  <tbody>\n    <tr>\n      <th>경기도</th>\n      <td>1125461</td>\n      <td>378845.48</td>\n      <td>304548.40</td>\n    </tr>\n    <tr>\n      <th>경상남도</th>\n      <td>1010040</td>\n      <td>174693.72</td>\n      <td>245796.47</td>\n    </tr>\n    <tr>\n      <th>충청북도</th>\n      <td>790216</td>\n      <td>134974.55</td>\n      <td>223460.36</td>\n    </tr>\n  </tbody>\n</table>\n</div>"
     },
     "execution_count": 139,
     "metadata": {},
     "output_type": "execute_result"
    }
   ],
   "source": [
    "## 여러가지 함수를 agg를 통해서 groupby된 dataframe에 적용하기\n",
    "group_agg_df = data.groupby('광역시도')['인구수'].agg(['max','mean','std']).fillna(0).sort_values(by='std',ascending=False).round(2)\n",
    "group_agg_df.head(3)"
   ],
   "metadata": {
    "collapsed": false,
    "pycharm": {
     "name": "#%%\n"
    }
   }
  },
  {
   "cell_type": "code",
   "execution_count": 136,
   "outputs": [
    {
     "data": {
      "text/plain": "    index     광역시도      max       mean        std\n0       0      경기도  1125461  378845.48  304548.40\n1       1     경상남도  1010040  174693.72  245796.47\n2       2     충청북도   790216  134974.55  223460.36\n3       3  제주특별자치도   430504  287936.50  201620.89\n4       4    인천광역시   527153  276657.50  199353.60\n5       5    대구광역시   584517  297306.25  174375.39\n6       6     전라북도   630708  124217.71  168327.13\n7       7     충청남도   584912  129741.93  141125.11\n8       8    광주광역시   439683  287641.80  137076.68\n9       9    서울특별시   615487  375792.28  125231.25\n10     10     경상북도   488395  109085.39  124954.74\n11     11    대전광역시   475094  293535.40  111853.57\n12     12    부산광역시   397134  207724.44  106246.04\n13     13      강원도   313851   79413.22   87316.38\n14     14     전라남도   263166   77298.32   74413.25\n15     15    울산광역시   327270  221117.00   64163.29\n16     16  세종특별자치시   191233  191233.00       0.00",
      "text/html": "<div>\n<style scoped>\n    .dataframe tbody tr th:only-of-type {\n        vertical-align: middle;\n    }\n\n    .dataframe tbody tr th {\n        vertical-align: top;\n    }\n\n    .dataframe thead th {\n        text-align: right;\n    }\n</style>\n<table border=\"1\" class=\"dataframe\">\n  <thead>\n    <tr style=\"text-align: right;\">\n      <th></th>\n      <th>index</th>\n      <th>광역시도</th>\n      <th>max</th>\n      <th>mean</th>\n      <th>std</th>\n    </tr>\n  </thead>\n  <tbody>\n    <tr>\n      <th>0</th>\n      <td>0</td>\n      <td>경기도</td>\n      <td>1125461</td>\n      <td>378845.48</td>\n      <td>304548.40</td>\n    </tr>\n    <tr>\n      <th>1</th>\n      <td>1</td>\n      <td>경상남도</td>\n      <td>1010040</td>\n      <td>174693.72</td>\n      <td>245796.47</td>\n    </tr>\n    <tr>\n      <th>2</th>\n      <td>2</td>\n      <td>충청북도</td>\n      <td>790216</td>\n      <td>134974.55</td>\n      <td>223460.36</td>\n    </tr>\n    <tr>\n      <th>3</th>\n      <td>3</td>\n      <td>제주특별자치도</td>\n      <td>430504</td>\n      <td>287936.50</td>\n      <td>201620.89</td>\n    </tr>\n    <tr>\n      <th>4</th>\n      <td>4</td>\n      <td>인천광역시</td>\n      <td>527153</td>\n      <td>276657.50</td>\n      <td>199353.60</td>\n    </tr>\n    <tr>\n      <th>5</th>\n      <td>5</td>\n      <td>대구광역시</td>\n      <td>584517</td>\n      <td>297306.25</td>\n      <td>174375.39</td>\n    </tr>\n    <tr>\n      <th>6</th>\n      <td>6</td>\n      <td>전라북도</td>\n      <td>630708</td>\n      <td>124217.71</td>\n      <td>168327.13</td>\n    </tr>\n    <tr>\n      <th>7</th>\n      <td>7</td>\n      <td>충청남도</td>\n      <td>584912</td>\n      <td>129741.93</td>\n      <td>141125.11</td>\n    </tr>\n    <tr>\n      <th>8</th>\n      <td>8</td>\n      <td>광주광역시</td>\n      <td>439683</td>\n      <td>287641.80</td>\n      <td>137076.68</td>\n    </tr>\n    <tr>\n      <th>9</th>\n      <td>9</td>\n      <td>서울특별시</td>\n      <td>615487</td>\n      <td>375792.28</td>\n      <td>125231.25</td>\n    </tr>\n    <tr>\n      <th>10</th>\n      <td>10</td>\n      <td>경상북도</td>\n      <td>488395</td>\n      <td>109085.39</td>\n      <td>124954.74</td>\n    </tr>\n    <tr>\n      <th>11</th>\n      <td>11</td>\n      <td>대전광역시</td>\n      <td>475094</td>\n      <td>293535.40</td>\n      <td>111853.57</td>\n    </tr>\n    <tr>\n      <th>12</th>\n      <td>12</td>\n      <td>부산광역시</td>\n      <td>397134</td>\n      <td>207724.44</td>\n      <td>106246.04</td>\n    </tr>\n    <tr>\n      <th>13</th>\n      <td>13</td>\n      <td>강원도</td>\n      <td>313851</td>\n      <td>79413.22</td>\n      <td>87316.38</td>\n    </tr>\n    <tr>\n      <th>14</th>\n      <td>14</td>\n      <td>전라남도</td>\n      <td>263166</td>\n      <td>77298.32</td>\n      <td>74413.25</td>\n    </tr>\n    <tr>\n      <th>15</th>\n      <td>15</td>\n      <td>울산광역시</td>\n      <td>327270</td>\n      <td>221117.00</td>\n      <td>64163.29</td>\n    </tr>\n    <tr>\n      <th>16</th>\n      <td>16</td>\n      <td>세종특별자치시</td>\n      <td>191233</td>\n      <td>191233.00</td>\n      <td>0.00</td>\n    </tr>\n  </tbody>\n</table>\n</div>"
     },
     "execution_count": 136,
     "metadata": {},
     "output_type": "execute_result"
    }
   ],
   "source": [
    "#광역시도를 index에서 column으로 옮기기\n",
    "group_agg_df.reset_index().head(3) ##group_agg_df.reset_index(level = '광역시도',inplace=False)\n"
   ],
   "metadata": {
    "collapsed": false,
    "pycharm": {
     "name": "#%%\n"
    }
   }
  },
  {
   "cell_type": "code",
   "execution_count": 135,
   "outputs": [],
   "source": [
    "#inplace속성의 default = False\n",
    "#변경된 결과를 화면에 출력만 하고 원본 DataFrame을 수정하지는 않음\n",
    "# inplace = True 이면 변경된 결과를 화면에 출력하지 않고, 원본 DataFrame을 수정한다.\n",
    "group_agg_df.reset_index(inplace=True)\n"
   ],
   "metadata": {
    "collapsed": false,
    "pycharm": {
     "name": "#%%\n"
    }
   }
  },
  {
   "cell_type": "code",
   "execution_count": 138,
   "outputs": [
    {
     "data": {
      "text/plain": "   광역시도      max       mean        std\n0   경기도  1125461  378845.48  304548.40\n1  경상남도  1010040  174693.72  245796.47\n2  충청북도   790216  134974.55  223460.36",
      "text/html": "<div>\n<style scoped>\n    .dataframe tbody tr th:only-of-type {\n        vertical-align: middle;\n    }\n\n    .dataframe tbody tr th {\n        vertical-align: top;\n    }\n\n    .dataframe thead th {\n        text-align: right;\n    }\n</style>\n<table border=\"1\" class=\"dataframe\">\n  <thead>\n    <tr style=\"text-align: right;\">\n      <th></th>\n      <th>광역시도</th>\n      <th>max</th>\n      <th>mean</th>\n      <th>std</th>\n    </tr>\n  </thead>\n  <tbody>\n    <tr>\n      <th>0</th>\n      <td>경기도</td>\n      <td>1125461</td>\n      <td>378845.48</td>\n      <td>304548.40</td>\n    </tr>\n    <tr>\n      <th>1</th>\n      <td>경상남도</td>\n      <td>1010040</td>\n      <td>174693.72</td>\n      <td>245796.47</td>\n    </tr>\n    <tr>\n      <th>2</th>\n      <td>충청북도</td>\n      <td>790216</td>\n      <td>134974.55</td>\n      <td>223460.36</td>\n    </tr>\n  </tbody>\n</table>\n</div>"
     },
     "execution_count": 138,
     "metadata": {},
     "output_type": "execute_result"
    }
   ],
   "source": [
    "group_agg_df.head(3)"
   ],
   "metadata": {
    "collapsed": false,
    "pycharm": {
     "name": "#%%\n"
    }
   }
  },
  {
   "cell_type": "code",
   "execution_count": 141,
   "outputs": [
    {
     "data": {
      "text/plain": "광역시도         경기도        경상남도       충청북도    제주특별자치도     인천광역시      대구광역시  \\\nmax   1125461.00  1010040.00  790216.00  430504.00  527153.0  584517.00   \nmean   378845.48   174693.72  134974.55  287936.50  276657.5  297306.25   \nstd    304548.40   245796.47  223460.36  201620.89  199353.6  174375.39   \n\n광역시도       전라북도       충청남도      광주광역시      서울특별시       경상북도      대전광역시  \\\nmax   630708.00  584912.00  439683.00  615487.00  488395.00  475094.00   \nmean  124217.71  129741.93  287641.80  375792.28  109085.39  293535.40   \nstd   168327.13  141125.11  137076.68  125231.25  124954.74  111853.57   \n\n광역시도      부산광역시        강원도       전라남도      울산광역시   세종특별자치시  \nmax   397134.00  313851.00  263166.00  327270.00  191233.0  \nmean  207724.44   79413.22   77298.32  221117.00  191233.0  \nstd   106246.04   87316.38   74413.25   64163.29       0.0  ",
      "text/html": "<div>\n<style scoped>\n    .dataframe tbody tr th:only-of-type {\n        vertical-align: middle;\n    }\n\n    .dataframe tbody tr th {\n        vertical-align: top;\n    }\n\n    .dataframe thead th {\n        text-align: right;\n    }\n</style>\n<table border=\"1\" class=\"dataframe\">\n  <thead>\n    <tr style=\"text-align: right;\">\n      <th>광역시도</th>\n      <th>경기도</th>\n      <th>경상남도</th>\n      <th>충청북도</th>\n      <th>제주특별자치도</th>\n      <th>인천광역시</th>\n      <th>대구광역시</th>\n      <th>전라북도</th>\n      <th>충청남도</th>\n      <th>광주광역시</th>\n      <th>서울특별시</th>\n      <th>경상북도</th>\n      <th>대전광역시</th>\n      <th>부산광역시</th>\n      <th>강원도</th>\n      <th>전라남도</th>\n      <th>울산광역시</th>\n      <th>세종특별자치시</th>\n    </tr>\n  </thead>\n  <tbody>\n    <tr>\n      <th>max</th>\n      <td>1125461.00</td>\n      <td>1010040.00</td>\n      <td>790216.00</td>\n      <td>430504.00</td>\n      <td>527153.0</td>\n      <td>584517.00</td>\n      <td>630708.00</td>\n      <td>584912.00</td>\n      <td>439683.00</td>\n      <td>615487.00</td>\n      <td>488395.00</td>\n      <td>475094.00</td>\n      <td>397134.00</td>\n      <td>313851.00</td>\n      <td>263166.00</td>\n      <td>327270.00</td>\n      <td>191233.0</td>\n    </tr>\n    <tr>\n      <th>mean</th>\n      <td>378845.48</td>\n      <td>174693.72</td>\n      <td>134974.55</td>\n      <td>287936.50</td>\n      <td>276657.5</td>\n      <td>297306.25</td>\n      <td>124217.71</td>\n      <td>129741.93</td>\n      <td>287641.80</td>\n      <td>375792.28</td>\n      <td>109085.39</td>\n      <td>293535.40</td>\n      <td>207724.44</td>\n      <td>79413.22</td>\n      <td>77298.32</td>\n      <td>221117.00</td>\n      <td>191233.0</td>\n    </tr>\n    <tr>\n      <th>std</th>\n      <td>304548.40</td>\n      <td>245796.47</td>\n      <td>223460.36</td>\n      <td>201620.89</td>\n      <td>199353.6</td>\n      <td>174375.39</td>\n      <td>168327.13</td>\n      <td>141125.11</td>\n      <td>137076.68</td>\n      <td>125231.25</td>\n      <td>124954.74</td>\n      <td>111853.57</td>\n      <td>106246.04</td>\n      <td>87316.38</td>\n      <td>74413.25</td>\n      <td>64163.29</td>\n      <td>0.0</td>\n    </tr>\n  </tbody>\n</table>\n</div>"
     },
     "execution_count": 141,
     "metadata": {},
     "output_type": "execute_result"
    }
   ],
   "source": [
    "#행과 열을 바꾸고 싶다면 T 속성(property) 이나 transpose() 함수 사용\n",
    "group_agg_df.T #행 과 열을 바꿔준다"
   ],
   "metadata": {
    "collapsed": false,
    "pycharm": {
     "name": "#%%\n"
    }
   }
  },
  {
   "cell_type": "code",
   "execution_count": 142,
   "outputs": [
    {
     "data": {
      "text/plain": "광역시도         경기도        경상남도       충청북도    제주특별자치도     인천광역시      대구광역시  \\\nmax   1125461.00  1010040.00  790216.00  430504.00  527153.0  584517.00   \nmean   378845.48   174693.72  134974.55  287936.50  276657.5  297306.25   \nstd    304548.40   245796.47  223460.36  201620.89  199353.6  174375.39   \n\n광역시도       전라북도       충청남도      광주광역시      서울특별시       경상북도      대전광역시  \\\nmax   630708.00  584912.00  439683.00  615487.00  488395.00  475094.00   \nmean  124217.71  129741.93  287641.80  375792.28  109085.39  293535.40   \nstd   168327.13  141125.11  137076.68  125231.25  124954.74  111853.57   \n\n광역시도      부산광역시        강원도       전라남도      울산광역시   세종특별자치시  \nmax   397134.00  313851.00  263166.00  327270.00  191233.0  \nmean  207724.44   79413.22   77298.32  221117.00  191233.0  \nstd   106246.04   87316.38   74413.25   64163.29       0.0  ",
      "text/html": "<div>\n<style scoped>\n    .dataframe tbody tr th:only-of-type {\n        vertical-align: middle;\n    }\n\n    .dataframe tbody tr th {\n        vertical-align: top;\n    }\n\n    .dataframe thead th {\n        text-align: right;\n    }\n</style>\n<table border=\"1\" class=\"dataframe\">\n  <thead>\n    <tr style=\"text-align: right;\">\n      <th>광역시도</th>\n      <th>경기도</th>\n      <th>경상남도</th>\n      <th>충청북도</th>\n      <th>제주특별자치도</th>\n      <th>인천광역시</th>\n      <th>대구광역시</th>\n      <th>전라북도</th>\n      <th>충청남도</th>\n      <th>광주광역시</th>\n      <th>서울특별시</th>\n      <th>경상북도</th>\n      <th>대전광역시</th>\n      <th>부산광역시</th>\n      <th>강원도</th>\n      <th>전라남도</th>\n      <th>울산광역시</th>\n      <th>세종특별자치시</th>\n    </tr>\n  </thead>\n  <tbody>\n    <tr>\n      <th>max</th>\n      <td>1125461.00</td>\n      <td>1010040.00</td>\n      <td>790216.00</td>\n      <td>430504.00</td>\n      <td>527153.0</td>\n      <td>584517.00</td>\n      <td>630708.00</td>\n      <td>584912.00</td>\n      <td>439683.00</td>\n      <td>615487.00</td>\n      <td>488395.00</td>\n      <td>475094.00</td>\n      <td>397134.00</td>\n      <td>313851.00</td>\n      <td>263166.00</td>\n      <td>327270.00</td>\n      <td>191233.0</td>\n    </tr>\n    <tr>\n      <th>mean</th>\n      <td>378845.48</td>\n      <td>174693.72</td>\n      <td>134974.55</td>\n      <td>287936.50</td>\n      <td>276657.5</td>\n      <td>297306.25</td>\n      <td>124217.71</td>\n      <td>129741.93</td>\n      <td>287641.80</td>\n      <td>375792.28</td>\n      <td>109085.39</td>\n      <td>293535.40</td>\n      <td>207724.44</td>\n      <td>79413.22</td>\n      <td>77298.32</td>\n      <td>221117.00</td>\n      <td>191233.0</td>\n    </tr>\n    <tr>\n      <th>std</th>\n      <td>304548.40</td>\n      <td>245796.47</td>\n      <td>223460.36</td>\n      <td>201620.89</td>\n      <td>199353.6</td>\n      <td>174375.39</td>\n      <td>168327.13</td>\n      <td>141125.11</td>\n      <td>137076.68</td>\n      <td>125231.25</td>\n      <td>124954.74</td>\n      <td>111853.57</td>\n      <td>106246.04</td>\n      <td>87316.38</td>\n      <td>74413.25</td>\n      <td>64163.29</td>\n      <td>0.0</td>\n    </tr>\n  </tbody>\n</table>\n</div>"
     },
     "execution_count": 142,
     "metadata": {},
     "output_type": "execute_result"
    }
   ],
   "source": [
    "group_agg_df.transpose()"
   ],
   "metadata": {
    "collapsed": false,
    "pycharm": {
     "name": "#%%\n"
    }
   }
  },
  {
   "cell_type": "markdown",
   "source": [
    "## 시각화\n",
    "* plot이 출력되려면 show() 함수를 호출해야하지만 jupyter 에서는 show() 함수를 호출하지 않아도 된다.\n",
    "* %matplotlib inline 설정을 해주어야 한다.\n",
    "* 한글폰트 설정이 필요하다.\n",
    "* plot에 대한 설정은 matplotlib의 함수들을 사용하고,"
   ],
   "metadata": {
    "collapsed": false,
    "pycharm": {
     "name": "#%% md\n"
    }
   }
  },
  {
   "cell_type": "code",
   "execution_count": 144,
   "outputs": [],
   "source": [
    "%matplotlib inline"
   ],
   "metadata": {
    "collapsed": false,
    "pycharm": {
     "name": "#%%\n"
    }
   }
  },
  {
   "cell_type": "code",
   "execution_count": 146,
   "outputs": [
    {
     "name": "stdout",
     "output_type": "stream",
     "text": [
      "matplotlib 3.5.0\n",
      "seaborn 0.11.2\n"
     ]
    }
   ],
   "source": [
    "import matplotlib\n",
    "import matplotlib.pyplot as plt\n",
    "import matplotlib.font_manager as fm\n",
    "import seaborn as sns\n",
    "print('matplotlib',matplotlib.__version__)\n",
    "print('seaborn',sns.__version__)"
   ],
   "metadata": {
    "collapsed": false,
    "pycharm": {
     "name": "#%%\n"
    }
   }
  },
  {
   "cell_type": "code",
   "execution_count": 147,
   "outputs": [
    {
     "data": {
      "text/plain": "[('Apple SD Gothic Neo', '/System/Library/Fonts/AppleSDGothicNeo.ttc'),\n ('Apple Braille', '/System/Library/Fonts/Apple Braille Pinpoint 6 Dot.ttf'),\n ('Apple Symbols', '/System/Library/Fonts/Apple Symbols.ttf'),\n ('Apple Braille', '/System/Library/Fonts/Apple Braille Outline 6 Dot.ttf'),\n ('Apple Braille', '/System/Library/Fonts/Apple Braille Pinpoint 8 Dot.ttf'),\n ('AppleGothic', '/System/Library/Fonts/Supplemental/AppleGothic.ttf'),\n ('Apple Braille', '/System/Library/Fonts/Apple Braille Outline 8 Dot.ttf'),\n ('Apple Braille', '/System/Library/Fonts/Apple Braille.ttf'),\n ('AppleMyungjo', '/System/Library/Fonts/Supplemental/AppleMyungjo.ttf'),\n ('Apple Chancery', '/System/Library/Fonts/Supplemental/Apple Chancery.ttf')]"
     },
     "execution_count": 147,
     "metadata": {},
     "output_type": "execute_result"
    }
   ],
   "source": [
    "## 폰트이름과 폰트파일 정보 출력 : list comprehension\n",
    "## mac은 AppleGothic 사용!\n",
    "[(font.name,font.fname) for font in fm.fontManager.ttflist if 'Ap' in font.name]"
   ],
   "metadata": {
    "collapsed": false,
    "pycharm": {
     "name": "#%%\n"
    }
   }
  },
  {
   "cell_type": "code",
   "execution_count": 148,
   "outputs": [
    {
     "name": "stdout",
     "output_type": "stream",
     "text": [
      "AppleGothic\n"
     ]
    }
   ],
   "source": [
    "font_path = '/System/Library/Fonts/Supplemental/AppleGothic.ttf'\n",
    "font_prop = fm.FontProperties(fname=font_path).get_name()\n",
    "print(font_prop)"
   ],
   "metadata": {
    "collapsed": false,
    "pycharm": {
     "name": "#%%\n"
    }
   }
  },
  {
   "cell_type": "code",
   "execution_count": 149,
   "outputs": [],
   "source": [
    "#matplotlib의 rc(run command) 함수를 사용해서 폰트이름 설정\n",
    "matplotlib.rc('font',family = font_prop)"
   ],
   "metadata": {
    "collapsed": false,
    "pycharm": {
     "name": "#%%\n"
    }
   }
  },
  {
   "cell_type": "markdown",
   "source": [
    "### Figure,Axes\n",
    "* Figure은 Plot이 그려지는 도화지\n",
    "* Axes는 Plot의 그려지는 공간\n",
    "* Figure에 Axes를 여러개 생성해서 Figure를 분할해서 plot을 그릴수 있음\n",
    "* seaborn()에서 제공하는 막대그래프를 그릴 수 있는 barplot()함수 사용"
   ],
   "metadata": {
    "collapsed": false,
    "pycharm": {
     "name": "#%% md\n"
    }
   }
  },
  {
   "cell_type": "code",
   "execution_count": 151,
   "outputs": [
    {
     "data": {
      "text/plain": "     Unnamed: 0     인구수 shortName  x  y    면적   광역시도 행정구역\n124         124  526157      서울강남  6  7  39.5  서울특별시  강남구\n125         125  432028      서울강동  8  5  24.6  서울특별시  강동구\n126         126  310292      서울강북  5  2  23.6  서울특별시  강북구\n127         127  554709      서울강서  4  4  41.4  서울특별시  강서구\n128         128  484478      서울관악  5  6  29.6  서울특별시  관악구",
      "text/html": "<div>\n<style scoped>\n    .dataframe tbody tr th:only-of-type {\n        vertical-align: middle;\n    }\n\n    .dataframe tbody tr th {\n        vertical-align: top;\n    }\n\n    .dataframe thead th {\n        text-align: right;\n    }\n</style>\n<table border=\"1\" class=\"dataframe\">\n  <thead>\n    <tr style=\"text-align: right;\">\n      <th></th>\n      <th>Unnamed: 0</th>\n      <th>인구수</th>\n      <th>shortName</th>\n      <th>x</th>\n      <th>y</th>\n      <th>면적</th>\n      <th>광역시도</th>\n      <th>행정구역</th>\n    </tr>\n  </thead>\n  <tbody>\n    <tr>\n      <th>124</th>\n      <td>124</td>\n      <td>526157</td>\n      <td>서울강남</td>\n      <td>6</td>\n      <td>7</td>\n      <td>39.5</td>\n      <td>서울특별시</td>\n      <td>강남구</td>\n    </tr>\n    <tr>\n      <th>125</th>\n      <td>125</td>\n      <td>432028</td>\n      <td>서울강동</td>\n      <td>8</td>\n      <td>5</td>\n      <td>24.6</td>\n      <td>서울특별시</td>\n      <td>강동구</td>\n    </tr>\n    <tr>\n      <th>126</th>\n      <td>126</td>\n      <td>310292</td>\n      <td>서울강북</td>\n      <td>5</td>\n      <td>2</td>\n      <td>23.6</td>\n      <td>서울특별시</td>\n      <td>강북구</td>\n    </tr>\n    <tr>\n      <th>127</th>\n      <td>127</td>\n      <td>554709</td>\n      <td>서울강서</td>\n      <td>4</td>\n      <td>4</td>\n      <td>41.4</td>\n      <td>서울특별시</td>\n      <td>강서구</td>\n    </tr>\n    <tr>\n      <th>128</th>\n      <td>128</td>\n      <td>484478</td>\n      <td>서울관악</td>\n      <td>5</td>\n      <td>6</td>\n      <td>29.6</td>\n      <td>서울특별시</td>\n      <td>관악구</td>\n    </tr>\n  </tbody>\n</table>\n</div>"
     },
     "execution_count": 151,
     "metadata": {},
     "output_type": "execute_result"
    }
   ],
   "source": [
    "seoul_df.head()"
   ],
   "metadata": {
    "collapsed": false,
    "pycharm": {
     "name": "#%%\n"
    }
   }
  },
  {
   "cell_type": "code",
   "execution_count": 161,
   "outputs": [
    {
     "name": "stdout",
     "output_type": "stream",
     "text": [
      "AxesSubplot(0.125,0.536818;0.775x0.343182)\n",
      "AxesSubplot(0.125,0.125;0.775x0.343182)\n"
     ]
    },
    {
     "data": {
      "text/plain": "<AxesSubplot:xlabel='행정구역', ylabel='면적'>"
     },
     "execution_count": 161,
     "metadata": {},
     "output_type": "execute_result"
    },
    {
     "data": {
      "text/plain": "<Figure size 1296x864 with 2 Axes>",
      "image/png": "[encoded data removed]"
     },
     "metadata": {
      "needs_background": "light"
     },
     "output_type": "display_data"
    }
   ],
   "source": [
    "figure,(axes1,axes2) = plt.subplots(nrows=2,ncols=1) #2행 1열 AxesSubplot객체가 두개생김\n",
    "figure.set_size_inches(18,12) #도화지 사이즛 설정\n",
    "print(axes1)\n",
    "print(axes2)\n",
    "sns.barplot(x = '행정구역', y = '인구수',data = seoul_df.sort_values(by='인구수',ascending=False), ax = axes1)\n",
    "sns.barplot(x = '행정구역', y = '면적',data = seoul_df.sort_values(by='면적',ascending=False), ax = axes2)"
   ],
   "metadata": {
    "collapsed": false,
    "pycharm": {
     "name": "#%%\n"
    }
   }
  },
  {
   "cell_type": "code",
   "execution_count": 169,
   "outputs": [
    {
     "data": {
      "text/plain": "<Figure size 1296x864 with 2 Axes>",
      "image/png": "[encoded data removed]"
     },
     "metadata": {
      "needs_background": "light"
     },
     "output_type": "display_data"
    }
   ],
   "source": [
    "#광역시도 이름을 인자로 받아서 인구수와 면적을 보여주는 barplot을 그리는 함수\n",
    "# figure,(axes1,axes2) = plt.subplots(nrows=2,ncols=1) #2행 1열 AxesSubplot객체가 두개생김\n",
    "# figure.set_size_inches(18,12) #도화지 사이즛 설정\n",
    "# print(axes1)\n",
    "# print(axes2)\n",
    "# sns.barplot(x = '행정구역', y = '인구수',data = seoul_df.sort_values(by='인구수',ascending=False), ax = axes1)\n",
    "# sns.barplot(x = '행정구역', y = '면적',data = seoul_df.sort_values(by='면적',ascending=False), ax = axes2)\n",
    "# seoul_df = data.loc[data['광역시도'] == '서울특별시']\n",
    "\n",
    "def make_city_plot(sido_name):\n",
    "    figure,(axes1,axes2) = plt.subplots(nrows=2,ncols=1)\n",
    "    figure.set_size_inches(18,12)\n",
    "    sido_df = data.loc[data['광역시도'] == sido_name]\n",
    "    pop_plot = sns.barplot(x = '행정구역', y = '인구수',data = sido_df.sort_values(by = '인구수',ascending=False),ax = axes1)\n",
    "    area_plot = sns.barplot(x = '행정구역', y = '면적', data = sido_df.sort_values(by='면적',ascending=False),ax = axes2)\n",
    "    pop_plot.set_title(f'{sido_name} 인구수',fontsize =20)\n",
    "    area_plot.set_title(f'{sido_name} 면적',fontsize = 20)\n",
    "\n",
    "make_city_plot('경상남도')"
   ],
   "metadata": {
    "collapsed": false,
    "pycharm": {
     "name": "#%%\n"
    }
   }
  },
  {
   "cell_type": "code",
   "execution_count": 170,
   "outputs": [
    {
     "data": {
      "text/plain": "<AxesSubplot:xlabel='광역시도', ylabel='인구수'>"
     },
     "execution_count": 170,
     "metadata": {},
     "output_type": "execute_result"
    },
    {
     "data": {
      "text/plain": "<Figure size 1296x864 with 1 Axes>",
      "image/png": "[encoded data removed]"
     },
     "metadata": {
      "needs_background": "light"
     },
     "output_type": "display_data"
    }
   ],
   "source": [
    "figure, axes1 = plt.subplots(nrows=1,ncols=1)\n",
    "figure.set_size_inches(18,12)\n",
    "sns.barplot(x = '광역시도', y = '인구수', data = data,ax = axes1)"
   ],
   "metadata": {
    "collapsed": false,
    "pycharm": {
     "name": "#%%\n"
    }
   }
  },
  {
   "cell_type": "code",
   "execution_count": 171,
   "outputs": [],
   "source": [
    "def my_format(value):\n",
    "    return f'{value:,}'"
   ],
   "metadata": {
    "collapsed": false,
    "pycharm": {
     "name": "#%%\n"
    }
   }
  },
  {
   "cell_type": "code",
   "execution_count": 173,
   "outputs": [
    {
     "data": {
      "text/plain": "'1,000'"
     },
     "execution_count": 173,
     "metadata": {},
     "output_type": "execute_result"
    }
   ],
   "source": [
    "my_format(1000)"
   ],
   "metadata": {
    "collapsed": false,
    "pycharm": {
     "name": "#%%\n"
    }
   }
  },
  {
   "cell_type": "code",
   "execution_count": 174,
   "outputs": [
    {
     "name": "stdout",
     "output_type": "stream",
     "text": [
      "0 (124, 526157)\n",
      "1 (125, 432028)\n",
      "2 (126, 310292)\n",
      "3 (127, 554709)\n",
      "4 (128, 484478)\n",
      "5 (129, 342909)\n",
      "6 (130, 401233)\n",
      "7 (131, 222566)\n",
      "8 (132, 547202)\n",
      "9 (133, 331682)\n",
      "10 (134, 342429)\n",
      "11 (135, 383917)\n",
      "12 (136, 364232)\n",
      "13 (137, 288543)\n",
      "14 (138, 407416)\n",
      "15 (139, 279939)\n",
      "16 (140, 434061)\n",
      "17 (141, 615487)\n",
      "18 (142, 453634)\n",
      "19 (143, 351837)\n",
      "20 (144, 208603)\n",
      "21 (145, 464236)\n",
      "22 (146, 140595)\n",
      "23 (147, 114967)\n",
      "24 (148, 391655)\n"
     ]
    }
   ],
   "source": [
    "for i,v in enumerate(seoul_df[\"인구수\"].iteritems()):\n",
    "    print(i,v)"
   ],
   "metadata": {
    "collapsed": false,
    "pycharm": {
     "name": "#%%\n"
    }
   }
  },
  {
   "cell_type": "code",
   "execution_count": null,
   "outputs": [],
   "source": [],
   "metadata": {
    "collapsed": false,
    "pycharm": {
     "name": "#%%\n"
    }
   }
  }
 ],
 "metadata": {
  "kernelspec": {
   "display_name": "Python 3",
   "language": "python",
   "name": "python3"
  },
  "language_info": {
   "codemirror_mode": {
    "name": "ipython",
    "version": 2
   },
   "file_extension": ".py",
   "mimetype": "text/x-python",
   "name": "python",
   "nbconvert_exporter": "python",
   "pygments_lexer": "ipython2",
   "version": "2.7.6"
  }
 },
 "nbformat": 4,
 "nbformat_minor": 0
}