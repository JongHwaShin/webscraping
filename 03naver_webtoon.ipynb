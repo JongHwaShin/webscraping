{
 "cells": [
  {
   "cell_type": "markdown",
   "metadata": {
    "collapsed": true,
    "pycharm": {
     "name": "#%% md\n"
    }
   },
   "source": [
    "### 웹툰 이미지를 다운로드하여 로컬에 저장하기"
   ]
  },
  {
   "cell_type": "code",
   "execution_count": 1,
   "metadata": {
    "collapsed": false,
    "pycharm": {
     "name": "#%%\n"
    }
   },
   "outputs": [],
   "source": [
    "import requests\n",
    "import os"
   ]
  },
  {
   "cell_type": "code",
   "execution_count": 4,
   "metadata": {
    "collapsed": false,
    "pycharm": {
     "name": "#%%\n"
    }
   },
   "outputs": [
    {
     "name": "stdout",
     "output_type": "stream",
     "text": [
      "200\n",
      "20220113151757_90bb11af8a341a8bf8a8558fb3d3c121_IMAG01_1.jpg\n",
      "Write to file20220113151757_90bb11af8a341a8bf8a8558fb3d3c121_IMAG01_1.jpg(162066) bytes\n",
      "200\n",
      "20220113151757_90bb11af8a341a8bf8a8558fb3d3c121_IMAG01_2.jpg\n",
      "Write to file20220113151757_90bb11af8a341a8bf8a8558fb3d3c121_IMAG01_2.jpg(215640) bytes\n",
      "200\n",
      "20220113151757_90bb11af8a341a8bf8a8558fb3d3c121_IMAG01_3.jpg\n",
      "Write to file20220113151757_90bb11af8a341a8bf8a8558fb3d3c121_IMAG01_3.jpg(212535) bytes\n"
     ]
    }
   ],
   "source": [
    "req_header = {\n",
    "    #url 참조자\n",
    "    'referer':'https://comic.naver.com/webtoon/detail?titleId=552960&no=410&amp;weekday=fri'\n",
    "}\n",
    "\n",
    "img_urls_list = [\n",
    "    #이미지 경로\n",
    "    'https://image-comic.pstatic.net/webtoon/552960/410/20220113151757_90bb11af8a341a8bf8a8558fb3d3c121_IMAG01_1.jpg',\n",
    "    'https://image-comic.pstatic.net/webtoon/552960/410/20220113151757_90bb11af8a341a8bf8a8558fb3d3c121_IMAG01_2.jpg',\n",
    "    'https://image-comic.pstatic.net/webtoon/552960/410/20220113151757_90bb11af8a341a8bf8a8558fb3d3c121_IMAG01_3.jpg'\n",
    "\n",
    "]\n",
    "\n",
    "for img_url in img_urls_list:\n",
    "    res = requests.get(img_url,headers=req_header)\n",
    "    print(res.status_code)\n",
    "    # binary data 가져올때 .content 속성사용\n",
    "    img_data = res.content\n",
    "    # url에서 파일명만 추출하기\n",
    "    file_name = os.path.basename(img_url)\n",
    "    # print(file_name)\n",
    "\n",
    "    with open(file_name,'wb') as f:\n",
    "        print(f'Write to file{file_name}({len(img_data)}) bytes')\n",
    "        f.write(img_data)\n",
    "\n"
   ]
  },
  {
   "cell_type": "markdown",
   "metadata": {
    "collapsed": false,
    "pycharm": {
     "name": "#%% md\n"
    }
   },
   "source": [
    "### 웹툰의 특정회차의 모든 image 다운로드\n",
    "* Attribute selector를 사용하여 Jpg파일명들을 모두 추출하여 리스트에 저장하기\n",
    "* 리스트를 순회하면서 image 다운로드 하기"
   ]
  },
  {
   "cell_type": "code",
   "execution_count": 1,
   "metadata": {
    "collapsed": false,
    "pycharm": {
     "name": "#%%\n"
    }
   },
   "outputs": [],
   "source": [
    "import requests\n",
    "from bs4 import BeautifulSoup\n",
    "\n",
    "main_url = 'https://comic.naver.com/webtoon/detail?titleId=764040&no=54&weekday=fri'\n",
    "res = requests.get(main_url)\n",
    "\n",
    "\n",
    "if res.ok:\n",
    "    soup = BeautifulSoup(res.text,'html.parser')\n",
    "    img_tags = soup.select(\"img[src$='.jpg']\")#img태그에 src속성에 .jpg\n",
    "    # print(len(img_tags))\n",
    "    # print(type(img_tags))\n",
    "    img_url_list = []\n",
    "\n",
    "    for img_tag in img_tags:\n",
    "        # print(img_tag)\n",
    "        img_url = img_tag['src']\n",
    "        img_url_list.append(img_url)\n",
    "\n",
    "    # print(len(img_url_list))\n",
    "    # print(img_url_list[:4])"
   ]
  },
  {
   "cell_type": "code",
   "execution_count": 15,
   "metadata": {
    "collapsed": false,
    "pycharm": {
     "name": "#%%\n"
    }
   },
   "outputs": [],
   "source": [
    "#img 디렉토리 생성하기\n",
    "\n",
    "dir_path = 'img'\n",
    "import os\n",
    "\n",
    "#img디렉토리가 없으면\n",
    "if not os.path.isdir('img'):\n",
    "    os.mkdir(dir_path)\n",
    "\n"
   ]
  },
  {
   "cell_type": "markdown",
   "metadata": {
    "collapsed": false,
    "pycharm": {
     "name": "#%% md\n"
    }
   },
   "source": [
    "## 디렉토리 생성하는 2가지 함수\n",
    "* os.mkdir() / os.makedirs()\n",
    "1.os.mkdir()은 1개 폴더만 생성\n",
    "2.os.makedirs()은 a/b/c/ 처럼 하위 폴더 생성"
   ]
  },
  {
   "cell_type": "markdown",
   "metadata": {
    "collapsed": false,
    "pycharm": {
     "name": "#%% md\n"
    }
   },
   "source": [
    "## 리스트 순회하면서 img 다운로드 하기"
   ]
  },
  {
   "cell_type": "code",
   "execution_count": 2,
   "metadata": {
    "collapsed": false,
    "pycharm": {
     "name": "#%%\n"
    }
   },
   "outputs": [
    {
     "name": "stdout",
     "output_type": "stream",
     "text": [
      "다운로드번호 1 URL = https://shared-comic.pstatic.net/thumb/webtoon/764040/thumbnail/thumbnail_IMAG04_8afc9026-2558-49e9-b675-93381d9ef009.jpg\n"
     ]
    },
    {
     "ename": "NameError",
     "evalue": "name 'os' is not defined",
     "output_type": "error",
     "traceback": [
      "\u001B[0;31m---------------------------------------------------------------------------\u001B[0m",
      "\u001B[0;31mNameError\u001B[0m                                 Traceback (most recent call last)",
      "Input \u001B[0;32mIn [2]\u001B[0m, in \u001B[0;36m<module>\u001B[0;34m\u001B[0m\n\u001B[1;32m      7\u001B[0m \u001B[38;5;28;01mif\u001B[39;00m res\u001B[38;5;241m.\u001B[39mok:\n\u001B[1;32m      8\u001B[0m     img_data \u001B[38;5;241m=\u001B[39m res\u001B[38;5;241m.\u001B[39mcontent\n\u001B[0;32m----> 9\u001B[0m     file_name \u001B[38;5;241m=\u001B[39m \u001B[43mos\u001B[49m\u001B[38;5;241m.\u001B[39mpath\u001B[38;5;241m.\u001B[39mbasename(img_url) \u001B[38;5;66;03m#파일이름 가져오기\u001B[39;00m\n\u001B[1;32m     10\u001B[0m     file_name \u001B[38;5;241m=\u001B[39m \u001B[38;5;124m'\u001B[39m\u001B[38;5;124mimg/\u001B[39m\u001B[38;5;124m'\u001B[39m\u001B[38;5;241m+\u001B[39mfile_name\n\u001B[1;32m     12\u001B[0m     \u001B[38;5;28;01mwith\u001B[39;00m \u001B[38;5;28mopen\u001B[39m(file_name,\u001B[38;5;124m'\u001B[39m\u001B[38;5;124mwb\u001B[39m\u001B[38;5;124m'\u001B[39m) \u001B[38;5;28;01mas\u001B[39;00m file:\n",
      "\u001B[0;31mNameError\u001B[0m: name 'os' is not defined"
     ]
    }
   ],
   "source": [
    "for idx,img_url in enumerate(img_url_list,1):\n",
    "    print(f'다운로드번호 {idx} URL = {img_url}')\n",
    "    req_header = {'referer':main_url}\n",
    "    res = requests.get(img_url,headers=req_header)\n",
    "    # print(res)\n",
    "\n",
    "    if res.ok:\n",
    "        img_data = res.content\n",
    "        file_name = os.path.basename(img_url) #파일이름 가져오기\n",
    "        file_name = 'img/'+file_name\n",
    "\n",
    "        with open(file_name,'wb') as file:\n",
    "            file.write(img_data)\n",
    "\n",
    "\n"
   ]
  },
  {
   "cell_type": "markdown",
   "metadata": {
    "collapsed": false,
    "pycharm": {
     "name": "#%% md\n"
    }
   },
   "source": [
    "#### 파일들이 있는 디렉토리 삭제\n",
    "#### import shutil 을 사용함"
   ]
  },
  {
   "cell_type": "code",
   "execution_count": 21,
   "metadata": {
    "collapsed": false,
    "pycharm": {
     "name": "#%%\n"
    }
   },
   "outputs": [],
   "source": [
    "#파일이 있는 디렉토리 삭제\n",
    "import shutil\n",
    "import os\n",
    "dir_path = 'img'\n",
    "\n",
    "if os.path.exists(dir_path):#img디렉토리가 있다면\n",
    "    shutil.rmtree(dir_path)"
   ]
  },
  {
   "cell_type": "markdown",
   "metadata": {
    "collapsed": false,
    "pycharm": {
     "name": "#%% md\n"
    }
   },
   "source": [
    "### 웹툰의 타이틀과 특정회차 url을 아규먼트 받아서 다운로드 하는 함수"
   ]
  },
  {
   "cell_type": "code",
   "execution_count": 6,
   "metadata": {
    "collapsed": false,
    "pycharm": {
     "name": "#%%\n"
    }
   },
   "outputs": [
    {
     "ename": "IndentationError",
     "evalue": "unindent does not match any outer indentation level (<tokenize>, line 39)",
     "output_type": "error",
     "traceback": [
      "\u001B[0;36m  File \u001B[0;32m<tokenize>:39\u001B[0;36m\u001B[0m\n\u001B[0;31m    file_name = title_path + '\\\\' + os.path.basename(img_url)\u001B[0m\n\u001B[0m    ^\u001B[0m\n\u001B[0;31mIndentationError\u001B[0m\u001B[0;31m:\u001B[0m unindent does not match any outer indentation level\n"
     ]
    }
   ],
   "source": [
    "import requests\n",
    "from bs4 import BeautifulSoup\n",
    "import os\n",
    "import shutil\n",
    "\n",
    "#img 폴더가 있으면 삭제하고, 없으면 생성한다.\n",
    "def download_image(title,round_url):\n",
    "    dir_path = 'img'\n",
    "    if os.path.exists(dir_path):#img디렉토리가 있다면\n",
    "        shutil.rmtree(dir_path)\n",
    "    if not os.path.isdir(dir_path):\n",
    "        title_path = os.path.join(dir_path,title)\n",
    "\n",
    "    req_header = {'referer':round_url}\n",
    "    res = requests.get(round_url,headers=req_header)\n",
    "\n",
    "    if res.ok:\n",
    "        # 응답으로 받은 html 텍스트를 파싱하기 위한 파서(Beautifulsoup)객체 생성\n",
    "\n",
    "        soup = BeautifulSoup(res.text,'html.parser') #res.text 는 html\n",
    "        img_tags = soup.select(\"img[src$='.jpg']\")#img태그에 src속성에 .jpg가있는 태그만 선택\n",
    "        # print(soup)\n",
    "\n",
    "        # 특정회차 url을 referer 헤더로 설정하기\n",
    "        #\n",
    "        # req_header = {'referer':round_url}\n",
    "\n",
    "\n",
    "    for idx,img_tag in enumerate(img_tags,1):\n",
    "\n",
    "        print(f'------->다운로드번호{idx}')\n",
    "        img_url = img_tag['src']\n",
    "        res_img = requests.get(img_url,headers=req_header) #이미지에 대한 요청을 보냄\n",
    "        if res_img.ok:\n",
    "            #image binary 데이터 가져오기\n",
    "            img_data = res_img.content\n",
    "\n",
    "            # #img\\외모지상주의\\thumbnail_IMAG04_be987481-7e58-478d-ae1b-c33228ccc658.jpg\n",
    "           file_name = title_path + '\\\\' + os.path.basename(img_url)\n",
    "\n",
    "\n",
    "\n"
   ]
  },
  {
   "cell_type": "code",
   "execution_count": 56,
   "metadata": {
    "collapsed": false,
    "pycharm": {
     "name": "#%%\n"
    }
   },
   "outputs": [],
   "source": [
    "def download_image(title, round_url):\n",
    "    import requests\n",
    "    from bs4 import BeautifulSoup\n",
    "    import os\n",
    "    import shutil\n",
    "\n",
    "    # img 폴더가 있으면 삭제하기\n",
    "    dir_path = 'img'\n",
    "\n",
    "    if os.path.exists(dir_path):\n",
    "        shutil.rmtree(dir_path)\n",
    "\n",
    "    #img 디렉토리가 없으면\n",
    "    if not os.path.isdir(dir_path):\n",
    "        #img\\외모지상주의\n",
    "        title_path = os.path.join(dir_path, title)\n",
    "        print(title_path)\n",
    "        os.makedirs(title_path)\n",
    "\n",
    "    # img url 목록을 알아내기 위한 요청을 보내기\n",
    "    res = requests.get(round_url)\n",
    "    if res.ok:\n",
    "        # 응답으로 받은 html텍스트를 파싱하기 위한 파서(BeautifulSoup)객체생성\n",
    "        soup = BeautifulSoup(res.text, 'html.parser')\n",
    "        # img태그 중에서 src 속성의 값이 .jpg로 끝나는 태그들만 선택하기\n",
    "        img_tags = soup.select(\"img[src$='.jpg']\")\n",
    "        print( len(img_tags), type(img_tags) )\n",
    "\n",
    "        # 특정회차 url을 referer 헤더로 설정하기\n",
    "        req_header = { 'referer':round_url }\n",
    "\n",
    "        for idx, img_tag in enumerate(img_tags,1):\n",
    "            #img 태그의 src 속성의 값을 추출하기\n",
    "            print(f'------> 다운로드 번호 {idx}')\n",
    "            img_url = img_tag['src']\n",
    "\n",
    "            # jpg image 데이터 요청하기\n",
    "            res_img = requests.get(img_url, headers=req_header)\n",
    "            if res_img.ok:\n",
    "                # image binary 데이터 가져오기\n",
    "                img_data = res_img.content\n",
    "\n",
    "                #img\\외모지상주의\\thumbnail_IMAG04_be987481-7e58-478d-ae1b-c33228ccc658.jpg\n",
    "                file_name = title_path + '\\\\' + os.path.basename(img_url)\n",
    "\n",
    "\n",
    "                with open(file_name, 'wb') as file:\n",
    "                    print(f'{file_name} ({len(img_data)}) bytes')\n",
    "                    file.write(img_data)"
   ]
  },
  {
   "cell_type": "code",
   "execution_count": 9,
   "metadata": {
    "collapsed": false,
    "pycharm": {
     "name": "#%%\n"
    }
   },
   "outputs": [
    {
     "data": {
      "text/plain": [
       "{'img1': <_io.BufferedReader name='/Users/jonghwashin/Documents/webscrap_source/data/f1.jpg'>,\n",
       " 'img2': <_io.BufferedReader name='/Users/jonghwashin/Documents/webscrap_source/data/f2.jpg'>,\n",
       " 'img3': <_io.BufferedReader name='/Users/jonghwashin/Documents/webscrap_source/data/f3.jpg'>}"
      ]
     },
     "execution_count": 9,
     "metadata": {},
     "output_type": "execute_result"
    }
   ],
   "source": [
    "import requests\n",
    "upload_files_dict = {\n",
    "    'img1': open('/Users/jonghwashin/Documents/webscrap_source/data/f1.jpg','rb'),\n",
    "    'img2': open('/Users/jonghwashin/Documents/webscrap_source/data/f2.jpg','rb'),\n",
    "    'img3': open('/Users/jonghwashin/Documents/webscrap_source/data/f3.jpg','rb'),\n",
    "}\n",
    "upload_files_dict"
   ]
  },
  {
   "cell_type": "markdown",
   "metadata": {
    "collapsed": false,
    "pycharm": {
     "name": "#%% md\n"
    }
   },
   "source": [
    "### image file upload\n",
    "* https://httpbin.org/post URL로 요청을 보내서 다운로드 받은 img 파일을 업로드 하기\n",
    "* requests.post() 함수를 사용하고, files 속성에 image data를 지정한다.\n",
    "* files – (optional) Dictionary of ‘filename’: file-like-objects for multipart encoding upload."
   ]
  },
  {
   "cell_type": "code",
   "execution_count": 7,
   "metadata": {
    "collapsed": false,
    "pycharm": {
     "name": "#%%\n"
    }
   },
   "outputs": [
    {
     "ename": "NameError",
     "evalue": "name 'upload_files_dict' is not defined",
     "output_type": "error",
     "traceback": [
      "\u001B[0;31m---------------------------------------------------------------------------\u001B[0m",
      "\u001B[0;31mNameError\u001B[0m                                 Traceback (most recent call last)",
      "Input \u001B[0;32mIn [7]\u001B[0m, in \u001B[0;36m<module>\u001B[0;34m\u001B[0m\n\u001B[1;32m      1\u001B[0m url \u001B[38;5;241m=\u001B[39m \u001B[38;5;124m'\u001B[39m\u001B[38;5;124mhttp://httpbin.org/post\u001B[39m\u001B[38;5;124m'\u001B[39m\n\u001B[0;32m----> 2\u001B[0m res \u001B[38;5;241m=\u001B[39m requests\u001B[38;5;241m.\u001B[39mpost(url,files \u001B[38;5;241m=\u001B[39m \u001B[43mupload_files_dict\u001B[49m)\n\u001B[1;32m      3\u001B[0m \u001B[38;5;66;03m# print(res.status_code)\u001B[39;00m\n\u001B[1;32m      4\u001B[0m \u001B[38;5;66;03m# print(res)\u001B[39;00m\n\u001B[1;32m      5\u001B[0m res_data \u001B[38;5;241m=\u001B[39m res\u001B[38;5;241m.\u001B[39mjson()\n",
      "\u001B[0;31mNameError\u001B[0m: name 'upload_files_dict' is not defined"
     ]
    }
   ],
   "source": [
    "url = 'http://httpbin.org/post'\n",
    "res = requests.post(url,files = upload_files_dict)\n",
    "# print(res.status_code)\n",
    "# print(res)\n",
    "res_data = res.json()\n",
    "# print(res_data)\n"
   ]
  },
  {
   "cell_type": "code",
   "execution_count": null,
   "metadata": {
    "collapsed": false,
    "pycharm": {
     "name": "#%%\n"
    }
   },
   "outputs": [],
   "source": []
  }
 ],
 "metadata": {
  "kernelspec": {
   "display_name": "Python 3",
   "language": "python",
   "name": "python3"
  },
  "language_info": {
   "codemirror_mode": {
    "name": "ipython",
    "version": 2
   },
   "file_extension": ".py",
   "mimetype": "text/x-python",
   "name": "python",
   "nbconvert_exporter": "python",
   "pygments_lexer": "ipython2",
   "version": "3.9.7"
  }
 },
 "nbformat": 4,
 "nbformat_minor": 0
}