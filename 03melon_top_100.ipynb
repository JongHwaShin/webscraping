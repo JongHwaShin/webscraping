{
 "cells": [
  {
   "cell_type": "code",
   "execution_count": 3,
   "metadata": {
    "collapsed": true
   },
   "outputs": [],
   "source": [
    "import requests\n",
    "from bs4 import BeautifulSoup\n",
    "url = 'https://www.melon.com/chart/index.htm'\n",
    "hearders = {\n",
    "    'User-Agent': 'Mozilla/5.0 (Macintosh; Intel Mac OS X 10_15_7) AppleWebKit/537.36 (KHTML, like Gecko) Chrome/97.0.4692.99 Safari/537.36'\n",
    "}\n",
    "res = requests.get(url,headers=hearders)\n",
    "html = res.text\n",
    "soup = BeautifulSoup(html,'html.parser')\n",
    "# print(soup)"
   ]
  },
  {
   "cell_type": "code",
   "execution_count": 5,
   "outputs": [
    {
     "name": "stdout",
     "output_type": "stream",
     "text": [
      "1 취중고백\n",
      "2 사랑은 늘 도망가\n",
      "3 Step Back\n",
      "4 호랑수월가\n",
      "5 회전목마 (Feat. Zion.T, 원슈타인) (Prod. Slom)\n",
      "6 ELEVEN\n",
      "7 리무진 (Feat. MINO) (Prod. GRAY)\n",
      "8 Counting Stars (Feat. Beenzino)\n",
      "9 Dreams Come True\n",
      "10 눈이 오잖아(Feat.헤이즈)\n",
      "11 다정히 내 이름을 부르면\n",
      "12 겨울잠\n",
      "13 Can't Control Myself\n",
      "14 이제 나만 믿어요\n",
      "15 STAY\n",
      "16 만남은 쉽고 이별은 어려워 (Feat. Leellamarz) (Prod. TOIL)\n",
      "17 strawberry moon\n",
      "18 신호등\n",
      "19 Next Level\n",
      "20 Christmas Tree\n",
      "21 Savage\n",
      "22 드라마\n",
      "23 SMILEY (Feat. BIBI)\n",
      "24 언덕나무\n",
      "25 그대라는 사치\n",
      "26 다시 사랑한다면 (김필 Ver.)\n",
      "27 서랍\n",
      "28 우리가 헤어져야 했던 이유\n",
      "29 별빛 같은 나의 사랑아\n",
      "30 흰눈\n",
      "31 잊었니\n",
      "32 사랑이 아니었다고 말하지 마요\n",
      "33 너를 생각해\n",
      "34 Butter\n",
      "35 HERO\n",
      "36 끝사랑\n",
      "37 OHAYO MY NIGHT\n",
      "38 네가 없는 밤 (Feat. ASH ISLAND) (Prod. GRAY)\n",
      "39 Dynamite\n",
      "40 문득\n",
      "41 Permission to Dance\n",
      "42 abcdefu\n",
      "43 My Universe\n",
      "44 불협화음 (Feat. AKMU) (Prod. GRAY)\n",
      "45 Bk Love\n",
      "46 바라만 본다\n",
      "47 너 아니면 안돼\n",
      "48 여름비\n",
      "49 Weekend\n",
      "50 낙하 (with 아이유)\n",
      "51 쉬어 (Feat. MINO) (Prod. GRAY)\n",
      "52 Celebrity\n",
      "53 Wake Up (Prod. 코드 쿤스트)\n",
      "54 그게 더 편할 것 같아 (N번째 연애 X 멜로망스)\n",
      "55 라일락\n",
      "56 헤픈 우연\n",
      "57 밤하늘의 별을(2020)\n",
      "58 Bad Habits\n",
      "59 이별후회\n",
      "60 찰나가 영원이 될 때 (The Eternal Moment)\n",
      "61 사이렌 Remix (Feat. UNEDUCATED KID, Paul Blanco)\n",
      "62 고백\n",
      "63 어떻게 이별까지 사랑하겠어, 널 사랑하는 거지\n",
      "64 모든 날, 모든 순간 (Every day, Every Moment)\n",
      "65 안녕 우린 헤어져야만 해\n",
      "66 Off My Face\n",
      "67 내 손을 잡아\n",
      "68 Good Night (Feat. BE'O)\n",
      "69 계단말고 엘리베이터\n",
      "70 추억은 만남보다 이별에 남아\n",
      "71 롤린 (Rollin')\n",
      "72 Dun Dun Dance\n",
      "73 너의 모든 순간\n",
      "74 Blueming\n",
      "75 밝게 빛나는 별이 되어 비춰줄게\n",
      "76 Because\n",
      "77 봄날\n",
      "78 오늘도 빛나는 너에게 (To You My Light) (Feat.이라온)\n",
      "79 작은 것들을 위한 시 (Boy With Luv) (Feat. Halsey)\n",
      "80 취기를 빌려 (취향저격 그녀 X 산들)\n",
      "81 시간을 거슬러 (낮에 뜨는 달 X 케이윌)\n",
      "82 검정색하트 (Feat. Leellamarz, BE'O)\n",
      "83 그날에 나는 맘이 편했을까\n",
      "84 Still I Love You\n",
      "85 DM\n",
      "86 비가 오는 날엔 (2021)\n",
      "87 Savage Love (Laxed - Siren Beat) (BTS Remix)\n",
      "88 Queendom\n",
      "89 오묘해\n",
      "90 멜로디\n",
      "91 정거장\n",
      "92 MBTI (Feat. 쿠기 & 로꼬) (Prod. GRAY)\n",
      "93 좋아좋아\n",
      "94 DUMB DUMB\n",
      "95 나 그댈위해 시 한편을 쓰겠어\n",
      "96 Life Goes On\n",
      "97 깨우지 마\n",
      "98 WA DA DA\n",
      "99 눈이 오던 날 (Feat. SOLE)\n",
      "100 비와 당신\n"
     ]
    }
   ],
   "source": [
    "tag_list = []\n",
    "for tr_tag in soup.find(id='tb_list').find_all('tr'):\n",
    "    tag = tr_tag.find(class_ = 'wrap_song_info')\n",
    "\n",
    "    if tag:\n",
    "        tag_sub_list = tag.find_all(href=lambda value:(value and 'playSong' in value))\n",
    "        tag_list.extend(tag_sub_list)\n",
    "for idx,tag in enumerate(tag_list,1):\n",
    "     print(idx,tag.text)"
   ],
   "metadata": {
    "collapsed": false,
    "pycharm": {
     "name": "#%%\n"
    }
   }
  },
  {
   "cell_type": "code",
   "execution_count": null,
   "outputs": [],
   "source": [],
   "metadata": {
    "collapsed": false,
    "pycharm": {
     "name": "#%%\n"
    }
   }
  }
 ],
 "metadata": {
  "kernelspec": {
   "display_name": "Python 3",
   "language": "python",
   "name": "python3"
  },
  "language_info": {
   "codemirror_mode": {
    "name": "ipython",
    "version": 2
   },
   "file_extension": ".py",
   "mimetype": "text/x-python",
   "name": "python",
   "nbconvert_exporter": "python",
   "pygments_lexer": "ipython2",
   "version": "2.7.6"
  }
 },
 "nbformat": 4,
 "nbformat_minor": 0
}