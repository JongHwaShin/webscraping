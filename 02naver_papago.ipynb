{
 "cells": [
  {
   "cell_type": "markdown",
   "source": [
    "## urlib을 이용한 번역 API 예제"
   ],
   "metadata": {
    "collapsed": false
   }
  },
  {
   "cell_type": "code",
   "metadata": {
    "collapsed": true,
    "pycharm": {
     "name": "#%%\n"
    }
   },
   "source": [
    "import os\n",
    "import sys\n",
    "import urllib.request\n",
    "client_id = \"UlegCJbddOrUBzM9mXTi\" # 개발자센터에서 발급받은 Client ID 값\n",
    "client_secret = \"bNXSNtPD3Z\" # 개발자센터에서 발급받은 Client Secret 값\n",
    "encText = urllib.parse.quote(\"i am apple\")\n",
    "data = \"source=en&target=ko&text=\" + encText\n",
    "url = \"https://openapi.naver.com/v1/papago/n2mt\"\n",
    "request = urllib.request.Request(url)\n",
    "request.add_header(\"X-Naver-Client-Id\",client_id)\n",
    "request.add_header(\"X-Naver-Client-Secret\",client_secret)\n",
    "response = urllib.request.urlopen(request, data=data.encode(\"utf-8\"))\n",
    "rescode = response.getcode()\n",
    "if(rescode==200):\n",
    "    response_body = response.read()\n",
    "    a = response_body.decode('utf-8')\n",
    "else:\n",
    "    print(\"Error Code:\" + rescode)\n",
    "\n",
    "\n"
   ],
   "execution_count": 9,
   "outputs": [
    {
     "name": "stdout",
     "output_type": "stream",
     "text": [
      "{\"message\":{\"@type\":\"response\",\"@service\":\"naverservice.nmt.proxy\",\"@version\":\"1.0.0\",\"result\":{\"srcLangType\":\"en\",\"tarLangType\":\"ko\",\"translatedText\":\"나는 사과다\",\"engineType\":\"N2MT\",\"pivot\":null}}}\n"
     ]
    },
    {
     "ename": "AttributeError",
     "evalue": "'str' object has no attribute 'dict'",
     "output_type": "error",
     "traceback": [
      "\u001B[0;31m---------------------------------------------------------------------------\u001B[0m",
      "\u001B[0;31mAttributeError\u001B[0m                            Traceback (most recent call last)",
      "Input \u001B[0;32mIn [9]\u001B[0m, in \u001B[0;36m<module>\u001B[0;34m\u001B[0m\n\u001B[1;32m     18\u001B[0m     \u001B[38;5;28mprint\u001B[39m(\u001B[38;5;124m\"\u001B[39m\u001B[38;5;124mError Code:\u001B[39m\u001B[38;5;124m\"\u001B[39m \u001B[38;5;241m+\u001B[39m rescode)\n\u001B[1;32m     20\u001B[0m \u001B[38;5;28mprint\u001B[39m(a)\n\u001B[0;32m---> 21\u001B[0m \u001B[38;5;28mprint\u001B[39m(\u001B[43ma\u001B[49m\u001B[38;5;241;43m.\u001B[39;49m\u001B[43mdict\u001B[49m())\n",
      "\u001B[0;31mAttributeError\u001B[0m: 'str' object has no attribute 'dict'"
     ]
    }
   ]
  },
  {
   "cell_type": "markdown",
   "source": [
    "## Requests를 사용한 papago 번역 api 예제"
   ],
   "metadata": {
    "collapsed": false,
    "pycharm": {
     "name": "#%% md\n"
    }
   }
  },
  {
   "cell_type": "code",
   "execution_count": 16,
   "outputs": [
    {
     "name": "stdout",
     "output_type": "stream",
     "text": [
      "{'source': 'en', 'target': 'ko', 'text': 'i am apple'}\n",
      "200 True\n",
      "{\"message\":{\"@type\":\"response\",\"@service\":\"naverservice.nmt.proxy\",\"@version\":\"1.0.0\",\"result\":{\"srcLangType\":\"en\",\"tarLangType\":\"ko\",\"translatedText\":\"나는 사과다\",\"engineType\":\"N2MT\",\"pivot\":null}}}\n",
      "<bound method Response.json of <Response [200]>>\n",
      "나는 사과다\n"
     ]
    }
   ],
   "source": [
    "import requests\n",
    "client_id = \"UlegCJbddOrUBzM9mXTi\" # 개발자센터에서 발급받은 Client ID 값\n",
    "client_secret = \"bNXSNtPD3Z\" # 개발자센터에서 발급받은 Client Secret 값\n",
    "url = \"https://openapi.naver.com/v1/papago/n2mt\"\n",
    "source_txt = \"i am apple\"\n",
    "\n",
    "#요청 헤더(request header)\n",
    "req_header = {\"X-Naver-Client-Id\":client_id,\"X-Naver-Client-Secret\":client_secret\n",
    "}\n",
    "\n",
    "#요청 파라미터\n",
    "req_param = {\"source\":\"en\", \"target\":\"ko\", \"text\":source_txt }\n",
    "print(req_param)\n",
    "\n",
    "\n",
    "res = requests.post(url,headers=req_header,data=req_param) #res = responce\n",
    "print(res.status_code,res.ok) #응답코드\n",
    "if res.ok:\n",
    "    print(res.text)\n",
    "    print(res.json)\n",
    "    trans_txt = res.json()['message']['result']['translatedText']\n",
    "    print(trans_txt)\n",
    "else:\n",
    "    print('Errorcode')"
   ],
   "metadata": {
    "collapsed": false,
    "pycharm": {
     "name": "#%%\n"
    }
   }
  },
  {
   "cell_type": "code",
   "execution_count": 1,
   "outputs": [
    {
     "name": "stdout",
     "output_type": "stream",
     "text": [
      "{'source': 'en', 'target': 'ko', 'text': \"Yesterday all my troubles seemed so far away.\\nNow it looks as though they're here to stay.\\nOh, I believe in yesterday.\\n\\nSuddenly I'm not half the man I used to be.\\nThere's a shadow hanging over me.\\nOh, yesterday came suddenly.\\n\\nWhy she had to go, I don't know, she wouldn't say.\\nI said something wrong, now I long for yesterday.\\n\\nYesterday love was such an easy game to play.\\nNow I need a place to hide away.\\nOh, I believe in yesterday.\\n\\nWhy she had to go, I don't know, she wouldn't say.\\nI said something wrong, now I long for yesterday.\\n\\nYesterday love was such an easy game to play.\\nNow I need a place to hide away.\\nOh, I believe in yesterday.\\n\\nMm mm mm mm mm mm mm\"}\n",
      "200 True\n",
      "어제는 내 모든 고민이 너무 멀리 있는 것 같았어.\n",
      "이제 그들은 여기 머물려고 온 것처럼 보인다.\n",
      "오, 나는 어제를 다시 그리게 돼.\n",
      "\n",
      "갑자기 나는 예전의 절반도 되지 않았다.\n",
      "그림자가 드리워져 있어요.\n",
      "아, 어제가 갑자기 왔네요.\n",
      "\n",
      "왜 그녀가 가야만 했는지, 모르겠어요, 그녀는 말하려 하지 않았어요.\n",
      "내가 잘못 말했는데, 어제가 그리워요.\n",
      "\n",
      "어제는 사랑이 정말 쉬운 게임이었다.\n",
      "이제 숨을 곳이 필요해\n",
      "오, 나는 어제를 다시 그리게 돼.\n",
      "\n",
      "왜 그녀가 가야만 했는지, 모르겠어요, 그녀는 말하려 하지 않았어요.\n",
      "내가 잘못 말했는데, 어제가 그리워요.\n",
      "\n",
      "어제는 사랑이 정말 쉬운 게임이었다.\n",
      "이제 숨을 곳이 필요해\n",
      "오, 나는 어제를 다시 그리게 돼.\n",
      "\n",
      "mm mm mm mm mm mm\n"
     ]
    }
   ],
   "source": [
    "import requests\n",
    "client_id = \"UlegCJbddOrUBzM9mXTi\" # 개발자센터에서 발급받은 Client ID 값\n",
    "client_secret = \"bNXSNtPD3Z\" # 개발자센터에서 발급받은 Client Secret 값\n",
    "url = \"https://openapi.naver.com/v1/papago/n2mt\"\n",
    "yester_day_file = open('/Users/jonghwashin/Documents/webscrap_source/data/yesterday.txt','r')\n",
    "data = yester_day_file.read()\n",
    "\n",
    "\n",
    "\n",
    "# 요청 헤더(request header)\n",
    "req_header = {\"X-Naver-Client-Id\":client_id,\"X-Naver-Client-Secret\":client_secret\n",
    "}\n",
    "\n",
    "#요청 파라미터\n",
    "req_param = {\"source\":\"en\", \"target\":\"ko\", \"text\":data }\n",
    "print(req_param)\n",
    "\n",
    "\n",
    "res = requests.post(url,headers=req_header,data=req_param) #res = responce\n",
    "print(res.status_code,res.ok) #응답코드\n",
    "if res.ok:\n",
    "    # print(res.text)\n",
    "    # print(res.json)\n",
    "    trans_txt = res.json()['message']['result']['translatedText']\n",
    "    print(trans_txt)\n",
    "else:\n",
    "    print('Errorcode')"
   ],
   "metadata": {
    "collapsed": false,
    "pycharm": {
     "name": "#%%\n"
    }
   }
  },
  {
   "cell_type": "code",
   "execution_count": null,
   "outputs": [],
   "source": [],
   "metadata": {
    "collapsed": false,
    "pycharm": {
     "name": "#%%\n"
    }
   }
  }
 ],
 "metadata": {
  "kernelspec": {
   "display_name": "Python 3",
   "language": "python",
   "name": "python3"
  },
  "language_info": {
   "codemirror_mode": {
    "name": "ipython",
    "version": 2
   },
   "file_extension": ".py",
   "mimetype": "text/x-python",
   "name": "python",
   "nbconvert_exporter": "python",
   "pygments_lexer": "ipython2",
   "version": "2.7.6"
  }
 },
 "nbformat": 4,
 "nbformat_minor": 0
}