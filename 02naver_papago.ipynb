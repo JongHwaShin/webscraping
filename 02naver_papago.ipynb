{
 "cells": [
  {
   "cell_type": "markdown",
   "source": [
    "## urlib을 이용한 번역 API 예제"
   ],
   "metadata": {
    "collapsed": false
   }
  },
  {
   "cell_type": "code",
   "metadata": {
    "collapsed": true,
    "pycharm": {
     "name": "#%%\n"
    }
   },
   "source": [
    "import os\n",
    "import sys\n",
    "import urllib.request\n",
    "client_id = \"UlegCJbddOrUBzM9mXTi\" # 개발자센터에서 발급받은 Client ID 값\n",
    "client_secret = \"bNXSNtPD3Z\" # 개발자센터에서 발급받은 Client Secret 값\n",
    "encText = urllib.parse.quote(\"i am apple\")\n",
    "data = \"source=en&target=ko&text=\" + encText\n",
    "url = \"https://openapi.naver.com/v1/papago/n2mt\"\n",
    "request = urllib.request.Request(url)\n",
    "request.add_header(\"X-Naver-Client-Id\",client_id)\n",
    "request.add_header(\"X-Naver-Client-Secret\",client_secret)\n",
    "response = urllib.request.urlopen(request, data=data.encode(\"utf-8\"))\n",
    "rescode = response.getcode()\n",
    "if(rescode==200):\n",
    "    response_body = response.read()\n",
    "    a = response_body.decode('utf-8')\n",
    "else:\n",
    "    print(\"Error Code:\" + rescode)\n",
    "\n",
    "\n"
   ],
   "execution_count": 1,
   "outputs": []
  },
  {
   "cell_type": "markdown",
   "source": [
    "## Requests를 사용한 papago 번역 api 예제"
   ],
   "metadata": {
    "collapsed": false,
    "pycharm": {
     "name": "#%% md\n"
    }
   }
  },
  {
   "cell_type": "code",
   "execution_count": 16,
   "outputs": [
    {
     "name": "stdout",
     "output_type": "stream",
     "text": [
      "{'source': 'en', 'target': 'ko', 'text': 'i am apple'}\n",
      "200 True\n",
      "{\"message\":{\"@type\":\"response\",\"@service\":\"naverservice.nmt.proxy\",\"@version\":\"1.0.0\",\"result\":{\"srcLangType\":\"en\",\"tarLangType\":\"ko\",\"translatedText\":\"나는 사과다\",\"engineType\":\"N2MT\",\"pivot\":null}}}\n",
      "<bound method Response.json of <Response [200]>>\n",
      "나는 사과다\n"
     ]
    }
   ],
   "source": [
    "import requests\n",
    "client_id = \"UlegCJbddOrUBzM9mXTi\" # 개발자센터에서 발급받은 Client ID 값\n",
    "client_secret = \"bNXSNtPD3Z\" # 개발자센터에서 발급받은 Client Secret 값\n",
    "url = \"https://openapi.naver.com/v1/papago/n2mt\"\n",
    "source_txt = \"i am apple\"\n",
    "\n",
    "#요청 헤더(request header)\n",
    "req_header = {\"X-Naver-Client-Id\":client_id,\"X-Naver-Client-Secret\":client_secret\n",
    "}\n",
    "\n",
    "#요청 파라미터\n",
    "req_param = {\"source\":\"en\", \"target\":\"ko\", \"text\":source_txt }\n",
    "print(req_param)\n",
    "\n",
    "\n",
    "res = requests.post(url,headers=req_header,data=req_param) #res = responce\n",
    "print(res.status_code,res.ok) #응답코드\n",
    "if res.ok:\n",
    "    print(res.text)\n",
    "    print(res.json)\n",
    "    trans_txt = res.json()['message']['result']['translatedText']\n",
    "    print(trans_txt)\n",
    "else:\n",
    "    print('Errorcode')"
   ],
   "metadata": {
    "collapsed": false,
    "pycharm": {
     "name": "#%%\n"
    }
   }
  },
  {
   "cell_type": "code",
   "execution_count": 3,
   "outputs": [
    {
     "name": "stdout",
     "output_type": "stream",
     "text": [
      "200 True\n"
     ]
    }
   ],
   "source": [
    "import requests\n",
    "client_id = \"UlegCJbddOrUBzM9mXTi\" # 개발자센터에서 발급받은 Client ID 값\n",
    "client_secret = \"bNXSNtPD3Z\" # 개발자센터에서 발급받은 Client Secret 값\n",
    "url = \"https://openapi.naver.com/v1/papago/n2mt\"\n",
    "yester_day_file = open('/Users/jonghwashin/Documents/webscrap_source/data/yesterday.txt','r')\n",
    "data = yester_day_file.read()\n",
    "\n",
    "\n",
    "\n",
    "# 요청 헤더(request header)\n",
    "req_header = {\"X-Naver-Client-Id\":client_id,\"X-Naver-Client-Secret\":client_secret\n",
    "}\n",
    "\n",
    "#요청 파라미터\n",
    "req_param = {\"source\":\"en\", \"target\":\"ko\", \"text\":data }\n",
    "# print(req_param)\n",
    "\n",
    "\n",
    "res = requests.post(url,headers=req_header,data=req_param) #res = responce\n",
    "print(res.status_code,res.ok) #응답코드\n",
    "if res.ok:\n",
    "    # print(res.text)\n",
    "    # print(res.json)\n",
    "    trans_txt = res.json()['message']['result']['translatedText']\n",
    "    # print(trans_txt)\n",
    "else:\n",
    "    print('Errorcode')"
   ],
   "metadata": {
    "collapsed": false,
    "pycharm": {
     "name": "#%%\n"
    }
   }
  },
  {
   "cell_type": "code",
   "execution_count": null,
   "outputs": [],
   "source": [],
   "metadata": {
    "collapsed": false,
    "pycharm": {
     "name": "#%%\n"
    }
   }
  }
 ],
 "metadata": {
  "kernelspec": {
   "display_name": "Python 3",
   "language": "python",
   "name": "python3"
  },
  "language_info": {
   "codemirror_mode": {
    "name": "ipython",
    "version": 2
   },
   "file_extension": ".py",
   "mimetype": "text/x-python",
   "name": "python",
   "nbconvert_exporter": "python",
   "pygments_lexer": "ipython2",
   "version": "2.7.6"
  }
 },
 "nbformat": 4,
 "nbformat_minor": 0
}