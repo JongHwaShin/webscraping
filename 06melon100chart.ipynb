{
 "cells": [
  {
   "cell_type": "markdown",
   "source": [
    "### Melon100 Chart\n",
    "* 100곡의 노래의 제목과 SongId 추출해서 list에 저장\n",
    "* 노래의 상세정보를 추출해서 list와 dict에 저장해서 json 파일로 저장하기\n",
    "* json 파일을 load 하여 Pandas의 DataFrame에 저장하기\n",
    "* DataFrame 객체를 DB에 Table에 저장하기"
   ],
   "metadata": {
    "collapsed": false
   }
  },
  {
   "cell_type": "code",
   "execution_count": 1,
   "metadata": {
    "collapsed": true
   },
   "outputs": [],
   "source": [
    "import requests\n",
    "from bs4 import BeautifulSoup\n",
    "import re"
   ]
  },
  {
   "cell_type": "code",
   "execution_count": 208,
   "outputs": [],
   "source": [
    "url = 'https://www.melon.com/chart/index.htm'\n",
    "rec_hearder_dict = {\n",
    "    'User-Agent': 'Mozilla/5.0 (Macintosh; Intel Mac OS X 10_15_7) AppleWebKit/537.36 (KHTML, like Gecko) Chrome/97.0.4692.99 Safari/537.36'\n",
    "}\n",
    "\n",
    "res = requests.get(url,headers=rec_hearder_dict)\n",
    "\n",
    "if res.ok:\n",
    "    html = res.text\n",
    "    soup = BeautifulSoup(html,'html.parser')\n",
    "    # print(len(soup.select(\"div#tb_list tr a[href*='playSong']\")))\n",
    "    a_tags = soup.select(\"div#tb_list tr a[href*='playSong']\")\n",
    "    song_info_list = []\n",
    "    #노래 100곡의 정보를 저장할 list\n",
    "    for idx,a_tag in enumerate(a_tags,1):\n",
    "        song_dict = {}\n",
    "        #노래 1곡의 정보를 저장할 dict 선언 (제목, songid, url)\n",
    "        song_title = a_tag.text\n",
    "        href_value = a_tag['href']\n",
    "        song_dict['song_title'] = song_title\n",
    "        # print(href_value)\n",
    "        # print(idx,song_title)\n",
    "        #정규표현식 사용 사이트 regexr.com\n",
    "        # href에 있는 songid의 값을 찾기위해\n",
    "        mached = re.search(r'(\\d+)\\);',href_value) #정규표현식 re 라이브러리 사용 정규표현식 쓸때는 r''사용\n",
    "        if mached :  ##songid가 있으면\n",
    "            song_id = mached.group(1) ##group(0)은 ); 아 포함된거 group(1)은 숫자만 포함된거임!\n",
    "            song_dict['song_id'] = song_id\n",
    "            song_detail_url = f'https://www.melon.com/song/detail.htm?songId={song_id}'\n",
    "            song_dict['song_detail_url'] = song_detail_url\n",
    "            # print(song_id,song_detail_url)\n",
    "            # print(song_dict)\n",
    "        song_info_list.append(song_dict)\n",
    "\n"
   ],
   "metadata": {
    "collapsed": false,
    "pycharm": {
     "name": "#%%\n"
    }
   }
  },
  {
   "cell_type": "code",
   "execution_count": 209,
   "outputs": [
    {
     "name": "stdout",
     "output_type": "stream",
     "text": [
      "1 취중고백\n",
      "2 사랑은 늘 도망가\n",
      "3 호랑수월가\n",
      "4 Step Back\n",
      "5 ELEVEN\n",
      "6 회전목마 (Feat. Zion.T, 원슈타인) (Prod. Slom)\n",
      "7 리무진 (Feat. MINO) (Prod. GRAY)\n",
      "8 Counting Stars (Feat. Beenzino)\n",
      "9 Dreams Come True\n",
      "10 눈이 오잖아(Feat.헤이즈)\n",
      "11 다정히 내 이름을 부르면\n",
      "12 Can't Control Myself\n",
      "13 겨울잠\n",
      "14 이제 나만 믿어요\n",
      "15 SMILEY (Feat. BIBI)\n",
      "16 STAY\n",
      "17 만남은 쉽고 이별은 어려워 (Feat. Leellamarz) (Prod. TOIL)\n",
      "18 신호등\n",
      "19 Next Level\n",
      "20 strawberry moon\n",
      "21 Savage\n",
      "22 Christmas Tree\n",
      "23 드라마\n",
      "24 그대라는 사치\n",
      "25 다시 사랑한다면 (김필 Ver.)\n",
      "26 별빛 같은 나의 사랑아\n",
      "27 우리가 헤어져야 했던 이유\n",
      "28 언덕나무\n",
      "29 서랍\n",
      "30 흰눈\n",
      "31 잊었니\n",
      "32 HERO\n",
      "33 abcdefu\n",
      "34 너를 생각해\n",
      "35 끝사랑\n",
      "36 Butter\n",
      "37 OHAYO MY NIGHT\n",
      "38 사랑이 아니었다고 말하지 마요\n",
      "39 문득\n",
      "40 네가 없는 밤 (Feat. ASH ISLAND) (Prod. GRAY)\n",
      "41 Bk Love\n",
      "42 불협화음 (Feat. AKMU) (Prod. GRAY)\n",
      "43 너 아니면 안돼\n",
      "44 Dynamite\n",
      "45 바라만 본다\n",
      "46 Permission to Dance\n",
      "47 Child\n",
      "48 여름비\n",
      "49 My Universe\n",
      "50 Weekend\n",
      "51 쉬어 (Feat. MINO) (Prod. GRAY)\n",
      "52 낙하 (with 아이유)\n",
      "53 Celebrity\n",
      "54 Wake Up (Prod. 코드 쿤스트)\n",
      "55 그게 더 편할 것 같아 (N번째 연애 X 멜로망스)\n",
      "56 밤하늘의 별을(2020)\n",
      "57 라일락\n",
      "58 헤픈 우연\n",
      "59 사이렌 Remix (Feat. UNEDUCATED KID, Paul Blanco)\n",
      "60 이별후회\n",
      "61 Bad Habits\n",
      "62 Good Night (Feat. BE'O)\n",
      "63 찰나가 영원이 될 때 (The Eternal Moment)\n",
      "64 모든 날, 모든 순간 (Every day, Every Moment)\n",
      "65 고백\n",
      "66 어떻게 이별까지 사랑하겠어, 널 사랑하는 거지\n",
      "67 Off My Face\n",
      "68 내 손을 잡아\n",
      "69 추억은 만남보다 이별에 남아\n",
      "70 계단말고 엘리베이터\n",
      "71 Dun Dun Dance\n",
      "72 너의 모든 순간\n",
      "73 롤린 (Rollin')\n",
      "74 Blueming\n",
      "75 밝게 빛나는 별이 되어 비춰줄게\n",
      "76 안녕 우린 헤어져야만 해\n",
      "77 봄날\n",
      "78 오늘도 빛나는 너에게 (To You My Light) (Feat.이라온)\n",
      "79 DM\n",
      "80 취기를 빌려 (취향저격 그녀 X 산들)\n",
      "81 작은 것들을 위한 시 (Boy With Luv) (Feat. Halsey)\n",
      "82 그날에 나는 맘이 편했을까\n",
      "83 시간을 거슬러 (낮에 뜨는 달 X 케이윌)\n",
      "84 Because\n",
      "85 Queendom\n",
      "86 비가 오는 날엔 (2021)\n",
      "87 멜로디\n",
      "88 Savage Love (Laxed - Siren Beat) (BTS Remix)\n",
      "89 강변북로\n",
      "90 나 그댈위해 시 한편을 쓰겠어\n",
      "91 좋아좋아\n",
      "92 오묘해\n",
      "93 Life Goes On\n",
      "94 검정색하트 (Feat. Leellamarz, BE'O)\n",
      "95 WA DA DA\n",
      "96 DUMB DUMB\n",
      "97 대낮에 한 이별\n",
      "98 MBTI (Feat. 쿠기 & 로꼬) (Prod. GRAY)\n",
      "99 Still I Love You\n",
      "100 정거장\n"
     ]
    }
   ],
   "source": [
    "song_detail_list = []\n",
    "\n",
    "for idx,song in enumerate(song_info_list,1):\n",
    "    #위에서 저장한 url을 통해 정보를 get\n",
    "    #노래 1곡의 상세정보(곡명,가수,좋아요,장르...)를 저장할 dict\n",
    "    song_detail_dict = {}\n",
    "\n",
    "    # print(song['song_detail_url'])\n",
    "    song_detail_url = song['song_detail_url']\n",
    "\n",
    "    res = requests.get(song_detail_url,headers=rec_hearder_dict)\n",
    "    soup = BeautifulSoup(res.text,'html.parser')\n",
    "\n",
    "\n",
    "    if res.ok:\n",
    "        song_detail_dict['곡명'] = song['song_title']\n",
    "        singer_span = soup.select(\"a[href*='goArtistDetail'] span\")## a태그 밑에 span 태그\n",
    "        print(idx,song['song_title'])\n",
    "        if singer_span:\n",
    "            song_detail_dict['가수'] = singer_span[0].text   ##singer_span에는 여러가지 span태그들이 존재함 그중 첫번째 것을 text화 시킴\n",
    "\n",
    "\n",
    "        song_dd = soup.select(\"div.meta dd\")\n",
    "\n",
    "    if song_dd:\n",
    "        song_detail_dict['앨범'] = song_dd[0].text\n",
    "        song_detail_dict['발매일'] = song_dd[1].text\n",
    "        song_detail_dict['장르'] = song_dd[2].text\n",
    "\n",
    "\n",
    "        song_id = song['song_id']\n",
    "        #좋아요 개수를 구하기 위해 request를 다시 날림!\n",
    "        like_url = f'https://www.melon.com/commonlike/getSongLike.json?contsIds={song_id}'\n",
    "        like_res = requests.get(like_url,headers=rec_hearder_dict)\n",
    "\n",
    "        #개발자도구에서 network로가서 구함\n",
    "        likes_count = like_res.json()['contsLike'][0]['SUMMCNT']\n",
    "\n",
    "\n",
    "        song_detail_dict['좋아요'] = likes_count\n",
    "    #노래가사\n",
    "    #<div class = \"lyric\" id = \"d_video_summary\">\n",
    "    lyric_div = soup.select(\"div#d_video_summary\")\n",
    "    if lyric_div:\n",
    "        lyric_temp = lyric_div[0].text\n",
    "        pattern = re.compile(r'[\\r\\n\\t]') #정규표현식을 찾는 패턴을 만듬\n",
    "        lyric = pattern.sub('',lyric_temp.strip()) # \\r\\n\\t(특수문자)를 ''(empty string)으로 대체해라(substitute) 그리고 공백제거까지\n",
    "        song_detail_dict['가사'] = lyric\n",
    "    else:\n",
    "        lyric = ''\n",
    "\n",
    "\n",
    "\n",
    "\n",
    "\n",
    "    song_detail_list.append(song_detail_dict)\n",
    "\n",
    "\n"
   ],
   "metadata": {
    "collapsed": false,
    "pycharm": {
     "name": "#%%\n"
    }
   }
  },
  {
   "cell_type": "code",
   "execution_count": 125,
   "outputs": [],
   "source": [
    "## json으로 저장하기\n",
    "import json\n",
    "\n",
    "\n",
    "with open('data/songs.json','w',encoding='UTF-8') as file :\n",
    "    file.write(json.dumps(song_detail_list,ensure_ascii=False)) #json 파일 쉽게 보려 http://jsonviewer.stack.hu 여기로가서봄"
   ],
   "metadata": {
    "collapsed": false,
    "pycharm": {
     "name": "#%%\n"
    }
   }
  },
  {
   "cell_type": "markdown",
   "source": [
    "### Pandas 의 DataFrame 객체 사용하기"
   ],
   "metadata": {
    "collapsed": false
   }
  },
  {
   "cell_type": "code",
   "execution_count": 131,
   "outputs": [],
   "source": [
    "import pandas as pd\n",
    "##song_detail_list를 읽이서 DataFrame 객체를 생성하는 방법\n",
    "#DataFrame 객체 생성\n",
    "song_df2 = pd.DataFrame(columns=['곡명','가수','앨범','발매일','장르','좋아요','가사'])\n",
    "for song_detail in song_detail_list:\n",
    "    series_obj = pd.Series(song_detail)\n",
    "    song_df2 = song_df2.append(series_obj,ignore_index=True)\n"
   ],
   "metadata": {
    "collapsed": false,
    "pycharm": {
     "name": "#%%\n"
    }
   }
  },
  {
   "cell_type": "code",
   "execution_count": 137,
   "outputs": [
    {
     "name": "stdout",
     "output_type": "stream",
     "text": [
      "shape (100, 7)\n",
      "columns Index(['곡명', '가수', '앨범', '발매일', '장르', '좋아요', '가사'], dtype='object')\n",
      "index RangeIndex(start=0, stop=100, step=1)\n",
      "values ['사랑은 늘 도망가' '임영웅' '신사와 아가씨 OST Part.2' '2021.10.11' '발라드, 국내드라마' 123992\n",
      " '눈물이 난다 이 길을 걸으면그 사람 손길이 자꾸 생각이 난다붙잡지 못하고 가슴만 떨었지내 아름답던 사람아사랑이란 게 참 쓰린 거더라잡으려 할수록 더 멀어지더라이별이란 게 참 쉬운 거더라내 잊지 못할 사람아사랑아 왜 도망가수줍은 아이처럼행여 놓아버릴까 봐꼭 움켜쥐지만그리움이 쫓아 사랑은 늘 도망가잠시 쉬어가면 좋을 텐데바람이 분다 옷깃을 세워도차가운 이별의 눈물이 차올라잊지 못해서 가슴에 사무친내 소중했던 사람아사랑아 왜 도망가수줍은 아이처럼행여 놓아버릴까 봐꼭 움켜쥐지만그리움이 쫓아 사랑은 늘 도망가잠시 쉬어가면 좋을 텐데기다림도 애태움도 다 버려야 하는데무얼 찾아 이 길을 서성일까무얼 찾아 여기 있나사랑아 왜 도망가수줍은 아이처럼행여 놓아버릴까 봐꼭 움켜쥐지만그리움이 쫓아 사랑은 늘 도망가잠시 쉬어가면 좋을 텐데잠시 쉬어가면 좋을 텐데']\n"
     ]
    }
   ],
   "source": [
    "import pandas as pd\n",
    "song_df = pd.read_json('data/songs.json')\n",
    "print('shape',song_df.shape) ##몇행 몇열인가?\n",
    "print('columns',song_df.columns)\n",
    "print('index',song_df.index)\n",
    "print('values',song_df.values[0])"
   ],
   "metadata": {
    "collapsed": false,
    "pycharm": {
     "name": "#%%\n"
    }
   }
  },
  {
   "cell_type": "code",
   "execution_count": 139,
   "outputs": [
    {
     "name": "stdout",
     "output_type": "stream",
     "text": [
      "<class 'pandas.core.frame.DataFrame'>\n",
      "RangeIndex: 100 entries, 0 to 99\n",
      "Data columns (total 7 columns):\n",
      " #   Column  Non-Null Count  Dtype \n",
      "---  ------  --------------  ----- \n",
      " 0   곡명      100 non-null    object\n",
      " 1   가수      100 non-null    object\n",
      " 2   앨범      100 non-null    object\n",
      " 3   발매일     100 non-null    object\n",
      " 4   장르      100 non-null    object\n",
      " 5   좋아요     100 non-null    int64 \n",
      " 6   가사      100 non-null    object\n",
      "dtypes: int64(1), object(6)\n",
      "memory usage: 5.6+ KB\n"
     ]
    }
   ],
   "source": [
    "song_df.info()"
   ],
   "metadata": {
    "collapsed": false,
    "pycharm": {
     "name": "#%%\n"
    }
   }
  },
  {
   "cell_type": "code",
   "execution_count": 144,
   "outputs": [
    {
     "name": "stdout",
     "output_type": "stream",
     "text": [
      "<class 'pandas.core.series.Series'>\n",
      "0              임영웅\n",
      "1       김민석 (멜로망스)\n",
      "2               탑현\n",
      "3     GOT the beat\n",
      "4         sokodomo\n",
      "          ...     \n",
      "95             조정석\n",
      "96     케이시 (Kassy)\n",
      "97             MC몽\n",
      "98             토요태\n",
      "99       BE'O (비오)\n",
      "Name: 가수, Length: 100, dtype: object\n"
     ]
    }
   ],
   "source": [
    "#가수 컬럼의 값을 선택하기\n",
    "\n",
    "print(type(song_df['가수']))\n",
    "print(song_df['가수'])"
   ],
   "metadata": {
    "collapsed": false,
    "pycharm": {
     "name": "#%%\n"
    }
   }
  },
  {
   "cell_type": "code",
   "execution_count": 154,
   "outputs": [
    {
     "name": "stdout",
     "output_type": "stream",
     "text": [
      "임영웅                    10\n",
      "아이유                     7\n",
      "방탄소년단                   6\n",
      "BE'O (비오)               5\n",
      "aespa                   3\n",
      "                       ..\n",
      "Coldplay                1\n",
      "아넌딜라이트(Anandelight)     1\n",
      "김민석 (멜로망스)              1\n",
      "쿠기 (Coogie)             1\n",
      "토요태                     1\n",
      "Name: 가수, Length: 65, dtype: int64\n"
     ]
    }
   ],
   "source": [
    "#가수 컬럼의 값별로 Row Counting\n",
    "song_df\n",
    "\n",
    "print(song_df['가수'].value_counts())"
   ],
   "metadata": {
    "collapsed": false,
    "pycharm": {
     "name": "#%%\n"
    }
   }
  },
  {
   "cell_type": "code",
   "execution_count": 155,
   "outputs": [
    {
     "name": "stdout",
     "output_type": "stream",
     "text": [
      "['임영웅' '김민석 (멜로망스)' '탑현' 'GOT the beat' 'sokodomo' 'IVE (아이브)' \"BE'O (비오)\"\n",
      " 'aespa' '이무진' '태연 (TAEYEON)' '아이유' '경서예지' '베이식 (Basick)' 'The Kid LAROI'\n",
      " 'YENA (최예나)' 'V' '이승윤' '비비 (BIBI)' '10CM' '먼데이 키즈 (Monday Kiz)' '방탄소년단'\n",
      " '주시크 (Joosiq)' '이예준' 'GAYLE' '마크 (MARK)' '디핵 (D-Hack)' 'Mudd the student'\n",
      " '샘김 (Sam Kim)' 'MSG워너비(M.O.M)' 'Coldplay' '아넌딜라이트(Anandelight)'\n",
      " 'AKMU (악뮤)' '개코' '멜로망스' '쿠기 (Coogie)' '김나영' '경서' '헤이즈 (Heize)'\n",
      " 'Ed Sheeran' '호미들' '황인욱' '마크툽 (MAKTUB)' '폴킴' '프로미스나인' '선예'\n",
      " 'Justin Bieber' '전상근' '성시경' '정동하' 'ASH ISLAND' '브레이브걸스'\n",
      " '오마이걸 (OH MY GIRL)' '송이한' 'TOIL' '산들' '케이윌' '휘인 (Whee In)' 'Jawsh 685'\n",
      " 'Red Velvet (레드벨벳)' 'Kep1er (케플러)' '잠골버스' '조정석' '케이시 (Kassy)' 'MC몽' '토요태']\n"
     ]
    }
   ],
   "source": [
    "#unoque 합 중복제거\n",
    "print(song_df['가수'].unique())"
   ],
   "metadata": {
    "collapsed": false,
    "pycharm": {
     "name": "#%%\n"
    }
   }
  },
  {
   "cell_type": "code",
   "execution_count": 156,
   "outputs": [
    {
     "name": "stdout",
     "output_type": "stream",
     "text": [
      "Empty DataFrame\n",
      "Columns: [곡명, 가수, 앨범, 발매일, 장르, 좋아요, 가사]\n",
      "Index: []\n"
     ]
    }
   ],
   "source": [
    "#가사 empty string check\n",
    "\n",
    "print(song_df.loc[song_df['가사'] == ''])"
   ],
   "metadata": {
    "collapsed": false,
    "pycharm": {
     "name": "#%%\n"
    }
   }
  },
  {
   "cell_type": "code",
   "execution_count": 169,
   "outputs": [
    {
     "name": "stdout",
     "output_type": "stream",
     "text": [
      "0              사랑은 늘 도망가\n",
      "10             이제 나만 믿어요\n",
      "17    다시 사랑한다면 (김필 Ver.)\n",
      "18               그대라는 사치\n",
      "23          별빛 같은 나의 사랑아\n",
      "25                   잊었니\n",
      "28                  HERO\n",
      "29                   끝사랑\n",
      "32               Bk Love\n",
      "42            계단말고 엘리베이터\n",
      "Name: 곡명, dtype: object\n"
     ]
    }
   ],
   "source": [
    "#가수가 방탄소년단 인 행을 선택해보자\n",
    "# print(song_df['가수'] == '방탄소년단')\n",
    "##만족하는 행을 선택할때 loc 사용\n",
    "\n",
    "# print(song_df.loc[song_df['가수'] == '방탄소년단'])\n",
    "\n",
    "\n",
    "def searchSinger(singer_name):\n",
    "    print(song_df['곡명'].loc[song_df['가수'] == singer_name])\n",
    "\n",
    "\n",
    "searchSinger('임영웅')"
   ],
   "metadata": {
    "collapsed": false,
    "pycharm": {
     "name": "#%%\n"
    }
   }
  },
  {
   "cell_type": "markdown",
   "source": [
    "### 특정 행과 열을 선택하기\n",
    "* loc[] , iloc[] 사용한다.\n",
    "1. Slicing 을 사용해서 구간을 주어서 행과 열을 선택\n",
    "2. [ ] (list)를 사용해서 특정행과 열을 선택\n",
    "3. 조건식을 만족하는 행과 열을 선택"
   ],
   "metadata": {
    "collapsed": false
   }
  },
  {
   "cell_type": "code",
   "execution_count": 171,
   "outputs": [
    {
     "data": {
      "text/plain": "                                       곡명            가수                  앨범  \\\n1                                    취중고백    김민석 (멜로망스)                취중고백   \n2                                   호랑수월가            탑현               호랑수월가   \n3                               Step Back  GOT the beat           Step Back   \n4  회전목마 (Feat. Zion.T, 원슈타인) (Prod. Slom)      sokodomo  쇼미더머니 10 Episode 2   \n5                                  ELEVEN     IVE (아이브)              ELEVEN   \n\n          발매일    장르     좋아요                                                 가사  \n1  2021.12.19   발라드   68692  뭐하고 있었니 늦었지만잠시 나올래너의 집 골목에 있는놀이터에 앉아 있어친구들 만나서...  \n2  2022.01.15   발라드   35302  흐르는 저 하늘을 물어 채는 범처럼태산에 날아들어 숨어드는 새처럼동산을 뛰고 뛰어가...  \n3  2022.01.03    댄스   65667  You must step back어델 어델 봐너 감히 누구라고 날 제껴이쯤에서 물러...  \n4  2021.11.13  랩/힙합  186554  내가 슬플 때마다이 노래가 찾아와세상이 둥근 것처럼 우린 동글동글인생은 회전목마우린...  \n5  2021.12.01    댄스  103239  따분한 나의 눈빛이무표정했던 얼굴이널 보며 빛나고 있어널 담은 눈동자는 odd내 안...  ",
      "text/html": "<div>\n<style scoped>\n    .dataframe tbody tr th:only-of-type {\n        vertical-align: middle;\n    }\n\n    .dataframe tbody tr th {\n        vertical-align: top;\n    }\n\n    .dataframe thead th {\n        text-align: right;\n    }\n</style>\n<table border=\"1\" class=\"dataframe\">\n  <thead>\n    <tr style=\"text-align: right;\">\n      <th></th>\n      <th>곡명</th>\n      <th>가수</th>\n      <th>앨범</th>\n      <th>발매일</th>\n      <th>장르</th>\n      <th>좋아요</th>\n      <th>가사</th>\n    </tr>\n  </thead>\n  <tbody>\n    <tr>\n      <th>1</th>\n      <td>취중고백</td>\n      <td>김민석 (멜로망스)</td>\n      <td>취중고백</td>\n      <td>2021.12.19</td>\n      <td>발라드</td>\n      <td>68692</td>\n      <td>뭐하고 있었니 늦었지만잠시 나올래너의 집 골목에 있는놀이터에 앉아 있어친구들 만나서...</td>\n    </tr>\n    <tr>\n      <th>2</th>\n      <td>호랑수월가</td>\n      <td>탑현</td>\n      <td>호랑수월가</td>\n      <td>2022.01.15</td>\n      <td>발라드</td>\n      <td>35302</td>\n      <td>흐르는 저 하늘을 물어 채는 범처럼태산에 날아들어 숨어드는 새처럼동산을 뛰고 뛰어가...</td>\n    </tr>\n    <tr>\n      <th>3</th>\n      <td>Step Back</td>\n      <td>GOT the beat</td>\n      <td>Step Back</td>\n      <td>2022.01.03</td>\n      <td>댄스</td>\n      <td>65667</td>\n      <td>You must step back어델 어델 봐너 감히 누구라고 날 제껴이쯤에서 물러...</td>\n    </tr>\n    <tr>\n      <th>4</th>\n      <td>회전목마 (Feat. Zion.T, 원슈타인) (Prod. Slom)</td>\n      <td>sokodomo</td>\n      <td>쇼미더머니 10 Episode 2</td>\n      <td>2021.11.13</td>\n      <td>랩/힙합</td>\n      <td>186554</td>\n      <td>내가 슬플 때마다이 노래가 찾아와세상이 둥근 것처럼 우린 동글동글인생은 회전목마우린...</td>\n    </tr>\n    <tr>\n      <th>5</th>\n      <td>ELEVEN</td>\n      <td>IVE (아이브)</td>\n      <td>ELEVEN</td>\n      <td>2021.12.01</td>\n      <td>댄스</td>\n      <td>103239</td>\n      <td>따분한 나의 눈빛이무표정했던 얼굴이널 보며 빛나고 있어널 담은 눈동자는 odd내 안...</td>\n    </tr>\n  </tbody>\n</table>\n</div>"
     },
     "execution_count": 171,
     "metadata": {},
     "output_type": "execute_result"
    }
   ],
   "source": [
    "#Slicing 인덱스가 0부터 5까지의 행과 모든 열을 선택하기\n",
    "song_df.loc[0:5] # == song_df.loc[0:5,:]\n"
   ],
   "metadata": {
    "collapsed": false,
    "pycharm": {
     "name": "#%%\n"
    }
   }
  },
  {
   "cell_type": "code",
   "execution_count": 174,
   "outputs": [
    {
     "data": {
      "text/plain": "                                        곡명         가수  \\\n0                                사랑은 늘 도망가        임영웅   \n2                                    호랑수월가         탑현   \n4   회전목마 (Feat. Zion.T, 원슈타인) (Prod. Slom)   sokodomo   \n6            리무진 (Feat. MINO) (Prod. GRAY)  BE'O (비오)   \n8                         Dreams Come True      aespa   \n10                               이제 나만 믿어요        임영웅   \n\n                               앨범         발매일          장르     좋아요  \\\n0              신사와 아가씨 OST Part.2  2021.10.11  발라드, 국내드라마  123992   \n2                           호랑수월가  2022.01.15         발라드   35302   \n4              쇼미더머니 10 Episode 2  2021.11.13        랩/힙합  186554   \n6              쇼미더머니 10 Episode 3  2021.11.20        랩/힙합  162366   \n8   Dreams Come True - SM STATION  2021.12.20          댄스   74895   \n10              내일은 미스터트롯 우승자 특전곡  2020.04.03        성인가요  146420   \n\n                                                   가사  \n0   눈물이 난다 이 길을 걸으면그 사람 손길이 자꾸 생각이 난다붙잡지 못하고 가슴만 떨...  \n2   흐르는 저 하늘을 물어 채는 범처럼태산에 날아들어 숨어드는 새처럼동산을 뛰고 뛰어가...  \n4   내가 슬플 때마다이 노래가 찾아와세상이 둥근 것처럼 우린 동글동글인생은 회전목마우린...  \n6   까만 리무진 보며꿈을 키웠지언젠가는 나도 저걸 갖게 될 거야커다란 리무진에서 내가 ...  \n8   Uh, You wanna feel the vibeThat I’m feeling an...  \n10  무얼 믿은 걸까 부족했던 내게서나조차 못 믿던 내게 여태 머문 사람무얼 봤던 걸까 ...  ",
      "text/html": "<div>\n<style scoped>\n    .dataframe tbody tr th:only-of-type {\n        vertical-align: middle;\n    }\n\n    .dataframe tbody tr th {\n        vertical-align: top;\n    }\n\n    .dataframe thead th {\n        text-align: right;\n    }\n</style>\n<table border=\"1\" class=\"dataframe\">\n  <thead>\n    <tr style=\"text-align: right;\">\n      <th></th>\n      <th>곡명</th>\n      <th>가수</th>\n      <th>앨범</th>\n      <th>발매일</th>\n      <th>장르</th>\n      <th>좋아요</th>\n      <th>가사</th>\n    </tr>\n  </thead>\n  <tbody>\n    <tr>\n      <th>0</th>\n      <td>사랑은 늘 도망가</td>\n      <td>임영웅</td>\n      <td>신사와 아가씨 OST Part.2</td>\n      <td>2021.10.11</td>\n      <td>발라드, 국내드라마</td>\n      <td>123992</td>\n      <td>눈물이 난다 이 길을 걸으면그 사람 손길이 자꾸 생각이 난다붙잡지 못하고 가슴만 떨...</td>\n    </tr>\n    <tr>\n      <th>2</th>\n      <td>호랑수월가</td>\n      <td>탑현</td>\n      <td>호랑수월가</td>\n      <td>2022.01.15</td>\n      <td>발라드</td>\n      <td>35302</td>\n      <td>흐르는 저 하늘을 물어 채는 범처럼태산에 날아들어 숨어드는 새처럼동산을 뛰고 뛰어가...</td>\n    </tr>\n    <tr>\n      <th>4</th>\n      <td>회전목마 (Feat. Zion.T, 원슈타인) (Prod. Slom)</td>\n      <td>sokodomo</td>\n      <td>쇼미더머니 10 Episode 2</td>\n      <td>2021.11.13</td>\n      <td>랩/힙합</td>\n      <td>186554</td>\n      <td>내가 슬플 때마다이 노래가 찾아와세상이 둥근 것처럼 우린 동글동글인생은 회전목마우린...</td>\n    </tr>\n    <tr>\n      <th>6</th>\n      <td>리무진 (Feat. MINO) (Prod. GRAY)</td>\n      <td>BE'O (비오)</td>\n      <td>쇼미더머니 10 Episode 3</td>\n      <td>2021.11.20</td>\n      <td>랩/힙합</td>\n      <td>162366</td>\n      <td>까만 리무진 보며꿈을 키웠지언젠가는 나도 저걸 갖게 될 거야커다란 리무진에서 내가 ...</td>\n    </tr>\n    <tr>\n      <th>8</th>\n      <td>Dreams Come True</td>\n      <td>aespa</td>\n      <td>Dreams Come True - SM STATION</td>\n      <td>2021.12.20</td>\n      <td>댄스</td>\n      <td>74895</td>\n      <td>Uh, You wanna feel the vibeThat I’m feeling an...</td>\n    </tr>\n    <tr>\n      <th>10</th>\n      <td>이제 나만 믿어요</td>\n      <td>임영웅</td>\n      <td>내일은 미스터트롯 우승자 특전곡</td>\n      <td>2020.04.03</td>\n      <td>성인가요</td>\n      <td>146420</td>\n      <td>무얼 믿은 걸까 부족했던 내게서나조차 못 믿던 내게 여태 머문 사람무얼 봤던 걸까 ...</td>\n    </tr>\n  </tbody>\n</table>\n</div>"
     },
     "execution_count": 174,
     "metadata": {},
     "output_type": "execute_result"
    }
   ],
   "source": [
    "#slicing : 인덱스가 0부터 10까지의 행과 모든 열을 선택하기, 1개의 행을 skip\n",
    "song_df.loc[0:10:2] #0,2,4,6,8,10 이 출력 == song_df.loc[0:10:2,:] , [start,stop,step]"
   ],
   "metadata": {
    "collapsed": false,
    "pycharm": {
     "name": "#%%\n"
    }
   }
  },
  {
   "cell_type": "code",
   "execution_count": 175,
   "outputs": [
    {
     "data": {
      "text/plain": "                                       곡명            가수                  앨범  \\\n0                               사랑은 늘 도망가           임영웅  신사와 아가씨 OST Part.2   \n1                                    취중고백    김민석 (멜로망스)                취중고백   \n2                                   호랑수월가            탑현               호랑수월가   \n3                               Step Back  GOT the beat           Step Back   \n4  회전목마 (Feat. Zion.T, 원슈타인) (Prod. Slom)      sokodomo  쇼미더머니 10 Episode 2   \n5                                  ELEVEN     IVE (아이브)              ELEVEN   \n\n          발매일          장르  \n0  2021.10.11  발라드, 국내드라마  \n1  2021.12.19         발라드  \n2  2022.01.15         발라드  \n3  2022.01.03          댄스  \n4  2021.11.13        랩/힙합  \n5  2021.12.01          댄스  ",
      "text/html": "<div>\n<style scoped>\n    .dataframe tbody tr th:only-of-type {\n        vertical-align: middle;\n    }\n\n    .dataframe tbody tr th {\n        vertical-align: top;\n    }\n\n    .dataframe thead th {\n        text-align: right;\n    }\n</style>\n<table border=\"1\" class=\"dataframe\">\n  <thead>\n    <tr style=\"text-align: right;\">\n      <th></th>\n      <th>곡명</th>\n      <th>가수</th>\n      <th>앨범</th>\n      <th>발매일</th>\n      <th>장르</th>\n    </tr>\n  </thead>\n  <tbody>\n    <tr>\n      <th>0</th>\n      <td>사랑은 늘 도망가</td>\n      <td>임영웅</td>\n      <td>신사와 아가씨 OST Part.2</td>\n      <td>2021.10.11</td>\n      <td>발라드, 국내드라마</td>\n    </tr>\n    <tr>\n      <th>1</th>\n      <td>취중고백</td>\n      <td>김민석 (멜로망스)</td>\n      <td>취중고백</td>\n      <td>2021.12.19</td>\n      <td>발라드</td>\n    </tr>\n    <tr>\n      <th>2</th>\n      <td>호랑수월가</td>\n      <td>탑현</td>\n      <td>호랑수월가</td>\n      <td>2022.01.15</td>\n      <td>발라드</td>\n    </tr>\n    <tr>\n      <th>3</th>\n      <td>Step Back</td>\n      <td>GOT the beat</td>\n      <td>Step Back</td>\n      <td>2022.01.03</td>\n      <td>댄스</td>\n    </tr>\n    <tr>\n      <th>4</th>\n      <td>회전목마 (Feat. Zion.T, 원슈타인) (Prod. Slom)</td>\n      <td>sokodomo</td>\n      <td>쇼미더머니 10 Episode 2</td>\n      <td>2021.11.13</td>\n      <td>랩/힙합</td>\n    </tr>\n    <tr>\n      <th>5</th>\n      <td>ELEVEN</td>\n      <td>IVE (아이브)</td>\n      <td>ELEVEN</td>\n      <td>2021.12.01</td>\n      <td>댄스</td>\n    </tr>\n  </tbody>\n</table>\n</div>"
     },
     "execution_count": 175,
     "metadata": {},
     "output_type": "execute_result"
    }
   ],
   "source": [
    "#Slicing 인덱스가 0부터 5까지의 행에서 곡명부터 장르까지의 열을 선택하기\n",
    "song_df.loc[0:5,'곡명':'장르']"
   ],
   "metadata": {
    "collapsed": false,
    "pycharm": {
     "name": "#%%\n"
    }
   }
  },
  {
   "cell_type": "markdown",
   "source": [
    "## 여러개의 행과 열을 선택"
   ],
   "metadata": {
    "collapsed": false
   }
  },
  {
   "cell_type": "code",
   "execution_count": 176,
   "outputs": [
    {
     "data": {
      "text/plain": "                                        곡명         가수                  앨범  \\\n0                                사랑은 늘 도망가        임영웅  신사와 아가씨 OST Part.2   \n4   회전목마 (Feat. Zion.T, 원슈타인) (Prod. Slom)   sokodomo  쇼미더머니 10 Episode 2   \n7          Counting Stars (Feat. Beenzino)  BE'O (비오)      Counting Stars   \n10                               이제 나만 믿어요        임영웅   내일은 미스터트롯 우승자 특전곡   \n\n           발매일          장르     좋아요  \\\n0   2021.10.11  발라드, 국내드라마  123992   \n4   2021.11.13        랩/힙합  186554   \n7   2021.12.12        랩/힙합  147754   \n10  2020.04.03        성인가요  146420   \n\n                                                   가사  \n0   눈물이 난다 이 길을 걸으면그 사람 손길이 자꾸 생각이 난다붙잡지 못하고 가슴만 떨...  \n4   내가 슬플 때마다이 노래가 찾아와세상이 둥근 것처럼 우린 동글동글인생은 회전목마우린...  \n7   Counting stars밤하늘에 펄Better than your LVYour LV...  \n10  무얼 믿은 걸까 부족했던 내게서나조차 못 믿던 내게 여태 머문 사람무얼 봤던 걸까 ...  ",
      "text/html": "<div>\n<style scoped>\n    .dataframe tbody tr th:only-of-type {\n        vertical-align: middle;\n    }\n\n    .dataframe tbody tr th {\n        vertical-align: top;\n    }\n\n    .dataframe thead th {\n        text-align: right;\n    }\n</style>\n<table border=\"1\" class=\"dataframe\">\n  <thead>\n    <tr style=\"text-align: right;\">\n      <th></th>\n      <th>곡명</th>\n      <th>가수</th>\n      <th>앨범</th>\n      <th>발매일</th>\n      <th>장르</th>\n      <th>좋아요</th>\n      <th>가사</th>\n    </tr>\n  </thead>\n  <tbody>\n    <tr>\n      <th>0</th>\n      <td>사랑은 늘 도망가</td>\n      <td>임영웅</td>\n      <td>신사와 아가씨 OST Part.2</td>\n      <td>2021.10.11</td>\n      <td>발라드, 국내드라마</td>\n      <td>123992</td>\n      <td>눈물이 난다 이 길을 걸으면그 사람 손길이 자꾸 생각이 난다붙잡지 못하고 가슴만 떨...</td>\n    </tr>\n    <tr>\n      <th>4</th>\n      <td>회전목마 (Feat. Zion.T, 원슈타인) (Prod. Slom)</td>\n      <td>sokodomo</td>\n      <td>쇼미더머니 10 Episode 2</td>\n      <td>2021.11.13</td>\n      <td>랩/힙합</td>\n      <td>186554</td>\n      <td>내가 슬플 때마다이 노래가 찾아와세상이 둥근 것처럼 우린 동글동글인생은 회전목마우린...</td>\n    </tr>\n    <tr>\n      <th>7</th>\n      <td>Counting Stars (Feat. Beenzino)</td>\n      <td>BE'O (비오)</td>\n      <td>Counting Stars</td>\n      <td>2021.12.12</td>\n      <td>랩/힙합</td>\n      <td>147754</td>\n      <td>Counting stars밤하늘에 펄Better than your LVYour LV...</td>\n    </tr>\n    <tr>\n      <th>10</th>\n      <td>이제 나만 믿어요</td>\n      <td>임영웅</td>\n      <td>내일은 미스터트롯 우승자 특전곡</td>\n      <td>2020.04.03</td>\n      <td>성인가요</td>\n      <td>146420</td>\n      <td>무얼 믿은 걸까 부족했던 내게서나조차 못 믿던 내게 여태 머문 사람무얼 봤던 걸까 ...</td>\n    </tr>\n  </tbody>\n</table>\n</div>"
     },
     "execution_count": 176,
     "metadata": {},
     "output_type": "execute_result"
    }
   ],
   "source": [
    "song_df.loc[[0,4,7,10]] ## 0,4,7,10번째 행을 선택"
   ],
   "metadata": {
    "collapsed": false,
    "pycharm": {
     "name": "#%%\n"
    }
   }
  },
  {
   "cell_type": "markdown",
   "source": [
    "## 여러개의 행과 곡명 가수 앨범 장르 선택"
   ],
   "metadata": {
    "collapsed": false
   }
  },
  {
   "cell_type": "code",
   "execution_count": 177,
   "outputs": [
    {
     "data": {
      "text/plain": "                                        곡명         가수                  앨범  \\\n0                                사랑은 늘 도망가        임영웅  신사와 아가씨 OST Part.2   \n4   회전목마 (Feat. Zion.T, 원슈타인) (Prod. Slom)   sokodomo  쇼미더머니 10 Episode 2   \n7          Counting Stars (Feat. Beenzino)  BE'O (비오)      Counting Stars   \n10                               이제 나만 믿어요        임영웅   내일은 미스터트롯 우승자 특전곡   \n\n            장르  \n0   발라드, 국내드라마  \n4         랩/힙합  \n7         랩/힙합  \n10        성인가요  ",
      "text/html": "<div>\n<style scoped>\n    .dataframe tbody tr th:only-of-type {\n        vertical-align: middle;\n    }\n\n    .dataframe tbody tr th {\n        vertical-align: top;\n    }\n\n    .dataframe thead th {\n        text-align: right;\n    }\n</style>\n<table border=\"1\" class=\"dataframe\">\n  <thead>\n    <tr style=\"text-align: right;\">\n      <th></th>\n      <th>곡명</th>\n      <th>가수</th>\n      <th>앨범</th>\n      <th>장르</th>\n    </tr>\n  </thead>\n  <tbody>\n    <tr>\n      <th>0</th>\n      <td>사랑은 늘 도망가</td>\n      <td>임영웅</td>\n      <td>신사와 아가씨 OST Part.2</td>\n      <td>발라드, 국내드라마</td>\n    </tr>\n    <tr>\n      <th>4</th>\n      <td>회전목마 (Feat. Zion.T, 원슈타인) (Prod. Slom)</td>\n      <td>sokodomo</td>\n      <td>쇼미더머니 10 Episode 2</td>\n      <td>랩/힙합</td>\n    </tr>\n    <tr>\n      <th>7</th>\n      <td>Counting Stars (Feat. Beenzino)</td>\n      <td>BE'O (비오)</td>\n      <td>Counting Stars</td>\n      <td>랩/힙합</td>\n    </tr>\n    <tr>\n      <th>10</th>\n      <td>이제 나만 믿어요</td>\n      <td>임영웅</td>\n      <td>내일은 미스터트롯 우승자 특전곡</td>\n      <td>성인가요</td>\n    </tr>\n  </tbody>\n</table>\n</div>"
     },
     "execution_count": 177,
     "metadata": {},
     "output_type": "execute_result"
    }
   ],
   "source": [
    "song_df.loc[[0,4,7,10],['곡명','가수','앨범','장르']]"
   ],
   "metadata": {
    "collapsed": false,
    "pycharm": {
     "name": "#%%\n"
    }
   }
  },
  {
   "cell_type": "code",
   "execution_count": 179,
   "outputs": [
    {
     "data": {
      "text/plain": "       좋아요\n0   123992\n4   186554\n7   147754\n10  146420",
      "text/html": "<div>\n<style scoped>\n    .dataframe tbody tr th:only-of-type {\n        vertical-align: middle;\n    }\n\n    .dataframe tbody tr th {\n        vertical-align: top;\n    }\n\n    .dataframe thead th {\n        text-align: right;\n    }\n</style>\n<table border=\"1\" class=\"dataframe\">\n  <thead>\n    <tr style=\"text-align: right;\">\n      <th></th>\n      <th>좋아요</th>\n    </tr>\n  </thead>\n  <tbody>\n    <tr>\n      <th>0</th>\n      <td>123992</td>\n    </tr>\n    <tr>\n      <th>4</th>\n      <td>186554</td>\n    </tr>\n    <tr>\n      <th>7</th>\n      <td>147754</td>\n    </tr>\n    <tr>\n      <th>10</th>\n      <td>146420</td>\n    </tr>\n  </tbody>\n</table>\n</div>"
     },
     "execution_count": 179,
     "metadata": {},
     "output_type": "execute_result"
    }
   ],
   "source": [
    "# 여러개의 0,4,7,10 행과 좋아요 열만 선택\n",
    "song_df.loc[[0,4,7,10],['좋아요']]"
   ],
   "metadata": {
    "collapsed": false,
    "pycharm": {
     "name": "#%%\n"
    }
   }
  },
  {
   "cell_type": "code",
   "execution_count": 180,
   "outputs": [
    {
     "data": {
      "text/plain": "                                                곡명             가수     좋아요\n10                                       이제 나만 믿어요            임영웅  146420\n11                            Can't Control Myself   태연 (TAEYEON)   47546\n12                                             겨울잠            아이유   89259\n13                                   다정히 내 이름을 부르면           경서예지  109308\n14                                             신호등            이무진  256451\n15  만남은 쉽고 이별은 어려워 (Feat. Leellamarz) (Prod. TOIL)   베이식 (Basick)  107154\n16                                            STAY  The Kid LAROI  202791\n17                              다시 사랑한다면 (김필 Ver.)            임영웅   40774\n18                                         그대라는 사치            임영웅   36832\n19                                      Next Level          aespa  235363\n20                                 strawberry moon            아이유  179842",
      "text/html": "<div>\n<style scoped>\n    .dataframe tbody tr th:only-of-type {\n        vertical-align: middle;\n    }\n\n    .dataframe tbody tr th {\n        vertical-align: top;\n    }\n\n    .dataframe thead th {\n        text-align: right;\n    }\n</style>\n<table border=\"1\" class=\"dataframe\">\n  <thead>\n    <tr style=\"text-align: right;\">\n      <th></th>\n      <th>곡명</th>\n      <th>가수</th>\n      <th>좋아요</th>\n    </tr>\n  </thead>\n  <tbody>\n    <tr>\n      <th>10</th>\n      <td>이제 나만 믿어요</td>\n      <td>임영웅</td>\n      <td>146420</td>\n    </tr>\n    <tr>\n      <th>11</th>\n      <td>Can't Control Myself</td>\n      <td>태연 (TAEYEON)</td>\n      <td>47546</td>\n    </tr>\n    <tr>\n      <th>12</th>\n      <td>겨울잠</td>\n      <td>아이유</td>\n      <td>89259</td>\n    </tr>\n    <tr>\n      <th>13</th>\n      <td>다정히 내 이름을 부르면</td>\n      <td>경서예지</td>\n      <td>109308</td>\n    </tr>\n    <tr>\n      <th>14</th>\n      <td>신호등</td>\n      <td>이무진</td>\n      <td>256451</td>\n    </tr>\n    <tr>\n      <th>15</th>\n      <td>만남은 쉽고 이별은 어려워 (Feat. Leellamarz) (Prod. TOIL)</td>\n      <td>베이식 (Basick)</td>\n      <td>107154</td>\n    </tr>\n    <tr>\n      <th>16</th>\n      <td>STAY</td>\n      <td>The Kid LAROI</td>\n      <td>202791</td>\n    </tr>\n    <tr>\n      <th>17</th>\n      <td>다시 사랑한다면 (김필 Ver.)</td>\n      <td>임영웅</td>\n      <td>40774</td>\n    </tr>\n    <tr>\n      <th>18</th>\n      <td>그대라는 사치</td>\n      <td>임영웅</td>\n      <td>36832</td>\n    </tr>\n    <tr>\n      <th>19</th>\n      <td>Next Level</td>\n      <td>aespa</td>\n      <td>235363</td>\n    </tr>\n    <tr>\n      <th>20</th>\n      <td>strawberry moon</td>\n      <td>아이유</td>\n      <td>179842</td>\n    </tr>\n  </tbody>\n</table>\n</div>"
     },
     "execution_count": 180,
     "metadata": {},
     "output_type": "execute_result"
    }
   ],
   "source": [
    "#10부터 20까지의 행과 곡명 가수 좋아요 열을 선택\n",
    "song_df.loc[10:20,['곡명','가수','좋아요']]"
   ],
   "metadata": {
    "collapsed": false,
    "pycharm": {
     "name": "#%%\n"
    }
   }
  },
  {
   "cell_type": "code",
   "execution_count": 184,
   "outputs": [
    {
     "data": {
      "text/plain": "                                           곡명                 가수  \\\n3                                   Step Back       GOT the beat   \n5                                      ELEVEN          IVE (아이브)   \n8                            Dreams Come True              aespa   \n19                                 Next Level              aespa   \n21                        SMILEY (Feat. BIBI)         YENA (최예나)   \n26                                     Savage              aespa   \n35                                     Butter              방탄소년단   \n41                                   Dynamite              방탄소년단   \n45                        Permission to Dance              방탄소년단   \n50                                    Weekend       태연 (TAEYEON)   \n52                                  Celebrity                아이유   \n58                                        라일락                아이유   \n69                                         DM             프로미스나인   \n76                               롤린 (Rollin')             브레이브걸스   \n78                              Dun Dun Dance  오마이걸 (OH MY GIRL)   \n82  작은 것들을 위한 시 (Boy With Luv) (Feat. Halsey)              방탄소년단   \n90                                   Queendom  Red Velvet (레드벨벳)   \n91                                   WA DA DA       Kep1er (케플러)   \n\n                               앨범         발매일  장르     좋아요  \\\n3                       Step Back  2022.01.03  댄스   65667   \n5                          ELEVEN  2021.12.01  댄스  103239   \n8   Dreams Come True - SM STATION  2021.12.20  댄스   74895   \n19                     Next Level  2021.05.17  댄스  235363   \n21                   ˣ‿ˣ (SMiLEY)  2022.01.17  댄스   44510   \n26    Savage - The 1st Mini Album  2021.10.05  댄스  139537   \n35                         Butter  2021.05.21  댄스  263254   \n41     Dynamite (DayTime Version)  2020.08.24  댄스  428691   \n45   Butter / Permission to Dance  2021.07.09  댄스  195015   \n50                        Weekend  2021.07.06  댄스  159196   \n52           IU 5th Album 'LILAC'  2021.03.25  댄스  312341   \n58           IU 5th Album 'LILAC'  2021.03.25  댄스  230179   \n69                 Midnight Guest  2022.01.17  댄스   20925   \n76                        Rollin'  2017.03.07  댄스  290787   \n78                  Dear OHMYGIRL  2021.05.10  댄스  151767   \n82      MAP OF THE SOUL : PERSONA  2019.04.12  댄스  431667   \n90  Queendom - The 6th Mini Album  2021.08.16  댄스  108447   \n91                   FIRST IMPACT  2022.01.03  댄스   21635   \n\n                                                   가사  \n3   You must step back어델 어델 봐너 감히 누구라고 날 제껴이쯤에서 물러...  \n5   따분한 나의 눈빛이무표정했던 얼굴이널 보며 빛나고 있어널 담은 눈동자는 odd내 안...  \n8   Uh, You wanna feel the vibeThat I’m feeling an...  \n19  I’m on the Next Level Yeah절대적 룰을 지켜내 손을 놓지 말아결...  \n21  울지 마 울지 마어린아이같이웃는 게 웃는 게이기는 거라구Youre so cuteYo...  \n26  Oh my gosh!Don't you know I’m a Savage?I’m a K...  \n35  Smooth like butterLike a criminal undercoverGo...  \n41  Cos ah ahI’m in the stars tonightSo watch me b...  \n45  It’s the thought of being youngWhen your heart...  \n50  가장 가까운 바다혼자만의 영화관그냥 이끌리는 대로 해도 괜찮으니까Every morn...  \n52  세상의 모서리구부정하게 커버린골칫거리 outsider걸음걸이, 옷차림, 이어폰 너머...  \n58  나리는 꽃가루에 눈이 따끔해 (아야)눈물이 고여도 꾹 참을래내 마음 한켠 비밀스런 ...  \n69  Hey you 지금 뭐 해잠깐 밖으로 나올래네가 보고 싶다고거울 속의 난 So pe...  \n76  그 날을 잊지 못해 babe날 보며 환히 웃던 너의 미소에홀린 듯 I'm fall ...  \n78  Dun Dun Dance Dun Dun DanceDun Dun DanceJust d...  \n82  모든 게 궁금해How’s your dayOh tell me뭐가 널 행복하게 하는지O...  \n90  QueensAh yeah ah yeahAh yeah ah yeahDururururu...  \n91  HeyIt’s you& ILet’s startN N Now 도착한 이 PlaceWa...  ",
      "text/html": "<div>\n<style scoped>\n    .dataframe tbody tr th:only-of-type {\n        vertical-align: middle;\n    }\n\n    .dataframe tbody tr th {\n        vertical-align: top;\n    }\n\n    .dataframe thead th {\n        text-align: right;\n    }\n</style>\n<table border=\"1\" class=\"dataframe\">\n  <thead>\n    <tr style=\"text-align: right;\">\n      <th></th>\n      <th>곡명</th>\n      <th>가수</th>\n      <th>앨범</th>\n      <th>발매일</th>\n      <th>장르</th>\n      <th>좋아요</th>\n      <th>가사</th>\n    </tr>\n  </thead>\n  <tbody>\n    <tr>\n      <th>3</th>\n      <td>Step Back</td>\n      <td>GOT the beat</td>\n      <td>Step Back</td>\n      <td>2022.01.03</td>\n      <td>댄스</td>\n      <td>65667</td>\n      <td>You must step back어델 어델 봐너 감히 누구라고 날 제껴이쯤에서 물러...</td>\n    </tr>\n    <tr>\n      <th>5</th>\n      <td>ELEVEN</td>\n      <td>IVE (아이브)</td>\n      <td>ELEVEN</td>\n      <td>2021.12.01</td>\n      <td>댄스</td>\n      <td>103239</td>\n      <td>따분한 나의 눈빛이무표정했던 얼굴이널 보며 빛나고 있어널 담은 눈동자는 odd내 안...</td>\n    </tr>\n    <tr>\n      <th>8</th>\n      <td>Dreams Come True</td>\n      <td>aespa</td>\n      <td>Dreams Come True - SM STATION</td>\n      <td>2021.12.20</td>\n      <td>댄스</td>\n      <td>74895</td>\n      <td>Uh, You wanna feel the vibeThat I’m feeling an...</td>\n    </tr>\n    <tr>\n      <th>19</th>\n      <td>Next Level</td>\n      <td>aespa</td>\n      <td>Next Level</td>\n      <td>2021.05.17</td>\n      <td>댄스</td>\n      <td>235363</td>\n      <td>I’m on the Next Level Yeah절대적 룰을 지켜내 손을 놓지 말아결...</td>\n    </tr>\n    <tr>\n      <th>21</th>\n      <td>SMILEY (Feat. BIBI)</td>\n      <td>YENA (최예나)</td>\n      <td>ˣ‿ˣ (SMiLEY)</td>\n      <td>2022.01.17</td>\n      <td>댄스</td>\n      <td>44510</td>\n      <td>울지 마 울지 마어린아이같이웃는 게 웃는 게이기는 거라구Youre so cuteYo...</td>\n    </tr>\n    <tr>\n      <th>26</th>\n      <td>Savage</td>\n      <td>aespa</td>\n      <td>Savage - The 1st Mini Album</td>\n      <td>2021.10.05</td>\n      <td>댄스</td>\n      <td>139537</td>\n      <td>Oh my gosh!Don't you know I’m a Savage?I’m a K...</td>\n    </tr>\n    <tr>\n      <th>35</th>\n      <td>Butter</td>\n      <td>방탄소년단</td>\n      <td>Butter</td>\n      <td>2021.05.21</td>\n      <td>댄스</td>\n      <td>263254</td>\n      <td>Smooth like butterLike a criminal undercoverGo...</td>\n    </tr>\n    <tr>\n      <th>41</th>\n      <td>Dynamite</td>\n      <td>방탄소년단</td>\n      <td>Dynamite (DayTime Version)</td>\n      <td>2020.08.24</td>\n      <td>댄스</td>\n      <td>428691</td>\n      <td>Cos ah ahI’m in the stars tonightSo watch me b...</td>\n    </tr>\n    <tr>\n      <th>45</th>\n      <td>Permission to Dance</td>\n      <td>방탄소년단</td>\n      <td>Butter / Permission to Dance</td>\n      <td>2021.07.09</td>\n      <td>댄스</td>\n      <td>195015</td>\n      <td>It’s the thought of being youngWhen your heart...</td>\n    </tr>\n    <tr>\n      <th>50</th>\n      <td>Weekend</td>\n      <td>태연 (TAEYEON)</td>\n      <td>Weekend</td>\n      <td>2021.07.06</td>\n      <td>댄스</td>\n      <td>159196</td>\n      <td>가장 가까운 바다혼자만의 영화관그냥 이끌리는 대로 해도 괜찮으니까Every morn...</td>\n    </tr>\n    <tr>\n      <th>52</th>\n      <td>Celebrity</td>\n      <td>아이유</td>\n      <td>IU 5th Album 'LILAC'</td>\n      <td>2021.03.25</td>\n      <td>댄스</td>\n      <td>312341</td>\n      <td>세상의 모서리구부정하게 커버린골칫거리 outsider걸음걸이, 옷차림, 이어폰 너머...</td>\n    </tr>\n    <tr>\n      <th>58</th>\n      <td>라일락</td>\n      <td>아이유</td>\n      <td>IU 5th Album 'LILAC'</td>\n      <td>2021.03.25</td>\n      <td>댄스</td>\n      <td>230179</td>\n      <td>나리는 꽃가루에 눈이 따끔해 (아야)눈물이 고여도 꾹 참을래내 마음 한켠 비밀스런 ...</td>\n    </tr>\n    <tr>\n      <th>69</th>\n      <td>DM</td>\n      <td>프로미스나인</td>\n      <td>Midnight Guest</td>\n      <td>2022.01.17</td>\n      <td>댄스</td>\n      <td>20925</td>\n      <td>Hey you 지금 뭐 해잠깐 밖으로 나올래네가 보고 싶다고거울 속의 난 So pe...</td>\n    </tr>\n    <tr>\n      <th>76</th>\n      <td>롤린 (Rollin')</td>\n      <td>브레이브걸스</td>\n      <td>Rollin'</td>\n      <td>2017.03.07</td>\n      <td>댄스</td>\n      <td>290787</td>\n      <td>그 날을 잊지 못해 babe날 보며 환히 웃던 너의 미소에홀린 듯 I'm fall ...</td>\n    </tr>\n    <tr>\n      <th>78</th>\n      <td>Dun Dun Dance</td>\n      <td>오마이걸 (OH MY GIRL)</td>\n      <td>Dear OHMYGIRL</td>\n      <td>2021.05.10</td>\n      <td>댄스</td>\n      <td>151767</td>\n      <td>Dun Dun Dance Dun Dun DanceDun Dun DanceJust d...</td>\n    </tr>\n    <tr>\n      <th>82</th>\n      <td>작은 것들을 위한 시 (Boy With Luv) (Feat. Halsey)</td>\n      <td>방탄소년단</td>\n      <td>MAP OF THE SOUL : PERSONA</td>\n      <td>2019.04.12</td>\n      <td>댄스</td>\n      <td>431667</td>\n      <td>모든 게 궁금해How’s your dayOh tell me뭐가 널 행복하게 하는지O...</td>\n    </tr>\n    <tr>\n      <th>90</th>\n      <td>Queendom</td>\n      <td>Red Velvet (레드벨벳)</td>\n      <td>Queendom - The 6th Mini Album</td>\n      <td>2021.08.16</td>\n      <td>댄스</td>\n      <td>108447</td>\n      <td>QueensAh yeah ah yeahAh yeah ah yeahDururururu...</td>\n    </tr>\n    <tr>\n      <th>91</th>\n      <td>WA DA DA</td>\n      <td>Kep1er (케플러)</td>\n      <td>FIRST IMPACT</td>\n      <td>2022.01.03</td>\n      <td>댄스</td>\n      <td>21635</td>\n      <td>HeyIt’s you&amp; ILet’s startN N Now 도착한 이 PlaceWa...</td>\n    </tr>\n  </tbody>\n</table>\n</div>"
     },
     "execution_count": 184,
     "metadata": {},
     "output_type": "execute_result"
    }
   ],
   "source": [
    "#장르가 댄스인 행과 모든열을 선택하세요\n",
    "song_df.loc[song_df['장르'] == '댄스']"
   ],
   "metadata": {
    "collapsed": false,
    "pycharm": {
     "name": "#%%\n"
    }
   }
  },
  {
   "cell_type": "code",
   "execution_count": 197,
   "outputs": [
    {
     "data": {
      "text/plain": "                                           곡명                 가수  \\\n0                                   Step Back       GOT the beat   \n1                                      ELEVEN          IVE (아이브)   \n2                            Dreams Come True              aespa   \n3                                  Next Level              aespa   \n4                         SMILEY (Feat. BIBI)         YENA (최예나)   \n5                                      Savage              aespa   \n6                                      Butter              방탄소년단   \n7                                    Dynamite              방탄소년단   \n8                         Permission to Dance              방탄소년단   \n9                                     Weekend       태연 (TAEYEON)   \n10                                  Celebrity                아이유   \n11                                        라일락                아이유   \n12                                         DM             프로미스나인   \n13                               롤린 (Rollin')             브레이브걸스   \n14                              Dun Dun Dance  오마이걸 (OH MY GIRL)   \n15  작은 것들을 위한 시 (Boy With Luv) (Feat. Halsey)              방탄소년단   \n16                                   Queendom  Red Velvet (레드벨벳)   \n17                                   WA DA DA       Kep1er (케플러)   \n\n                               앨범         발매일  장르  \n0                       Step Back  2022.01.03  댄스  \n1                          ELEVEN  2021.12.01  댄스  \n2   Dreams Come True - SM STATION  2021.12.20  댄스  \n3                      Next Level  2021.05.17  댄스  \n4                    ˣ‿ˣ (SMiLEY)  2022.01.17  댄스  \n5     Savage - The 1st Mini Album  2021.10.05  댄스  \n6                          Butter  2021.05.21  댄스  \n7      Dynamite (DayTime Version)  2020.08.24  댄스  \n8    Butter / Permission to Dance  2021.07.09  댄스  \n9                         Weekend  2021.07.06  댄스  \n10           IU 5th Album 'LILAC'  2021.03.25  댄스  \n11           IU 5th Album 'LILAC'  2021.03.25  댄스  \n12                 Midnight Guest  2022.01.17  댄스  \n13                        Rollin'  2017.03.07  댄스  \n14                  Dear OHMYGIRL  2021.05.10  댄스  \n15      MAP OF THE SOUL : PERSONA  2019.04.12  댄스  \n16  Queendom - The 6th Mini Album  2021.08.16  댄스  \n17                   FIRST IMPACT  2022.01.03  댄스  ",
      "text/html": "<div>\n<style scoped>\n    .dataframe tbody tr th:only-of-type {\n        vertical-align: middle;\n    }\n\n    .dataframe tbody tr th {\n        vertical-align: top;\n    }\n\n    .dataframe thead th {\n        text-align: right;\n    }\n</style>\n<table border=\"1\" class=\"dataframe\">\n  <thead>\n    <tr style=\"text-align: right;\">\n      <th></th>\n      <th>곡명</th>\n      <th>가수</th>\n      <th>앨범</th>\n      <th>발매일</th>\n      <th>장르</th>\n    </tr>\n  </thead>\n  <tbody>\n    <tr>\n      <th>0</th>\n      <td>Step Back</td>\n      <td>GOT the beat</td>\n      <td>Step Back</td>\n      <td>2022.01.03</td>\n      <td>댄스</td>\n    </tr>\n    <tr>\n      <th>1</th>\n      <td>ELEVEN</td>\n      <td>IVE (아이브)</td>\n      <td>ELEVEN</td>\n      <td>2021.12.01</td>\n      <td>댄스</td>\n    </tr>\n    <tr>\n      <th>2</th>\n      <td>Dreams Come True</td>\n      <td>aespa</td>\n      <td>Dreams Come True - SM STATION</td>\n      <td>2021.12.20</td>\n      <td>댄스</td>\n    </tr>\n    <tr>\n      <th>3</th>\n      <td>Next Level</td>\n      <td>aespa</td>\n      <td>Next Level</td>\n      <td>2021.05.17</td>\n      <td>댄스</td>\n    </tr>\n    <tr>\n      <th>4</th>\n      <td>SMILEY (Feat. BIBI)</td>\n      <td>YENA (최예나)</td>\n      <td>ˣ‿ˣ (SMiLEY)</td>\n      <td>2022.01.17</td>\n      <td>댄스</td>\n    </tr>\n    <tr>\n      <th>5</th>\n      <td>Savage</td>\n      <td>aespa</td>\n      <td>Savage - The 1st Mini Album</td>\n      <td>2021.10.05</td>\n      <td>댄스</td>\n    </tr>\n    <tr>\n      <th>6</th>\n      <td>Butter</td>\n      <td>방탄소년단</td>\n      <td>Butter</td>\n      <td>2021.05.21</td>\n      <td>댄스</td>\n    </tr>\n    <tr>\n      <th>7</th>\n      <td>Dynamite</td>\n      <td>방탄소년단</td>\n      <td>Dynamite (DayTime Version)</td>\n      <td>2020.08.24</td>\n      <td>댄스</td>\n    </tr>\n    <tr>\n      <th>8</th>\n      <td>Permission to Dance</td>\n      <td>방탄소년단</td>\n      <td>Butter / Permission to Dance</td>\n      <td>2021.07.09</td>\n      <td>댄스</td>\n    </tr>\n    <tr>\n      <th>9</th>\n      <td>Weekend</td>\n      <td>태연 (TAEYEON)</td>\n      <td>Weekend</td>\n      <td>2021.07.06</td>\n      <td>댄스</td>\n    </tr>\n    <tr>\n      <th>10</th>\n      <td>Celebrity</td>\n      <td>아이유</td>\n      <td>IU 5th Album 'LILAC'</td>\n      <td>2021.03.25</td>\n      <td>댄스</td>\n    </tr>\n    <tr>\n      <th>11</th>\n      <td>라일락</td>\n      <td>아이유</td>\n      <td>IU 5th Album 'LILAC'</td>\n      <td>2021.03.25</td>\n      <td>댄스</td>\n    </tr>\n    <tr>\n      <th>12</th>\n      <td>DM</td>\n      <td>프로미스나인</td>\n      <td>Midnight Guest</td>\n      <td>2022.01.17</td>\n      <td>댄스</td>\n    </tr>\n    <tr>\n      <th>13</th>\n      <td>롤린 (Rollin')</td>\n      <td>브레이브걸스</td>\n      <td>Rollin'</td>\n      <td>2017.03.07</td>\n      <td>댄스</td>\n    </tr>\n    <tr>\n      <th>14</th>\n      <td>Dun Dun Dance</td>\n      <td>오마이걸 (OH MY GIRL)</td>\n      <td>Dear OHMYGIRL</td>\n      <td>2021.05.10</td>\n      <td>댄스</td>\n    </tr>\n    <tr>\n      <th>15</th>\n      <td>작은 것들을 위한 시 (Boy With Luv) (Feat. Halsey)</td>\n      <td>방탄소년단</td>\n      <td>MAP OF THE SOUL : PERSONA</td>\n      <td>2019.04.12</td>\n      <td>댄스</td>\n    </tr>\n    <tr>\n      <th>16</th>\n      <td>Queendom</td>\n      <td>Red Velvet (레드벨벳)</td>\n      <td>Queendom - The 6th Mini Album</td>\n      <td>2021.08.16</td>\n      <td>댄스</td>\n    </tr>\n    <tr>\n      <th>17</th>\n      <td>WA DA DA</td>\n      <td>Kep1er (케플러)</td>\n      <td>FIRST IMPACT</td>\n      <td>2022.01.03</td>\n      <td>댄스</td>\n    </tr>\n  </tbody>\n</table>\n</div>"
     },
     "execution_count": 197,
     "metadata": {},
     "output_type": "execute_result"
    }
   ],
   "source": [
    "#장르가 댄스인 행과 곡명부터 장르까지\n",
    "song_df.loc[song_df['장르']=='댄스','곡명':'장르'].reset_index(drop='index')  #조건을 걸고 출력할때 다시 인덱스를 없애기 위해 reset을 한다\n",
    "# reset을 하면 기존 인덱스가 새로운 컬럼으로 들어온다 하지만 reset인에 drop = 'index' 를 넣으면 인덱스가 없어진다.\n"
   ],
   "metadata": {
    "collapsed": false,
    "pycharm": {
     "name": "#%%\n"
    }
   }
  },
  {
   "cell_type": "code",
   "execution_count": 195,
   "outputs": [
    {
     "name": "stdout",
     "output_type": "stream",
     "text": [
      "117366.31\n"
     ]
    },
    {
     "data": {
      "text/plain": "                                               곡명                 가수  \\\n0                                       사랑은 늘 도망가                임영웅   \n4          회전목마 (Feat. Zion.T, 원슈타인) (Prod. Slom)           sokodomo   \n6                   리무진 (Feat. MINO) (Prod. GRAY)          BE'O (비오)   \n7                 Counting Stars (Feat. Beenzino)          BE'O (비오)   \n10                                      이제 나만 믿어요                임영웅   \n14                                            신호등                이무진   \n16                                           STAY      The Kid LAROI   \n19                                     Next Level              aespa   \n20                                strawberry moon                아이유   \n26                                         Savage              aespa   \n35                                         Butter              방탄소년단   \n40                                 OHAYO MY NIGHT        디핵 (D-Hack)   \n41                                       Dynamite              방탄소년단   \n45                            Permission to Dance              방탄소년단   \n48                                         바라만 본다      MSG워너비(M.O.M)   \n49                                    My Universe           Coldplay   \n50                                        Weekend       태연 (TAEYEON)   \n52                                      Celebrity                아이유   \n53                                  낙하 (with 아이유)          AKMU (악뮤)   \n58                                            라일락                아이유   \n59                                  밤하늘의 별을(2020)                 경서   \n60                                          헤픈 우연        헤이즈 (Heize)   \n62  사이렌 Remix (Feat. UNEDUCATED KID, Paul Blanco)                호미들   \n65                      어떻게 이별까지 사랑하겠어, 널 사랑하는 거지          AKMU (악뮤)   \n66          모든 날, 모든 순간 (Every day, Every Moment)                 폴킴   \n68                                        내 손을 잡아                아이유   \n73                                       너의 모든 순간                성시경   \n76                                   롤린 (Rollin')             브레이브걸스   \n77                                             봄날              방탄소년단   \n78                                  Dun Dun Dance  오마이걸 (OH MY GIRL)   \n80                                       Blueming                아이유   \n81       오늘도 빛나는 너에게 (To You My Light) (Feat.이라온)       마크툽 (MAKTUB)   \n82      작은 것들을 위한 시 (Boy With Luv) (Feat. Halsey)              방탄소년단   \n84                          취기를 빌려 (취향저격 그녀 X 산들)                 산들   \n88   Savage Love (Laxed - Siren Beat) (BTS Remix)          Jawsh 685   \n92                                            멜로디         ASH ISLAND   \n94                                   Life Goes On              방탄소년단   \n\n                                              앨범         발매일              장르  \\\n0                             신사와 아가씨 OST Part.2  2021.10.11      발라드, 국내드라마   \n4                             쇼미더머니 10 Episode 2  2021.11.13            랩/힙합   \n6                             쇼미더머니 10 Episode 3  2021.11.20            랩/힙합   \n7                                 Counting Stars  2021.12.12            랩/힙합   \n10                             내일은 미스터트롯 우승자 특전곡  2020.04.03            성인가요   \n14                                           신호등  2021.05.14            록/메탈   \n16                                          Stay  2021.07.09             POP   \n19                                    Next Level  2021.05.17              댄스   \n20                               strawberry moon  2021.10.19            록/메탈   \n26                   Savage - The 1st Mini Album  2021.10.05              댄스   \n35                                        Butter  2021.05.21              댄스   \n40                                OHAYO MY NIGHT  2020.06.20            랩/힙합   \n41                    Dynamite (DayTime Version)  2020.08.24              댄스   \n45                  Butter / Permission to Dance  2021.07.09              댄스   \n48                                     MSG워너비 1집  2021.06.26             발라드   \n49                                   My Universe  2021.09.24             POP   \n50                                       Weekend  2021.07.06              댄스   \n52                          IU 5th Album 'LILAC'  2021.03.25              댄스   \n53                                  NEXT EPISODE  2021.07.26            록/메탈   \n58                          IU 5th Album 'LILAC'  2021.03.25              댄스   \n59                                 밤하늘의 별을(2020)  2020.11.14             발라드   \n60                                        HAPPEN  2021.05.20        R&B/Soul   \n62                                     사이렌 Remix  2021.03.20            랩/힙합   \n65                                            항해  2019.09.25             발라드   \n66                       '키스 먼저 할까요?' OST Part.3  2018.03.20      발라드, 국내드라마   \n68                             최고의 사랑 OST Part.4  2011.05.25      발라드, 국내드라마   \n73                           별에서 온 그대 OST Part.7  2014.02.12      발라드, 국내드라마   \n76                                       Rollin'  2017.03.07              댄스   \n77                          YOU NEVER WALK ALONE  2017.02.13            랩/힙합   \n78                                 Dear OHMYGIRL  2021.05.10              댄스   \n80                                     Love poem  2019.11.18            록/메탈   \n81                    Red Moon : To You My Light  2019.06.09  R&B/Soul, 인디음악   \n82                     MAP OF THE SOUL : PERSONA  2019.04.12              댄스   \n84                         취기를 빌려 (취향저격 그녀 X 산들)  2020.07.20             발라드   \n88  Savage Love (Laxed - Siren Beat) [BTS Remix]  2020.10.02             POP   \n92                                           멜로디  2021.02.25            랩/힙합   \n94                                            BE  2020.11.20            랩/힙합   \n\n       좋아요                                                 가사  \n0   123992  눈물이 난다 이 길을 걸으면그 사람 손길이 자꾸 생각이 난다붙잡지 못하고 가슴만 떨...  \n4   186554  내가 슬플 때마다이 노래가 찾아와세상이 둥근 것처럼 우린 동글동글인생은 회전목마우린...  \n6   162366  까만 리무진 보며꿈을 키웠지언젠가는 나도 저걸 갖게 될 거야커다란 리무진에서 내가 ...  \n7   147754  Counting stars밤하늘에 펄Better than your LVYour LV...  \n10  146420  무얼 믿은 걸까 부족했던 내게서나조차 못 믿던 내게 여태 머문 사람무얼 봤던 걸까 ...  \n14  256451  이제야 목적지를 정했지만가려한 날 막아서네 난 갈 길이 먼데새빨간 얼굴로 화를 냈던...  \n16  202791  I do the same thing I told youthat I never wou...  \n19  235363  I’m on the Next Level Yeah절대적 룰을 지켜내 손을 놓지 말아결...  \n20  179842  달이 익어가니 서둘러 젊은 피야민들레 한 송이 들고사랑이 어지러이 떠다니는 밤이야날...  \n26  139537  Oh my gosh!Don't you know I’m a Savage?I’m a K...  \n35  263254  Smooth like butterLike a criminal undercoverGo...  \n40  172684  너를 사랑하고 있어너를 사랑하고 있어자기야 날 사랑해주면 안 될까말처럼 쉽지는 않은...  \n41  428691  Cos ah ahI’m in the stars tonightSo watch me b...  \n45  195015  It’s the thought of being youngWhen your heart...  \n48  168910  내가 너라면 다 알아볼 텐데널 위할 사람 찾아낼 텐데지난 오랜 시간 너의 그 곁을지...  \n49  147798  You, you are my universe andI just want to put...  \n50  159196  가장 가까운 바다혼자만의 영화관그냥 이끌리는 대로 해도 괜찮으니까Every morn...  \n52  312341  세상의 모서리구부정하게 커버린골칫거리 outsider걸음걸이, 옷차림, 이어폰 너머...  \n53  164605  말했잖아 언젠가이런 날이 온다면난 널 혼자 내버려두지 않을 거라고 죄다 낭떠러지야,...  \n58  230179  나리는 꽃가루에 눈이 따끔해 (아야)눈물이 고여도 꾹 참을래내 마음 한켠 비밀스런 ...  \n59  179975  밤하늘의 별을 따서 너에게 줄래 너는 내가 사랑하니까 더 소중하니까 오직 너 아니면...  \n60  168426  처음이라기엔 너무길을 이미 다 아는 듯이우연히라기엔 모두다 정해진 듯이우연히 눈을 ...  \n62  130257  울려댔어 사이렌텅 빈 길거리엔도망치다 흘린 칼자루와 피가 흥건해우리 그때 어릴땐뭘 ...  \n65  373839  일부러 몇 발자국 물러나내가 없이 혼자 걷는 널 바라본다옆자리 허전한 너의 풍경흑백...  \n66  385892  네가 없이 웃을 수 있을까생각만 해도 눈물이나힘든 시간 날 지켜준 사람이제는 내가 ...  \n68  180667  느낌이 오잖아 떨리고 있잖아언제까지 눈치만 볼 거니네 맘을 말해봐 딴청 피우지 말란...  \n73  189485  이윽고 내가 한눈에너를 알아봤을 때모든 건 분명 달라지고 있었어내 세상은 널 알기 ...  \n76  290787  그 날을 잊지 못해 babe날 보며 환히 웃던 너의 미소에홀린 듯 I'm fall ...  \n77  555844  보고 싶다이렇게 말하니까 더 보고 싶다너희 사진을 보고 있어도보고 싶다너무 야속한 ...  \n78  151767  Dun Dun Dance Dun Dun DanceDun Dun DanceJust d...  \n80  328420  ‘뭐해?‘라는 두 글자에‘네가 보고 싶어’ 나의 속마음을 담아 우이모티콘 하나하나 ...  \n81  255435  별빛이 내린 밤그 풍경 속 너와 나날 새롭게 하는따뜻하게 만드는니 눈빛 니 미소영원...  \n82  431667  모든 게 궁금해How’s your dayOh tell me뭐가 널 행복하게 하는지O...  \n84  209291  언제부턴가 불쑥내 습관이 돼버린 너혹시나 이런 맘이어쩌면 부담일까널 주저했어언제부턴...  \n88  192770  Savage loveDid somebody did somebodyBreak your...  \n92  125377  어딘가 들어본 듯한 이 Melody떠올라 작은 기억들이 My memories날 담은...  \n94  233288  어느 날 세상이 멈췄어아무런 예고도 하나 없이봄은 기다림을 몰라서눈치 없이 와버렸어...  ",
      "text/html": "<div>\n<style scoped>\n    .dataframe tbody tr th:only-of-type {\n        vertical-align: middle;\n    }\n\n    .dataframe tbody tr th {\n        vertical-align: top;\n    }\n\n    .dataframe thead th {\n        text-align: right;\n    }\n</style>\n<table border=\"1\" class=\"dataframe\">\n  <thead>\n    <tr style=\"text-align: right;\">\n      <th></th>\n      <th>곡명</th>\n      <th>가수</th>\n      <th>앨범</th>\n      <th>발매일</th>\n      <th>장르</th>\n      <th>좋아요</th>\n      <th>가사</th>\n    </tr>\n  </thead>\n  <tbody>\n    <tr>\n      <th>0</th>\n      <td>사랑은 늘 도망가</td>\n      <td>임영웅</td>\n      <td>신사와 아가씨 OST Part.2</td>\n      <td>2021.10.11</td>\n      <td>발라드, 국내드라마</td>\n      <td>123992</td>\n      <td>눈물이 난다 이 길을 걸으면그 사람 손길이 자꾸 생각이 난다붙잡지 못하고 가슴만 떨...</td>\n    </tr>\n    <tr>\n      <th>4</th>\n      <td>회전목마 (Feat. Zion.T, 원슈타인) (Prod. Slom)</td>\n      <td>sokodomo</td>\n      <td>쇼미더머니 10 Episode 2</td>\n      <td>2021.11.13</td>\n      <td>랩/힙합</td>\n      <td>186554</td>\n      <td>내가 슬플 때마다이 노래가 찾아와세상이 둥근 것처럼 우린 동글동글인생은 회전목마우린...</td>\n    </tr>\n    <tr>\n      <th>6</th>\n      <td>리무진 (Feat. MINO) (Prod. GRAY)</td>\n      <td>BE'O (비오)</td>\n      <td>쇼미더머니 10 Episode 3</td>\n      <td>2021.11.20</td>\n      <td>랩/힙합</td>\n      <td>162366</td>\n      <td>까만 리무진 보며꿈을 키웠지언젠가는 나도 저걸 갖게 될 거야커다란 리무진에서 내가 ...</td>\n    </tr>\n    <tr>\n      <th>7</th>\n      <td>Counting Stars (Feat. Beenzino)</td>\n      <td>BE'O (비오)</td>\n      <td>Counting Stars</td>\n      <td>2021.12.12</td>\n      <td>랩/힙합</td>\n      <td>147754</td>\n      <td>Counting stars밤하늘에 펄Better than your LVYour LV...</td>\n    </tr>\n    <tr>\n      <th>10</th>\n      <td>이제 나만 믿어요</td>\n      <td>임영웅</td>\n      <td>내일은 미스터트롯 우승자 특전곡</td>\n      <td>2020.04.03</td>\n      <td>성인가요</td>\n      <td>146420</td>\n      <td>무얼 믿은 걸까 부족했던 내게서나조차 못 믿던 내게 여태 머문 사람무얼 봤던 걸까 ...</td>\n    </tr>\n    <tr>\n      <th>14</th>\n      <td>신호등</td>\n      <td>이무진</td>\n      <td>신호등</td>\n      <td>2021.05.14</td>\n      <td>록/메탈</td>\n      <td>256451</td>\n      <td>이제야 목적지를 정했지만가려한 날 막아서네 난 갈 길이 먼데새빨간 얼굴로 화를 냈던...</td>\n    </tr>\n    <tr>\n      <th>16</th>\n      <td>STAY</td>\n      <td>The Kid LAROI</td>\n      <td>Stay</td>\n      <td>2021.07.09</td>\n      <td>POP</td>\n      <td>202791</td>\n      <td>I do the same thing I told youthat I never wou...</td>\n    </tr>\n    <tr>\n      <th>19</th>\n      <td>Next Level</td>\n      <td>aespa</td>\n      <td>Next Level</td>\n      <td>2021.05.17</td>\n      <td>댄스</td>\n      <td>235363</td>\n      <td>I’m on the Next Level Yeah절대적 룰을 지켜내 손을 놓지 말아결...</td>\n    </tr>\n    <tr>\n      <th>20</th>\n      <td>strawberry moon</td>\n      <td>아이유</td>\n      <td>strawberry moon</td>\n      <td>2021.10.19</td>\n      <td>록/메탈</td>\n      <td>179842</td>\n      <td>달이 익어가니 서둘러 젊은 피야민들레 한 송이 들고사랑이 어지러이 떠다니는 밤이야날...</td>\n    </tr>\n    <tr>\n      <th>26</th>\n      <td>Savage</td>\n      <td>aespa</td>\n      <td>Savage - The 1st Mini Album</td>\n      <td>2021.10.05</td>\n      <td>댄스</td>\n      <td>139537</td>\n      <td>Oh my gosh!Don't you know I’m a Savage?I’m a K...</td>\n    </tr>\n    <tr>\n      <th>35</th>\n      <td>Butter</td>\n      <td>방탄소년단</td>\n      <td>Butter</td>\n      <td>2021.05.21</td>\n      <td>댄스</td>\n      <td>263254</td>\n      <td>Smooth like butterLike a criminal undercoverGo...</td>\n    </tr>\n    <tr>\n      <th>40</th>\n      <td>OHAYO MY NIGHT</td>\n      <td>디핵 (D-Hack)</td>\n      <td>OHAYO MY NIGHT</td>\n      <td>2020.06.20</td>\n      <td>랩/힙합</td>\n      <td>172684</td>\n      <td>너를 사랑하고 있어너를 사랑하고 있어자기야 날 사랑해주면 안 될까말처럼 쉽지는 않은...</td>\n    </tr>\n    <tr>\n      <th>41</th>\n      <td>Dynamite</td>\n      <td>방탄소년단</td>\n      <td>Dynamite (DayTime Version)</td>\n      <td>2020.08.24</td>\n      <td>댄스</td>\n      <td>428691</td>\n      <td>Cos ah ahI’m in the stars tonightSo watch me b...</td>\n    </tr>\n    <tr>\n      <th>45</th>\n      <td>Permission to Dance</td>\n      <td>방탄소년단</td>\n      <td>Butter / Permission to Dance</td>\n      <td>2021.07.09</td>\n      <td>댄스</td>\n      <td>195015</td>\n      <td>It’s the thought of being youngWhen your heart...</td>\n    </tr>\n    <tr>\n      <th>48</th>\n      <td>바라만 본다</td>\n      <td>MSG워너비(M.O.M)</td>\n      <td>MSG워너비 1집</td>\n      <td>2021.06.26</td>\n      <td>발라드</td>\n      <td>168910</td>\n      <td>내가 너라면 다 알아볼 텐데널 위할 사람 찾아낼 텐데지난 오랜 시간 너의 그 곁을지...</td>\n    </tr>\n    <tr>\n      <th>49</th>\n      <td>My Universe</td>\n      <td>Coldplay</td>\n      <td>My Universe</td>\n      <td>2021.09.24</td>\n      <td>POP</td>\n      <td>147798</td>\n      <td>You, you are my universe andI just want to put...</td>\n    </tr>\n    <tr>\n      <th>50</th>\n      <td>Weekend</td>\n      <td>태연 (TAEYEON)</td>\n      <td>Weekend</td>\n      <td>2021.07.06</td>\n      <td>댄스</td>\n      <td>159196</td>\n      <td>가장 가까운 바다혼자만의 영화관그냥 이끌리는 대로 해도 괜찮으니까Every morn...</td>\n    </tr>\n    <tr>\n      <th>52</th>\n      <td>Celebrity</td>\n      <td>아이유</td>\n      <td>IU 5th Album 'LILAC'</td>\n      <td>2021.03.25</td>\n      <td>댄스</td>\n      <td>312341</td>\n      <td>세상의 모서리구부정하게 커버린골칫거리 outsider걸음걸이, 옷차림, 이어폰 너머...</td>\n    </tr>\n    <tr>\n      <th>53</th>\n      <td>낙하 (with 아이유)</td>\n      <td>AKMU (악뮤)</td>\n      <td>NEXT EPISODE</td>\n      <td>2021.07.26</td>\n      <td>록/메탈</td>\n      <td>164605</td>\n      <td>말했잖아 언젠가이런 날이 온다면난 널 혼자 내버려두지 않을 거라고 죄다 낭떠러지야,...</td>\n    </tr>\n    <tr>\n      <th>58</th>\n      <td>라일락</td>\n      <td>아이유</td>\n      <td>IU 5th Album 'LILAC'</td>\n      <td>2021.03.25</td>\n      <td>댄스</td>\n      <td>230179</td>\n      <td>나리는 꽃가루에 눈이 따끔해 (아야)눈물이 고여도 꾹 참을래내 마음 한켠 비밀스런 ...</td>\n    </tr>\n    <tr>\n      <th>59</th>\n      <td>밤하늘의 별을(2020)</td>\n      <td>경서</td>\n      <td>밤하늘의 별을(2020)</td>\n      <td>2020.11.14</td>\n      <td>발라드</td>\n      <td>179975</td>\n      <td>밤하늘의 별을 따서 너에게 줄래 너는 내가 사랑하니까 더 소중하니까 오직 너 아니면...</td>\n    </tr>\n    <tr>\n      <th>60</th>\n      <td>헤픈 우연</td>\n      <td>헤이즈 (Heize)</td>\n      <td>HAPPEN</td>\n      <td>2021.05.20</td>\n      <td>R&amp;B/Soul</td>\n      <td>168426</td>\n      <td>처음이라기엔 너무길을 이미 다 아는 듯이우연히라기엔 모두다 정해진 듯이우연히 눈을 ...</td>\n    </tr>\n    <tr>\n      <th>62</th>\n      <td>사이렌 Remix (Feat. UNEDUCATED KID, Paul Blanco)</td>\n      <td>호미들</td>\n      <td>사이렌 Remix</td>\n      <td>2021.03.20</td>\n      <td>랩/힙합</td>\n      <td>130257</td>\n      <td>울려댔어 사이렌텅 빈 길거리엔도망치다 흘린 칼자루와 피가 흥건해우리 그때 어릴땐뭘 ...</td>\n    </tr>\n    <tr>\n      <th>65</th>\n      <td>어떻게 이별까지 사랑하겠어, 널 사랑하는 거지</td>\n      <td>AKMU (악뮤)</td>\n      <td>항해</td>\n      <td>2019.09.25</td>\n      <td>발라드</td>\n      <td>373839</td>\n      <td>일부러 몇 발자국 물러나내가 없이 혼자 걷는 널 바라본다옆자리 허전한 너의 풍경흑백...</td>\n    </tr>\n    <tr>\n      <th>66</th>\n      <td>모든 날, 모든 순간 (Every day, Every Moment)</td>\n      <td>폴킴</td>\n      <td>'키스 먼저 할까요?' OST Part.3</td>\n      <td>2018.03.20</td>\n      <td>발라드, 국내드라마</td>\n      <td>385892</td>\n      <td>네가 없이 웃을 수 있을까생각만 해도 눈물이나힘든 시간 날 지켜준 사람이제는 내가 ...</td>\n    </tr>\n    <tr>\n      <th>68</th>\n      <td>내 손을 잡아</td>\n      <td>아이유</td>\n      <td>최고의 사랑 OST Part.4</td>\n      <td>2011.05.25</td>\n      <td>발라드, 국내드라마</td>\n      <td>180667</td>\n      <td>느낌이 오잖아 떨리고 있잖아언제까지 눈치만 볼 거니네 맘을 말해봐 딴청 피우지 말란...</td>\n    </tr>\n    <tr>\n      <th>73</th>\n      <td>너의 모든 순간</td>\n      <td>성시경</td>\n      <td>별에서 온 그대 OST Part.7</td>\n      <td>2014.02.12</td>\n      <td>발라드, 국내드라마</td>\n      <td>189485</td>\n      <td>이윽고 내가 한눈에너를 알아봤을 때모든 건 분명 달라지고 있었어내 세상은 널 알기 ...</td>\n    </tr>\n    <tr>\n      <th>76</th>\n      <td>롤린 (Rollin')</td>\n      <td>브레이브걸스</td>\n      <td>Rollin'</td>\n      <td>2017.03.07</td>\n      <td>댄스</td>\n      <td>290787</td>\n      <td>그 날을 잊지 못해 babe날 보며 환히 웃던 너의 미소에홀린 듯 I'm fall ...</td>\n    </tr>\n    <tr>\n      <th>77</th>\n      <td>봄날</td>\n      <td>방탄소년단</td>\n      <td>YOU NEVER WALK ALONE</td>\n      <td>2017.02.13</td>\n      <td>랩/힙합</td>\n      <td>555844</td>\n      <td>보고 싶다이렇게 말하니까 더 보고 싶다너희 사진을 보고 있어도보고 싶다너무 야속한 ...</td>\n    </tr>\n    <tr>\n      <th>78</th>\n      <td>Dun Dun Dance</td>\n      <td>오마이걸 (OH MY GIRL)</td>\n      <td>Dear OHMYGIRL</td>\n      <td>2021.05.10</td>\n      <td>댄스</td>\n      <td>151767</td>\n      <td>Dun Dun Dance Dun Dun DanceDun Dun DanceJust d...</td>\n    </tr>\n    <tr>\n      <th>80</th>\n      <td>Blueming</td>\n      <td>아이유</td>\n      <td>Love poem</td>\n      <td>2019.11.18</td>\n      <td>록/메탈</td>\n      <td>328420</td>\n      <td>‘뭐해?‘라는 두 글자에‘네가 보고 싶어’ 나의 속마음을 담아 우이모티콘 하나하나 ...</td>\n    </tr>\n    <tr>\n      <th>81</th>\n      <td>오늘도 빛나는 너에게 (To You My Light) (Feat.이라온)</td>\n      <td>마크툽 (MAKTUB)</td>\n      <td>Red Moon : To You My Light</td>\n      <td>2019.06.09</td>\n      <td>R&amp;B/Soul, 인디음악</td>\n      <td>255435</td>\n      <td>별빛이 내린 밤그 풍경 속 너와 나날 새롭게 하는따뜻하게 만드는니 눈빛 니 미소영원...</td>\n    </tr>\n    <tr>\n      <th>82</th>\n      <td>작은 것들을 위한 시 (Boy With Luv) (Feat. Halsey)</td>\n      <td>방탄소년단</td>\n      <td>MAP OF THE SOUL : PERSONA</td>\n      <td>2019.04.12</td>\n      <td>댄스</td>\n      <td>431667</td>\n      <td>모든 게 궁금해How’s your dayOh tell me뭐가 널 행복하게 하는지O...</td>\n    </tr>\n    <tr>\n      <th>84</th>\n      <td>취기를 빌려 (취향저격 그녀 X 산들)</td>\n      <td>산들</td>\n      <td>취기를 빌려 (취향저격 그녀 X 산들)</td>\n      <td>2020.07.20</td>\n      <td>발라드</td>\n      <td>209291</td>\n      <td>언제부턴가 불쑥내 습관이 돼버린 너혹시나 이런 맘이어쩌면 부담일까널 주저했어언제부턴...</td>\n    </tr>\n    <tr>\n      <th>88</th>\n      <td>Savage Love (Laxed - Siren Beat) (BTS Remix)</td>\n      <td>Jawsh 685</td>\n      <td>Savage Love (Laxed - Siren Beat) [BTS Remix]</td>\n      <td>2020.10.02</td>\n      <td>POP</td>\n      <td>192770</td>\n      <td>Savage loveDid somebody did somebodyBreak your...</td>\n    </tr>\n    <tr>\n      <th>92</th>\n      <td>멜로디</td>\n      <td>ASH ISLAND</td>\n      <td>멜로디</td>\n      <td>2021.02.25</td>\n      <td>랩/힙합</td>\n      <td>125377</td>\n      <td>어딘가 들어본 듯한 이 Melody떠올라 작은 기억들이 My memories날 담은...</td>\n    </tr>\n    <tr>\n      <th>94</th>\n      <td>Life Goes On</td>\n      <td>방탄소년단</td>\n      <td>BE</td>\n      <td>2020.11.20</td>\n      <td>랩/힙합</td>\n      <td>233288</td>\n      <td>어느 날 세상이 멈췄어아무런 예고도 하나 없이봄은 기다림을 몰라서눈치 없이 와버렸어...</td>\n    </tr>\n  </tbody>\n</table>\n</div>"
     },
     "execution_count": 195,
     "metadata": {},
     "output_type": "execute_result"
    }
   ],
   "source": [
    "\n",
    "song_df.loc[song_df['좋아요'] > song_df['좋아요'].mean()]"
   ],
   "metadata": {
    "collapsed": false,
    "pycharm": {
     "name": "#%%\n"
    }
   }
  },
  {
   "cell_type": "code",
   "execution_count": 200,
   "outputs": [
    {
     "data": {
      "text/plain": "79262.0"
     },
     "execution_count": 200,
     "metadata": {},
     "output_type": "execute_result"
    }
   ],
   "source": [
    "song_df['좋아요'].max()\n",
    "song_df['좋아요'].min()\n",
    "song_df['좋아요'].median()"
   ],
   "metadata": {
    "collapsed": false,
    "pycharm": {
     "name": "#%%\n"
    }
   }
  },
  {
   "cell_type": "code",
   "execution_count": 207,
   "outputs": [
    {
     "data": {
      "text/plain": "                                               곡명                 가수     좋아요\n0                                              봄날              방탄소년단  555844\n1       작은 것들을 위한 시 (Boy With Luv) (Feat. Halsey)              방탄소년단  431667\n2                                        Dynamite              방탄소년단  428691\n3           모든 날, 모든 순간 (Every day, Every Moment)                 폴킴  385892\n4                       어떻게 이별까지 사랑하겠어, 널 사랑하는 거지          AKMU (악뮤)  373839\n5                                        Blueming                아이유  328420\n6                                       Celebrity                아이유  312341\n7                                    롤린 (Rollin')             브레이브걸스  290787\n8                                          Butter              방탄소년단  263254\n9                                             신호등                이무진  256451\n10       오늘도 빛나는 너에게 (To You My Light) (Feat.이라온)       마크툽 (MAKTUB)  255435\n11                                     Next Level              aespa  235363\n12                                   Life Goes On              방탄소년단  233288\n13                                            라일락                아이유  230179\n14                          취기를 빌려 (취향저격 그녀 X 산들)                 산들  209291\n15                                           STAY      The Kid LAROI  202791\n16                            Permission to Dance              방탄소년단  195015\n17   Savage Love (Laxed - Siren Beat) (BTS Remix)          Jawsh 685  192770\n18                                       너의 모든 순간                성시경  189485\n19         회전목마 (Feat. Zion.T, 원슈타인) (Prod. Slom)           sokodomo  186554\n20                                        내 손을 잡아                아이유  180667\n21                                  밤하늘의 별을(2020)                 경서  179975\n22                                strawberry moon                아이유  179842\n23                                 OHAYO MY NIGHT        디핵 (D-Hack)  172684\n24                                         바라만 본다      MSG워너비(M.O.M)  168910\n25                                          헤픈 우연        헤이즈 (Heize)  168426\n26                                  낙하 (with 아이유)          AKMU (악뮤)  164605\n27                  리무진 (Feat. MINO) (Prod. GRAY)          BE'O (비오)  162366\n28                                        Weekend       태연 (TAEYEON)  159196\n29                                  Dun Dun Dance  오마이걸 (OH MY GIRL)  151767\n30                                    My Universe           Coldplay  147798\n31                Counting Stars (Feat. Beenzino)          BE'O (비오)  147754\n32                                      이제 나만 믿어요                임영웅  146420\n33                                         Savage              aespa  139537\n34  사이렌 Remix (Feat. UNEDUCATED KID, Paul Blanco)                호미들  130257\n35                                            멜로디         ASH ISLAND  125377\n36                                      사랑은 늘 도망가                임영웅  123992",
      "text/html": "<div>\n<style scoped>\n    .dataframe tbody tr th:only-of-type {\n        vertical-align: middle;\n    }\n\n    .dataframe tbody tr th {\n        vertical-align: top;\n    }\n\n    .dataframe thead th {\n        text-align: right;\n    }\n</style>\n<table border=\"1\" class=\"dataframe\">\n  <thead>\n    <tr style=\"text-align: right;\">\n      <th></th>\n      <th>곡명</th>\n      <th>가수</th>\n      <th>좋아요</th>\n    </tr>\n  </thead>\n  <tbody>\n    <tr>\n      <th>0</th>\n      <td>봄날</td>\n      <td>방탄소년단</td>\n      <td>555844</td>\n    </tr>\n    <tr>\n      <th>1</th>\n      <td>작은 것들을 위한 시 (Boy With Luv) (Feat. Halsey)</td>\n      <td>방탄소년단</td>\n      <td>431667</td>\n    </tr>\n    <tr>\n      <th>2</th>\n      <td>Dynamite</td>\n      <td>방탄소년단</td>\n      <td>428691</td>\n    </tr>\n    <tr>\n      <th>3</th>\n      <td>모든 날, 모든 순간 (Every day, Every Moment)</td>\n      <td>폴킴</td>\n      <td>385892</td>\n    </tr>\n    <tr>\n      <th>4</th>\n      <td>어떻게 이별까지 사랑하겠어, 널 사랑하는 거지</td>\n      <td>AKMU (악뮤)</td>\n      <td>373839</td>\n    </tr>\n    <tr>\n      <th>5</th>\n      <td>Blueming</td>\n      <td>아이유</td>\n      <td>328420</td>\n    </tr>\n    <tr>\n      <th>6</th>\n      <td>Celebrity</td>\n      <td>아이유</td>\n      <td>312341</td>\n    </tr>\n    <tr>\n      <th>7</th>\n      <td>롤린 (Rollin')</td>\n      <td>브레이브걸스</td>\n      <td>290787</td>\n    </tr>\n    <tr>\n      <th>8</th>\n      <td>Butter</td>\n      <td>방탄소년단</td>\n      <td>263254</td>\n    </tr>\n    <tr>\n      <th>9</th>\n      <td>신호등</td>\n      <td>이무진</td>\n      <td>256451</td>\n    </tr>\n    <tr>\n      <th>10</th>\n      <td>오늘도 빛나는 너에게 (To You My Light) (Feat.이라온)</td>\n      <td>마크툽 (MAKTUB)</td>\n      <td>255435</td>\n    </tr>\n    <tr>\n      <th>11</th>\n      <td>Next Level</td>\n      <td>aespa</td>\n      <td>235363</td>\n    </tr>\n    <tr>\n      <th>12</th>\n      <td>Life Goes On</td>\n      <td>방탄소년단</td>\n      <td>233288</td>\n    </tr>\n    <tr>\n      <th>13</th>\n      <td>라일락</td>\n      <td>아이유</td>\n      <td>230179</td>\n    </tr>\n    <tr>\n      <th>14</th>\n      <td>취기를 빌려 (취향저격 그녀 X 산들)</td>\n      <td>산들</td>\n      <td>209291</td>\n    </tr>\n    <tr>\n      <th>15</th>\n      <td>STAY</td>\n      <td>The Kid LAROI</td>\n      <td>202791</td>\n    </tr>\n    <tr>\n      <th>16</th>\n      <td>Permission to Dance</td>\n      <td>방탄소년단</td>\n      <td>195015</td>\n    </tr>\n    <tr>\n      <th>17</th>\n      <td>Savage Love (Laxed - Siren Beat) (BTS Remix)</td>\n      <td>Jawsh 685</td>\n      <td>192770</td>\n    </tr>\n    <tr>\n      <th>18</th>\n      <td>너의 모든 순간</td>\n      <td>성시경</td>\n      <td>189485</td>\n    </tr>\n    <tr>\n      <th>19</th>\n      <td>회전목마 (Feat. Zion.T, 원슈타인) (Prod. Slom)</td>\n      <td>sokodomo</td>\n      <td>186554</td>\n    </tr>\n    <tr>\n      <th>20</th>\n      <td>내 손을 잡아</td>\n      <td>아이유</td>\n      <td>180667</td>\n    </tr>\n    <tr>\n      <th>21</th>\n      <td>밤하늘의 별을(2020)</td>\n      <td>경서</td>\n      <td>179975</td>\n    </tr>\n    <tr>\n      <th>22</th>\n      <td>strawberry moon</td>\n      <td>아이유</td>\n      <td>179842</td>\n    </tr>\n    <tr>\n      <th>23</th>\n      <td>OHAYO MY NIGHT</td>\n      <td>디핵 (D-Hack)</td>\n      <td>172684</td>\n    </tr>\n    <tr>\n      <th>24</th>\n      <td>바라만 본다</td>\n      <td>MSG워너비(M.O.M)</td>\n      <td>168910</td>\n    </tr>\n    <tr>\n      <th>25</th>\n      <td>헤픈 우연</td>\n      <td>헤이즈 (Heize)</td>\n      <td>168426</td>\n    </tr>\n    <tr>\n      <th>26</th>\n      <td>낙하 (with 아이유)</td>\n      <td>AKMU (악뮤)</td>\n      <td>164605</td>\n    </tr>\n    <tr>\n      <th>27</th>\n      <td>리무진 (Feat. MINO) (Prod. GRAY)</td>\n      <td>BE'O (비오)</td>\n      <td>162366</td>\n    </tr>\n    <tr>\n      <th>28</th>\n      <td>Weekend</td>\n      <td>태연 (TAEYEON)</td>\n      <td>159196</td>\n    </tr>\n    <tr>\n      <th>29</th>\n      <td>Dun Dun Dance</td>\n      <td>오마이걸 (OH MY GIRL)</td>\n      <td>151767</td>\n    </tr>\n    <tr>\n      <th>30</th>\n      <td>My Universe</td>\n      <td>Coldplay</td>\n      <td>147798</td>\n    </tr>\n    <tr>\n      <th>31</th>\n      <td>Counting Stars (Feat. Beenzino)</td>\n      <td>BE'O (비오)</td>\n      <td>147754</td>\n    </tr>\n    <tr>\n      <th>32</th>\n      <td>이제 나만 믿어요</td>\n      <td>임영웅</td>\n      <td>146420</td>\n    </tr>\n    <tr>\n      <th>33</th>\n      <td>Savage</td>\n      <td>aespa</td>\n      <td>139537</td>\n    </tr>\n    <tr>\n      <th>34</th>\n      <td>사이렌 Remix (Feat. UNEDUCATED KID, Paul Blanco)</td>\n      <td>호미들</td>\n      <td>130257</td>\n    </tr>\n    <tr>\n      <th>35</th>\n      <td>멜로디</td>\n      <td>ASH ISLAND</td>\n      <td>125377</td>\n    </tr>\n    <tr>\n      <th>36</th>\n      <td>사랑은 늘 도망가</td>\n      <td>임영웅</td>\n      <td>123992</td>\n    </tr>\n  </tbody>\n</table>\n</div>"
     },
     "execution_count": 207,
     "metadata": {},
     "output_type": "execute_result"
    }
   ],
   "source": [
    "like = song_df.loc[song_df['좋아요'] >= song_df['좋아요'].mean(),['곡명','가수','좋아요']]\n",
    "like.sort_values(by = '좋아요',ascending=False).reset_index(drop=True)"
   ],
   "metadata": {
    "collapsed": false,
    "pycharm": {
     "name": "#%%\n"
    }
   }
  },
  {
   "cell_type": "code",
   "execution_count": null,
   "outputs": [],
   "source": [],
   "metadata": {
    "collapsed": false,
    "pycharm": {
     "name": "#%%\n"
    }
   }
  }
 ],
 "metadata": {
  "kernelspec": {
   "display_name": "Python 3",
   "language": "python",
   "name": "python3"
  },
  "language_info": {
   "codemirror_mode": {
    "name": "ipython",
    "version": 2
   },
   "file_extension": ".py",
   "mimetype": "text/x-python",
   "name": "python",
   "nbconvert_exporter": "python",
   "pygments_lexer": "ipython2",
   "version": "2.7.6"
  }
 },
 "nbformat": 4,
 "nbformat_minor": 0
}