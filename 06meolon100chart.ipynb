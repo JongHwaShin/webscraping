{
 "cells": [
  {
   "cell_type": "markdown",
   "source": [
    "### Melon100 Chart\n",
    "* 100곡의 노래의 제목과 SongId 추출해서 list에 저장\n",
    "* 노래의 상세정보를 추출해서 list와 dict에 저장해서 json 파일로 저장하기\n",
    "* json 파일을 load 하여 Pandas의 DataFrame에 저장하기\n",
    "* DataFrame 객체를 DB에 Table에 저장하기"
   ],
   "metadata": {
    "collapsed": false
   }
  },
  {
   "cell_type": "code",
   "execution_count": 1,
   "metadata": {
    "collapsed": true
   },
   "outputs": [],
   "source": [
    "import requests\n",
    "from bs4 import BeautifulSoup\n",
    "import re"
   ]
  },
  {
   "cell_type": "code",
   "execution_count": 30,
   "outputs": [
    {
     "name": "stdout",
     "output_type": "stream",
     "text": [
      "100\n"
     ]
    }
   ],
   "source": [
    "url = 'https://www.melon.com/chart/index.htm'\n",
    "rec_hearder_dict = {\n",
    "    'User-Agent': 'Mozilla/5.0 (Macintosh; Intel Mac OS X 10_15_7) AppleWebKit/537.36 (KHTML, like Gecko) Chrome/97.0.4692.99 Safari/537.36'\n",
    "}\n",
    "\n",
    "res = requests.get(url,headers=rec_hearder_dict)\n",
    "\n",
    "if res.ok:\n",
    "    html = res.text\n",
    "    soup = BeautifulSoup(html,'html.parser')\n",
    "    # print(len(soup.select(\"div#tb_list tr a[href*='playSong']\")))\n",
    "    a_tags = soup.select(\"div#tb_list tr a[href*='playSong']\")\n",
    "    song_info_list = []\n",
    "    for idx,a_tag in enumerate(a_tags,1):\n",
    "        song_dict = {}\n",
    "        song_title = a_tag.text\n",
    "        href_value = a_tag['href']\n",
    "        song_dict['song_title'] = song_title\n",
    "        # print(href_value)\n",
    "        # print(idx,song_title)\n",
    "        #정규표현식 사용 사이트 regexr.com\n",
    "        # href에 있는 songid의 값을 찾기위해\n",
    "        mached = re.search(r'(\\d+)\\);',href_value) #정규표현식 re 라이브러리 사용 정규표현식 쓸때는 r''사용\n",
    "        if mached :  ##songid가 있으면\n",
    "            song_id = mached.group(1) ##group(0)은 ); 아 포함된거 group(1)은 숫자만 포함된거임!\n",
    "            song_dict['song_id'] = song_id\n",
    "            song_detail_url = f'https://www.melon.com/song/detail.htm?songId={song_id}'\n",
    "            song_dict['song_detail_url'] = song_detail_url\n",
    "            # print(song_id,song_detail_url)\n",
    "            # print(song_dict)\n",
    "        song_info_list.append(song_dict)\n"
   ],
   "metadata": {
    "collapsed": false,
    "pycharm": {
     "name": "#%%\n"
    }
   }
  },
  {
   "cell_type": "code",
   "execution_count": null,
   "outputs": [],
   "source": [],
   "metadata": {
    "collapsed": false,
    "pycharm": {
     "name": "#%%\n"
    }
   }
  }
 ],
 "metadata": {
  "kernelspec": {
   "display_name": "Python 3",
   "language": "python",
   "name": "python3"
  },
  "language_info": {
   "codemirror_mode": {
    "name": "ipython",
    "version": 2
   },
   "file_extension": ".py",
   "mimetype": "text/x-python",
   "name": "python",
   "nbconvert_exporter": "python",
   "pygments_lexer": "ipython2",
   "version": "2.7.6"
  }
 },
 "nbformat": 4,
 "nbformat_minor": 0
}